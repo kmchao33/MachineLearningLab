{
 "cells": [
  {
   "cell_type": "markdown",
   "metadata": {},
   "source": [
    "## Applying Hierarchical LDA Model\n",
    "\n",
    "Hierarchical Latent Dirichlet Allocation (hLDA) addresses the problem of learning topic hierarchies from data. The model relies on a non-parametric prior called the nested Chinese restaurant process, which allows for arbitrarily large branching factors and readily accommodates growing data collections. The hLDA model combines this prior with a likelihood that is based on a hierarchical variant of latent Dirichlet allocation.\n",
    "\n",
    "Idea inspired from [Hierarchical Topic Models and the Nested Chinese Restaurant Process](http://www.cs.columbia.edu/~blei/papers/BleiGriffithsJordanTenenbaum2003.pdf)"
   ]
  },
  {
   "cell_type": "markdown",
   "metadata": {},
   "source": [
    "<font color=\"blue\"/>\n",
    "\n",
    "### dsp:\n",
    "  * &#x1f642; Wow! That is something extra. Great!\n",
    "  * To reference a scientific publication, you should give more complete data, e.g. for the 2010 version of the document: \"David M. Blei, Thomas L. Griffiths, and Michael I. Jordan. 2010. The nested chinese restaurant process and bayesian nonparametric inference of topic hierarchies. J. ACM 57, 2, Article 7 (February 2010), 30 pages. DOI: https://doi.org/10.1145/1667053.1667056\""
   ]
  },
  {
   "cell_type": "markdown",
   "metadata": {},
   "source": [
    "#### Hierarchical LDA Model example\n",
    "![Hierarchical LDA Model example](Hierarchical_LDA_Model_example.png)"
   ]
  },
  {
   "cell_type": "code",
   "execution_count": null,
   "metadata": {},
   "outputs": [],
   "source": [
    "from gensim import corpora, models, similarities\n",
    "from gensim.corpora.dictionary import Dictionary\n",
    "from gensim.models.ldamodel import LdaModel\n",
    "from gensim.models.ldamulticore import LdaMulticore\n",
    "import pyLDAvis.gensim\n",
    "import os\n",
    "import pickle\n",
    "import pandas as pd\n",
    "import numpy as np\n",
    "import warnings\n",
    "pyLDAvis.enable_notebook()"
   ]
  },
  {
   "cell_type": "markdown",
   "metadata": {},
   "source": [
    "<font color=\"blue\"/>\n",
    "\n",
    "### dsp:\n",
    "  * Sorting and adding empty lines might make this import list more accessible."
   ]
  },
  {
   "cell_type": "markdown",
   "metadata": {},
   "source": [
    "#### 1. Apply the initial LDA Model -- In order to group those documents which are seemed to belong to the same topic\n",
    "- params:\n",
    "    - folder_path: cleand preprocessed data folder\n",
    "    - non_german_file_path: a list of all English files\n",
    "    - topic_num: topics numbers to choose while training the model\n",
    "    - document_limit: restrict the number of documents to process\n",
    "- variables:\n",
    "    - gensim_dictionary: [Dictionay](https://radimrehurek.com/gensim/corpora/dictionary.html) type, defined by gesim library \n",
    "    - corpus: doc2bow, tokenized and nomalized list\n",
    "    - lda: LDA model after training with given dataset"
   ]
  },
  {
   "cell_type": "markdown",
   "metadata": {},
   "source": [
    "<font color=\"blue\"/>\n",
    "\n",
    "### dsp:\n",
    "  * \"are seemed\" ~> \"seem\"\n",
    "  * What you call a \"path\" here you have been calling a \"folder\" before."
   ]
  },
  {
   "cell_type": "code",
   "execution_count": null,
   "metadata": {},
   "outputs": [],
   "source": [
    "def initialLDAModel(folder_path, non_german_file_path, topic_num=50, document_limit=1000):\n",
    "    \n",
    "    #get a list of non_german files\n",
    "    non_german_files = []\n",
    "    with open(non_german_file_path, 'r') as fr:\n",
    "        for line in fr:\n",
    "            non_german_files.append(line.strip())\n",
    "    \n",
    "    dictionary = []\n",
    "    filenames = []\n",
    "    \n",
    "    for root, dirs, files in os.walk(folder_path):\n",
    "        for f in files:\n",
    "            if f[:-11] not in non_german_files:\n",
    "                document_limit -= 1\n",
    "                try:\n",
    "                    with open(root+'/'+f, 'rb') as fr:\n",
    "                        filenames.append(f)\n",
    "                        document_tokens = pickle.load(fr)\n",
    "                        dictionary.append(document_tokens)\n",
    "                except:\n",
    "                    print('Error while processing: ', f)\n",
    "            \n",
    "            if document_limit == 0:\n",
    "                break\n",
    "    \n",
    "    gensim_dictionary = Dictionary(dictionary)\n",
    "    corpus = [gensim_dictionary.doc2bow(text) for text in dictionary]\n",
    "    lda = LdaModel(corpus, num_topics=topic_num, id2word=gensim_dictionary, iterations=200)\n",
    "    topics = lda.show_topics(num_topics=-1, num_words=20)\n",
    "    \n",
    "    doc_pos = 0\n",
    "    mat = np.zeros((len(filenames), topic_num))\n",
    "\n",
    "    for doc in corpus:\n",
    "        vector = lda[doc] # get topic probability distribution for a document\n",
    "        for element in vector:\n",
    "            mat[doc_pos][element[0]] = element[1]\n",
    "        doc_pos += 1\n",
    "        \n",
    "    df = pd.DataFrame(mat, index=filenames, columns=range(0,topic_num))\n",
    "    \n",
    "    return df"
   ]
  },
  {
   "cell_type": "markdown",
   "metadata": {},
   "source": [
    "<font color=\"blue\"/>\n",
    "\n",
    "### dsp:\n",
    "  * The first half of this function could be a function in its own right. I think I have seen similar code in other notebooks as well."
   ]
  },
  {
   "cell_type": "markdown",
   "metadata": {},
   "source": [
    "Please check the [Folder Structure](01-Convert_JSON_to_TXT.ipynb) if there is running error.\n",
    "\n",
    "**non_german_files.txt** should be located in the same folder, if not, please use the absolute path to locaate that file."
   ]
  },
  {
   "cell_type": "code",
   "execution_count": null,
   "metadata": {},
   "outputs": [],
   "source": [
    "%%time\n",
    "warnings.filterwarnings(\"ignore\")\n",
    "#please modify the path\n",
    "# non_german_file_path = '/home/bit/ma0/LabShare/data/non_german_files.txt'\n",
    "# processed_doc_path = '/home/bit/ma0/LabShare/data/chui_ma/spacy_corpus/'\n",
    "\n",
    "#relative path\n",
    "non_german_file_path = './non_german_files.txt'\n",
    "processed_doc_path = '../spacy_corpus/'\n",
    "df = initialLDAModel(processed_doc_path, non_german_file_path, 50, 500)"
   ]
  },
  {
   "cell_type": "markdown",
   "metadata": {},
   "source": [
    "<font color=\"blue\"/>\n",
    "\n",
    "### dsp:\n",
    "  * Do you know, which warning you suppress? Did you check whether it is OK to ignore them? Are there no other warnings?"
   ]
  },
  {
   "cell_type": "markdown",
   "metadata": {},
   "source": [
    "#### Group topic related documents by assuming that belong to the same topic with the probability larget than 0.3\n",
    "- params: \n",
    "    - df: pandas DataFrame, each column represents one topic, and each row indicates the probability of that document belongs to this topic\n",
    "- variables: \n",
    "    - topic_related_documents: list, contain group of doucment names which seem to belong to the same topic"
   ]
  },
  {
   "cell_type": "code",
   "execution_count": 5,
   "metadata": {},
   "outputs": [],
   "source": [
    "def get_Topic_Related_Doc(df):  \n",
    "    \n",
    "    topic_related_documents = []\n",
    "    \n",
    "    for column in range(df.shape[1]):\n",
    "        row_count = 0\n",
    "        for row in range(df.shape[0]):\n",
    "            if df.iat[row, column] > 0.3:\n",
    "                row_count += 1\n",
    "        topic_related_documents.append(df.nlargest(row_count, column).index)\n",
    "    \n",
    "    return topic_related_documents"
   ]
  },
  {
   "cell_type": "markdown",
   "metadata": {},
   "source": [
    "#### 2. Apply the HierachicalLDA LDA Model \n",
    "- params:\n",
    "    - folder_path: cleand preprocessed data folder\n",
    "    - non_german_file_path: a list of all English files\n",
    "    - topic_num: topics numbers to choose while training the model\n",
    "    - document_limit: restrict the number of documents to process\n",
    "- variables:\n",
    "    - gensim_dictionary: [Dictionay](https://radimrehurek.com/gensim/corpora/dictionary.html) type, defined by gesim library \n",
    "    - corpus: doc2bow, tokenized and nomalized list\n",
    "    - lda: LDA model after training with given dataset"
   ]
  },
  {
   "cell_type": "code",
   "execution_count": null,
   "metadata": {},
   "outputs": [],
   "source": [
    "def hierachicalLDA(folder_path, non_german_file_path, topic_related_documents, topic_num=5, document_limit=1000):\n",
    "    #get a list of non_german files\n",
    "    non_german_files = []\n",
    "    with open(non_german_file_path, 'r') as fr:\n",
    "        for line in fr:\n",
    "            non_german_files.append(line.strip())\n",
    "            \n",
    "    dictionary = []\n",
    "    filenames = []\n",
    "    for root, dirs, files in os.walk(folder_path):\n",
    "        for f in sorted(files):\n",
    "            if f in topic_related_documents:\n",
    "                if f[:-11] not in non_german_files:\n",
    "                    with open(root+'/'+f, 'rb') as fr:\n",
    "                        filenames.append(f)\n",
    "                        document_tokens = pickle.load(fr)\n",
    "                        dictionary.append(document_tokens)\n",
    "\n",
    "    gensim_dictionary = Dictionary(dictionary)\n",
    "    corpus = [gensim_dictionary.doc2bow(text) for text in dictionary]\n",
    "    lda = models.ldamodel.LdaModel(corpus, num_topics=topic_num, id2word=gensim_dictionary, iterations=200)\n",
    "    topics = lda.show_topics(num_topics=-1, num_words=20)\n",
    "    \n",
    "    return lda, corpus, gensim_dictionary"
   ]
  },
  {
   "cell_type": "markdown",
   "metadata": {},
   "source": [
    "<font color=\"blue\"/>\n",
    "\n",
    "### dsp:\n",
    "  * This is probably the special part of this notebook.\n",
    "  * You did not document the parameter `topic_related_documents`.\n",
    "  * Does this parameter realized the \"hierarchical\" aspect of your \"hierarchical LDA\"?\n",
    "  * You do not seem to pass a document list containing only \"topic related\" documents, do you?"
   ]
  },
  {
   "cell_type": "code",
   "execution_count": 7,
   "metadata": {},
   "outputs": [],
   "source": [
    "docs = get_Topic_Related_Doc(df)"
   ]
  },
  {
   "cell_type": "markdown",
   "metadata": {},
   "source": [
    "#### Visualize the topic model by pyLDAvis library\n",
    "- params: \n",
    "    - folder_path: cleand preprocessed data folder\n",
    "    - docs: group of documents after initial LDA Model\n",
    "    - topic_num: topics number to choose"
   ]
  },
  {
   "cell_type": "code",
   "execution_count": null,
   "metadata": {},
   "outputs": [],
   "source": [
    "def visualization(data_path, docs, topic_num):\n",
    "    \n",
    "    #only visualize those topics with more than 5 documents\n",
    "    if len(docs) > 5:\n",
    "        lda, corpus, dictionary = hierachicalLDA(data_path, non_german_file_path, docs, topic_num)\n",
    "        return pyLDAvis.gensim.prepare(lda, corpus, dictionary)\n",
    "    \n",
    "    else:\n",
    "        print('Cannot visualize, Too less documents')"
   ]
  },
  {
   "cell_type": "markdown",
   "metadata": {},
   "source": [
    "<font color=\"blue\"/>\n",
    "\n",
    "### dsp:\n",
    "  * \"Too less documents\" ~> \"Too few documents\""
   ]
  },
  {
   "cell_type": "markdown",
   "metadata": {},
   "source": [
    "Give a simple example, apply the Hierarchical LDA on one topic that has the maximum related documents."
   ]
  },
  {
   "cell_type": "code",
   "execution_count": 9,
   "metadata": {},
   "outputs": [
    {
     "data": {
      "text/html": [
       "\n",
       "<link rel=\"stylesheet\" type=\"text/css\" href=\"https://cdn.rawgit.com/bmabey/pyLDAvis/files/ldavis.v1.0.0.css\">\n",
       "\n",
       "\n",
       "<div id=\"ldavis_el73171403377533939368796252606\"></div>\n",
       "<script type=\"text/javascript\">\n",
       "\n",
       "var ldavis_el73171403377533939368796252606_data = {\"mdsDat\": {\"x\": [-0.005744942780067558, -0.004192002328615067, 0.009936945108682623], \"y\": [0.00624739673064639, -0.006934060414714026, 0.0006866636840676376], \"topics\": [1, 2, 3], \"cluster\": [1, 1, 1], \"Freq\": [54.019630432128906, 42.41815948486328, 3.56221342086792]}, \"tinfo\": {\"Category\": [\"Default\", \"Default\", \"Default\", \"Default\", \"Default\", \"Default\", \"Default\", \"Default\", \"Default\", \"Default\", \"Default\", \"Default\", \"Default\", \"Default\", \"Default\", \"Default\", \"Default\", \"Default\", \"Default\", \"Default\", \"Default\", \"Default\", \"Default\", \"Default\", \"Default\", \"Default\", \"Default\", \"Default\", \"Default\", \"Default\", \"Topic1\", \"Topic1\", \"Topic1\", \"Topic1\", \"Topic1\", \"Topic1\", \"Topic1\", \"Topic1\", \"Topic1\", \"Topic1\", \"Topic1\", \"Topic1\", \"Topic1\", \"Topic1\", \"Topic1\", \"Topic1\", \"Topic1\", \"Topic1\", \"Topic1\", \"Topic1\", \"Topic1\", \"Topic1\", \"Topic1\", \"Topic1\", \"Topic1\", \"Topic1\", \"Topic1\", \"Topic1\", \"Topic1\", \"Topic1\", \"Topic1\", \"Topic1\", \"Topic1\", \"Topic1\", \"Topic1\", \"Topic1\", \"Topic1\", \"Topic1\", \"Topic1\", \"Topic1\", \"Topic1\", \"Topic1\", \"Topic1\", \"Topic1\", \"Topic1\", \"Topic1\", \"Topic1\", \"Topic1\", \"Topic1\", \"Topic1\", \"Topic1\", \"Topic1\", \"Topic1\", \"Topic1\", \"Topic1\", \"Topic1\", \"Topic1\", \"Topic1\", \"Topic1\", \"Topic1\", \"Topic1\", \"Topic1\", \"Topic1\", \"Topic1\", \"Topic1\", \"Topic1\", \"Topic1\", \"Topic1\", \"Topic1\", \"Topic1\", \"Topic1\", \"Topic1\", \"Topic1\", \"Topic1\", \"Topic1\", \"Topic1\", \"Topic1\", \"Topic1\", \"Topic1\", \"Topic1\", \"Topic1\", \"Topic1\", \"Topic1\", \"Topic1\", \"Topic1\", \"Topic2\", \"Topic2\", \"Topic2\", \"Topic2\", \"Topic2\", \"Topic2\", \"Topic2\", \"Topic2\", \"Topic2\", \"Topic2\", \"Topic2\", \"Topic2\", \"Topic2\", \"Topic2\", \"Topic2\", \"Topic2\", \"Topic2\", \"Topic2\", \"Topic2\", \"Topic2\", \"Topic2\", \"Topic2\", \"Topic2\", \"Topic2\", \"Topic2\", \"Topic2\", \"Topic2\", \"Topic2\", \"Topic2\", \"Topic2\", \"Topic2\", \"Topic2\", \"Topic2\", \"Topic2\", \"Topic2\", \"Topic2\", \"Topic2\", \"Topic2\", \"Topic2\", \"Topic2\", \"Topic2\", \"Topic2\", \"Topic2\", \"Topic2\", \"Topic2\", \"Topic2\", \"Topic2\", \"Topic2\", \"Topic2\", \"Topic2\", \"Topic2\", \"Topic2\", \"Topic2\", \"Topic2\", \"Topic2\", \"Topic2\", \"Topic2\", \"Topic2\", \"Topic2\", \"Topic2\", \"Topic2\", \"Topic2\", \"Topic2\", \"Topic2\", \"Topic2\", \"Topic2\", \"Topic2\", \"Topic2\", \"Topic2\", \"Topic2\", \"Topic2\", \"Topic2\", \"Topic2\", \"Topic2\", \"Topic2\", \"Topic2\", \"Topic2\", \"Topic2\", \"Topic2\", \"Topic2\", \"Topic2\", \"Topic2\", \"Topic2\", \"Topic2\", \"Topic2\", \"Topic2\", \"Topic2\", \"Topic2\", \"Topic3\", \"Topic3\", \"Topic3\", \"Topic3\", \"Topic3\", \"Topic3\", \"Topic3\", \"Topic3\", \"Topic3\", \"Topic3\", \"Topic3\", \"Topic3\", \"Topic3\", \"Topic3\", \"Topic3\", \"Topic3\", \"Topic3\", \"Topic3\", \"Topic3\", \"Topic3\", \"Topic3\", \"Topic3\", \"Topic3\", \"Topic3\", \"Topic3\", \"Topic3\", \"Topic3\", \"Topic3\", \"Topic3\", \"Topic3\", \"Topic3\", \"Topic3\", \"Topic3\", \"Topic3\", \"Topic3\", \"Topic3\", \"Topic3\", \"Topic3\", \"Topic3\", \"Topic3\", \"Topic3\", \"Topic3\", \"Topic3\", \"Topic3\", \"Topic3\", \"Topic3\", \"Topic3\", \"Topic3\", \"Topic3\", \"Topic3\", \"Topic3\", \"Topic3\", \"Topic3\", \"Topic3\", \"Topic3\", \"Topic3\", \"Topic3\", \"Topic3\", \"Topic3\", \"Topic3\", \"Topic3\", \"Topic3\", \"Topic3\", \"Topic3\", \"Topic3\", \"Topic3\", \"Topic3\", \"Topic3\", \"Topic3\", \"Topic3\", \"Topic3\", \"Topic3\", \"Topic3\", \"Topic3\", \"Topic3\", \"Topic3\", \"Topic3\", \"Topic3\"], \"Freq\": [780.0, 708.0, 911.0, 935.0, 678.0, 647.0, 588.0, 698.0, 607.0, 444.0, 451.0, 498.0, 429.0, 394.0, 746.0, 532.0, 310.0, 414.0, 401.0, 450.0, 364.0, 428.0, 333.0, 341.0, 442.0, 858.0, 281.0, 298.0, 337.0, 304.0, 2.510943651199341, 2.4769623279571533, 7.249515533447266, 2.4356682300567627, 19.056020736694336, 4.546943664550781, 6.174419403076172, 3.0747039318084717, 4.254302978515625, 2.718449354171753, 2.345008134841919, 4.0282511711120605, 3.7289516925811768, 2.486473321914673, 3.7981247901916504, 2.2094061374664307, 1.4596631526947021, 9.450222969055176, 2.426368474960327, 5.572940349578857, 11.367681503295898, 1.4524668455123901, 3.0472586154937744, 1.4450849294662476, 1.4403148889541626, 1.4420194625854492, 1.4365432262420654, 1.442196249961853, 6.21117639541626, 17.313743591308594, 33.29291915893555, 20.085845947265625, 31.452545166015625, 7.82298469543457, 5.239443302154541, 112.29679870605469, 306.5832824707031, 95.77194213867188, 17.993240356445312, 46.62623596191406, 32.5891227722168, 595.5137939453125, 489.4711608886719, 146.8533935546875, 116.6996841430664, 290.6150817871094, 49.974464416503906, 273.44708251953125, 526.6510620117188, 17.72347640991211, 34.1214485168457, 250.2870330810547, 98.6903305053711, 555.4716186523438, 84.68689727783203, 57.545997619628906, 71.81977844238281, 244.73501586914062, 88.11695861816406, 171.8221435546875, 95.90914916992188, 168.94134521484375, 219.0234375, 253.78172302246094, 235.70606994628906, 127.89945983886719, 227.7473602294922, 246.35159301757812, 191.34840393066406, 107.82946014404297, 320.23834228515625, 191.28253173828125, 356.66583251953125, 305.99822998046875, 386.939697265625, 188.01165771484375, 339.3432922363281, 262.30517578125, 332.44049072265625, 262.8254699707031, 194.5948944091797, 193.76956176757812, 269.0855407714844, 213.1833953857422, 181.28125, 5.121428489685059, 15.467864990234375, 4.828856945037842, 2.4549288749694824, 2.4862232208251953, 3.370598316192627, 1.8890571594238281, 2.5022616386413574, 2.580716609954834, 1.9206264019012451, 1.884339690208435, 5.491552829742432, 1.9746553897857666, 3.6494431495666504, 2.485983371734619, 1.9739693403244019, 1.8123470544815063, 1.8227694034576416, 1.7529919147491455, 3.8376078605651855, 1.8151451349258423, 1.925264596939087, 7.773301124572754, 1.8479000329971313, 1.8844107389450073, 1.9334574937820435, 1.9078196287155151, 1.7155516147613525, 1.9182342290878296, 2.9400041103363037, 6.0214619636535645, 5.116227626800537, 3.5764689445495605, 5.4146728515625, 5.364710330963135, 8.774343490600586, 10.583330154418945, 355.8783874511719, 7.443830490112305, 142.30921936035156, 42.33551788330078, 25.91096305847168, 120.22206115722656, 88.69343566894531, 65.56317138671875, 13.664108276367188, 345.6680603027344, 95.06488800048828, 78.57408142089844, 32.70310974121094, 219.89234924316406, 254.800048828125, 150.50563049316406, 71.02391052246094, 359.78778076171875, 118.16901397705078, 315.44403076171875, 80.85670471191406, 320.9617919921875, 84.32705688476562, 86.33353424072266, 45.93912124633789, 133.8815155029297, 156.37484741210938, 261.51593017578125, 267.64630126953125, 97.97701263427734, 218.3476104736328, 107.29029083251953, 70.74037170410156, 352.6789245605469, 156.09779357910156, 316.98614501953125, 157.98048400878906, 183.3401336669922, 137.93467712402344, 147.9886932373047, 168.49765014648438, 287.03631591796875, 160.25877380371094, 171.21043395996094, 241.07566833496094, 148.82591247558594, 156.87942504882812, 138.1813201904297, 136.13648986816406, 147.2549285888672, 139.86434936523438, 0.5156592130661011, 0.5095902681350708, 0.4228973388671875, 0.5800083875656128, 0.40721452236175537, 0.875041127204895, 0.2384163737297058, 0.31043124198913574, 0.15247230231761932, 0.22808726131916046, 0.22865401208400726, 0.22818581759929657, 0.15056030452251434, 0.5333282947540283, 0.14950086176395416, 1.4391099214553833, 0.14905554056167603, 0.14900781214237213, 0.37068450450897217, 0.14782309532165527, 0.14541244506835938, 0.29016968607902527, 0.14485575258731842, 0.3647293150424957, 0.14400380849838257, 0.14347462356090546, 0.14258961379528046, 0.1411588340997696, 0.14234524965286255, 0.1419973522424698, 0.42639315128326416, 0.5685853958129883, 0.3547132611274719, 0.21202556788921356, 0.4816451072692871, 0.28186434507369995, 1.9517675638198853, 3.317643880844116, 1.8455114364624023, 0.40222886204719543, 6.756547451019287, 33.3304557800293, 30.510406494140625, 0.8251563906669617, 19.18460464477539, 1.7770941257476807, 18.261552810668945, 13.031844139099121, 23.919570922851562, 21.089595794677734, 7.583028316497803, 16.09879493713379, 22.085147857666016, 28.638551712036133, 17.36064910888672, 20.100627899169922, 14.395544052124023, 27.317249298095703, 8.976397514343262, 21.102027893066406, 5.481579780578613, 12.702113151550293, 10.513487815856934, 11.770216941833496, 13.20328426361084, 11.776729583740234, 13.312418937683105, 6.169921875, 9.754714012145996, 10.121262550354004, 14.43221378326416, 13.014228820800781, 10.112195014953613, 12.379990577697754, 16.222131729125977, 11.919939994812012, 14.720884323120117, 10.460323333740234], \"Term\": [\"vorjahr\", \"ergebnis\", \"h\\u00f6he\", \"quartal\", \"konzern\", \"unternehmen\", \"risiko\", \"entwicklung\", \"gesch\\u00e4ftsjahr\", \"markt\", \"aktie\", \"ifrs\", \"juni\", \"wesentliche\", \"segment\", \"gruppe\", \"verbindlichkeit\", \"rahmen\", \"kunde\", \"verm\\u00f6genswerte\", \"dezember\", \"umsatz\", \"gesellschaft\", \"aufsichtsrat\", \"anteil\", \"milliarde\", \"enden\", \"vorstehen\", \"r\\u00fcckgang\", \"aufwendung\", \"\\u00fcberleitungstabelle\", \"herstellungskostensituation\", \"zuckermarkt\", \"segmentberichte\", \"spezialit\\u00e4t\", \"wanze\", \"bioethanol\", \"biokraftstoffe\", \"biokraftstoffen\", \"umstrukturierungsfonds\", \"zuckererzeugung\", \"preisanstieg\", \"erneuerbare\", \"bioethanolpreise\", \"vertriebslinien\", \"umsatzanteil\", \"produktrisiken\", \"s\\u00fcdzucker\", \"r\\u00fcbenanbauern\", \"mobilfunkkunden\", \"karten\", \"weltmarktzuckerpreises\", \"raffinerie\", \"w\\u00e4hrungsertr\\u00e4ge\", \"gesamterfolg\", \"jahresumsatz\", \"energiepflanzenbau\", \"fremdkapitalkonditionen\", \"fruchtzubereitungen\", \"regulierung\", \"zucker\", \"sonderfaktoren\", \"online\", \"turbo\", \"ethanolpreise\", \"april\", \"umsatz\", \"ebitda\", \"frucht\", \"festnetz\", \"wechselkurseffekte\", \"h\\u00f6he\", \"segment\", \"leistung\", \"mobile\", \"verm\\u00f6genswerte\", \"internet\", \"juni\", \"milliarde\", \"serviceums\\u00e4tze\", \"sondereinfl\\u00fcsse\", \"wesentliche\", \"zeitraum\", \"quartal\", \"erl\\u00f6sen\", \"november\", \"verf\\u00fcgung\", \"rahmen\", \"verm\\u00f6genswerten\", \"mitarbeiter\", \"berater\", \"enden\", \"bereich\", \"markt\", \"monat\", \"investition\", \"kunde\", \"anteil\", \"gesellschaft\", \"chance\", \"gesch\\u00e4ftsjahr\", \"r\\u00fcckgang\", \"entwicklung\", \"risiko\", \"vorjahr\", \"halbjahr\", \"konzern\", \"ifrs\", \"ergebnis\", \"gruppe\", \"gesch\\u00e4ft\", \"dezember\", \"unternehmen\", \"aktie\", \"aufsichtsrat\", \"anlagenbau\", \"indus\", \"rolko\", \"besitz\\u00fcbergang\", \"mieterl\\u00f6se\", \"metalltechnik\", \"houten\", \"mietgarantien\", \"eltherm\", \"kapitalgesellschaften\", \"personalaufwandsquote\", \"viii\", \"komitee\", \"telematik\", \"kunststoffklebetechnik\", \"dsmb\", \"immobilienerwerbe\", \"entsch\\u00e4digungszahlung\", \"leerstandsquote\", \"auftragslage\", \"schaffhausen\", \"bric\", \"hella\", \"deals\", \"wachstumsziel\", \"wesentlich\", \"data\", \"liquidit\\u00e4tsbestand\", \"antik\\u00f6rpers\", \"materialaufwandsquote\", \"fertigung\", \"reinfektion\", \"gesundheitstechnik\", \"maschinenbau\", \"elektronik\", \"dreieich\", \"komponente\", \"unternehmen\", \"mittlerer\", \"wachstum\", \"beispiel\", \"powern\", \"zusammenhang\", \"bank\", \"verg\\u00fctung\", \"vergleichswert\", \"ergebnis\", \"wert\", \"zins\", \"beendigung\", \"aktie\", \"gruppe\", \"vorstehen\", \"berichtszeitraum\", \"vorjahr\", \"ertrag\", \"konzern\", \"gewinnen\", \"entwicklung\", \"ber\\u00fccksichtigung\", \"beteiligung\", \"absatz\", \"steuer\", \"anstieg\", \"risiko\", \"gesch\\u00e4ftsjahr\", \"gmbh\", \"ifrs\", \"mitglied\", \"produkt\", \"quartal\", \"gesch\\u00e4ft\", \"milliarde\", \"dezember\", \"anteil\", \"\\u00e4nderung\", \"aufsichtsrat\", \"monat\", \"h\\u00f6he\", \"kunde\", \"markt\", \"segment\", \"bereich\", \"rahmen\", \"halbjahr\", \"r\\u00fcckgang\", \"verm\\u00f6genswerte\", \"juni\", \"umstrukturierungsabgabe\", \"umstrukturierungsbeihilfe\", \"bioethanolanlage\", \"altmarkt\", \"quotenr\\u00fcckgabe\", \"galerie\", \"gallone\", \"werksschlie\\u00dfungen\", \"zuckerrohr\", \"mdax\", \"zahlungseingang\", \"produktionsst\\u00e4tte\", \"beimischungsverpflichtungen\", \"umstrukturierungsphase\", \"umstrukturierung\", \"s\\u00fcdzucker\", \"jahresverbrauchs\", \"zuckermarktreform\", \"euroshop\", \"verhandlungsmandat\", \"brand\", \"main\", \"apfelsaftkonzentrate\", \"versorgungslage\", \"einmalbelastung\", \"optionspr\\u00e4mie\", \"wertanpassung\", \"centeraufwendungen\", \"versicherungserstattungen\", \"exportkontingent\", \"wandelanleihe\", \"biokraftstoffen\", \"quotenzucker\", \"fremdgesellschafter\", \"kampagnejahr\", \"welle\", \"spezialit\\u00e4t\", \"zucker\", \"frucht\", \"miteigent\\u00fcmer\", \"verg\\u00fctung\", \"vorjahr\", \"ergebnis\", \"italcementi\", \"markt\", \"heidelbergcement\", \"aktie\", \"verbindlichkeit\", \"konzern\", \"risiko\", \"bewertung\", \"juni\", \"unternehmen\", \"h\\u00f6he\", \"ifrs\", \"gesch\\u00e4ftsjahr\", \"wesentliche\", \"quartal\", \"leistung\", \"entwicklung\", \"bedeutung\", \"dezember\", \"enden\", \"gesellschaft\", \"kunde\", \"aufsichtsrat\", \"rahmen\", \"information\", \"forderung\", \"vorstehen\", \"gruppe\", \"verm\\u00f6genswerte\", \"aufwendung\", \"anteil\", \"segment\", \"umsatz\", \"milliarde\", \"r\\u00fcckgang\"], \"Total\": [780.0, 708.0, 911.0, 935.0, 678.0, 647.0, 588.0, 698.0, 607.0, 444.0, 451.0, 498.0, 429.0, 394.0, 746.0, 532.0, 310.0, 414.0, 401.0, 450.0, 364.0, 428.0, 333.0, 341.0, 442.0, 858.0, 281.0, 298.0, 337.0, 304.0, 3.005557060241699, 3.002140760421753, 8.854564666748047, 2.977893590927124, 23.63446807861328, 5.709917068481445, 7.76503849029541, 3.8943445682525635, 5.390163421630859, 3.446519136428833, 2.982830286026001, 5.137202262878418, 4.78428316116333, 3.1943910121917725, 4.882873058319092, 2.8494315147399902, 1.8848100900650024, 12.217866897583008, 3.1434504985809326, 7.224074840545654, 14.800603866577148, 1.8922145366668701, 3.97053861618042, 1.8849804401397705, 1.8795326948165894, 1.883704423904419, 1.877795934677124, 1.8890551328659058, 8.143874168395996, 22.758514404296875, 43.87167739868164, 26.57195281982422, 41.88489532470703, 10.304403305053711, 6.908592224121094, 152.79736328125, 428.5525817871094, 131.45606994628906, 24.067745208740234, 64.02262115478516, 45.1858024597168, 911.1886596679688, 746.7689208984375, 217.97438049316406, 172.5106658935547, 450.88421630859375, 71.65036010742188, 429.41021728515625, 858.3580932617188, 24.296445846557617, 48.43184280395508, 394.9087219238281, 148.45816040039062, 935.4677734375, 128.43167114257812, 85.2000961303711, 108.22332000732422, 414.9268493652344, 137.73826599121094, 286.9833984375, 151.3121795654297, 281.93048095703125, 376.81842041015625, 444.1767578125, 412.0624084472656, 209.41162109375, 401.20941162109375, 442.07171630859375, 333.6283264160156, 173.1982879638672, 607.9852905273438, 337.87933349609375, 698.7296752929688, 588.603759765625, 780.0579223632812, 333.8852844238281, 678.7069091796875, 498.013427734375, 708.618896484375, 532.0576782226562, 359.0218200683594, 364.4521789550781, 647.049072265625, 451.3373107910156, 341.04669189453125, 6.289022445678711, 19.860509872436523, 6.35615348815918, 3.3025026321411133, 3.344978094100952, 4.5363664627075195, 2.5638272762298584, 3.4179604053497314, 3.5335659980773926, 2.6348354816436768, 2.5902509689331055, 7.5579423904418945, 2.7295854091644287, 5.059025764465332, 3.4519777297973633, 2.743614912033081, 2.5208611488342285, 2.5410337448120117, 2.4450716972351074, 5.386111259460449, 2.562443733215332, 2.7187182903289795, 11.07029914855957, 2.6336307525634766, 2.6879429817199707, 2.7624776363372803, 2.7340409755706787, 2.464081287384033, 2.759798765182495, 4.239884853363037, 8.697155952453613, 7.396235942840576, 5.162519931793213, 7.884796619415283, 7.810809135437012, 12.909351348876953, 16.026119232177734, 647.049072265625, 11.176451683044434, 255.64739990234375, 70.4900131225586, 42.48388671875, 223.19813537597656, 160.97010803222656, 116.49551391601562, 21.672029495239258, 708.618896484375, 176.0265655517578, 143.1986541748047, 55.677879333496094, 451.3373107910156, 532.0576782226562, 298.4039001464844, 131.0821990966797, 780.0579223632812, 230.5470733642578, 678.7069091796875, 152.22991943359375, 698.7296752929688, 161.20350646972656, 165.84837341308594, 82.61028289794922, 271.899658203125, 325.2624816894531, 588.603759765625, 607.9852905273438, 196.5108642578125, 498.013427734375, 221.6544952392578, 137.09849548339844, 935.4677734375, 359.0218200683594, 858.3580932617188, 364.4521789550781, 442.07171630859375, 310.1744689941406, 341.04669189453125, 412.0624084472656, 911.1886596679688, 401.20941162109375, 444.1767578125, 746.7689208984375, 376.81842041015625, 414.9268493652344, 333.8852844238281, 337.87933349609375, 450.88421630859375, 429.41021728515625, 3.455563545227051, 3.499022960662842, 2.909510850906372, 4.09470796585083, 3.018707752227783, 6.685530185699463, 1.829176902770996, 2.5088987350463867, 1.245374321937561, 1.876280426979065, 1.894420862197876, 1.897877812385559, 1.2571555376052856, 4.464846611022949, 1.2647826671600342, 12.217866897583008, 1.267958641052246, 1.2677288055419922, 3.184156894683838, 1.2761523723602295, 1.2928986549377441, 2.5924720764160156, 1.2960236072540283, 3.267286539077759, 1.300628900527954, 1.305586338043213, 1.3104374408721924, 1.3012422323226929, 1.3124499320983887, 1.314967155456543, 3.9751014709472656, 5.390163421630859, 3.3472604751586914, 1.9744113683700562, 4.749834060668945, 2.6943068504333496, 23.63446807861328, 43.87167739868164, 24.067745208740234, 4.137523174285889, 116.49551391601562, 780.0579223632812, 708.618896484375, 9.706036567687988, 444.1767578125, 25.16480827331543, 451.3373107910156, 310.18780517578125, 678.7069091796875, 588.603759765625, 162.06236267089844, 429.41021728515625, 647.049072265625, 911.1886596679688, 498.013427734375, 607.9852905273438, 394.9087219238281, 935.4677734375, 217.97438049316406, 698.7296752929688, 113.03492736816406, 364.4521789550781, 281.93048095703125, 333.6283264160156, 401.20941162109375, 341.04669189453125, 414.9268493652344, 134.88711547851562, 275.7825927734375, 298.4039001464844, 532.0576782226562, 450.88421630859375, 304.4308166503906, 442.07171630859375, 746.7689208984375, 428.5525817871094, 858.3580932617188, 337.87933349609375], \"loglift\": [30.0, 29.0, 28.0, 27.0, 26.0, 25.0, 24.0, 23.0, 22.0, 21.0, 20.0, 19.0, 18.0, 17.0, 16.0, 15.0, 14.0, 13.0, 12.0, 11.0, 10.0, 9.0, 8.0, 7.0, 6.0, 5.0, 4.0, 3.0, 2.0, 1.0, 0.4359999895095825, 0.4235000014305115, 0.415800005197525, 0.4147999882698059, 0.40049999952316284, 0.3880999982357025, 0.38659998774528503, 0.37950000166893005, 0.3792000114917755, 0.3785000145435333, 0.3752000033855438, 0.3725999891757965, 0.36660000681877136, 0.3652999997138977, 0.3646000027656555, 0.3614000082015991, 0.3601999878883362, 0.35899999737739563, 0.35690000653266907, 0.3562999963760376, 0.35190001130104065, 0.3513000011444092, 0.35120001435279846, 0.35010001063346863, 0.349700003862381, 0.34860000014305115, 0.3479999899864197, 0.3458999991416931, 0.3449000120162964, 0.3424000144004822, 0.3398999869823456, 0.335999995470047, 0.3294000029563904, 0.3402999937534332, 0.3393000066280365, 0.30790001153945923, 0.2809000015258789, 0.29910001158714294, 0.3249000012874603, 0.2987000048160553, 0.289000004529953, 0.19050000607967377, 0.19339999556541443, 0.22089999914169312, 0.22499999403953552, 0.17659999430179596, 0.2554999887943268, 0.16449999809265137, 0.12729999423027039, 0.3003999888896942, 0.2655999958515167, 0.1597999930381775, 0.20749999582767487, 0.09459999948740005, 0.19939999282360077, 0.22339999675750732, 0.20579999685287476, 0.08789999783039093, 0.16910000145435333, 0.10289999842643738, 0.1598999947309494, 0.10369999706745148, 0.07320000231266022, 0.05609999969601631, 0.05719999969005585, 0.12280000001192093, 0.04960000142455101, 0.031099999323487282, 0.05990000069141388, 0.14190000295639038, -0.025299999862909317, 0.04690000042319298, -0.05660000070929527, -0.03840000182390213, -0.08529999852180481, 0.04149999842047691, -0.07739999890327454, -0.025299999862909317, -0.14100000262260437, -0.08940000087022781, 0.0034000000450760126, -0.01590000092983246, -0.26159998774528503, -0.13420000672340393, -0.016100000590085983, 0.6521999835968018, 0.6075999736785889, 0.5827999711036682, 0.5609999895095825, 0.5608999729156494, 0.5605999827384949, 0.5522000193595886, 0.5457000136375427, 0.54339998960495, 0.5414000153541565, 0.5393999814987183, 0.5382000207901001, 0.5338000059127808, 0.531000018119812, 0.5292999744415283, 0.5284000039100647, 0.5275999903678894, 0.5253999829292297, 0.5248000025749207, 0.5185999870300293, 0.5127999782562256, 0.512499988079071, 0.5040000081062317, 0.5033000111579895, 0.5023999810218811, 0.5008000135421753, 0.49779999256134033, 0.49549999833106995, 0.49380001425743103, 0.49149999022483826, 0.48989999294281006, 0.48899999260902405, 0.49050000309944153, 0.48179998993873596, 0.48190000653266907, 0.4715000092983246, 0.44269999861717224, 0.259799987077713, 0.451200008392334, 0.2718000113964081, 0.34769999980926514, 0.36309999227523804, 0.23890000581741333, 0.26159998774528503, 0.28279998898506165, 0.39629998803138733, 0.13979999721050262, 0.24150000512599945, 0.2574000060558319, 0.3255000114440918, 0.13850000500679016, 0.12129999697208405, 0.17309999465942383, 0.24480000138282776, 0.08370000123977661, 0.18930000066757202, 0.09139999747276306, 0.2249000072479248, 0.07970000058412552, 0.20960000157356262, 0.20469999313354492, 0.27079999446868896, 0.14910000562667847, 0.12520000338554382, 0.046300001442432404, 0.03709999844431877, 0.1615999937057495, 0.03310000151395798, 0.13199999928474426, 0.19589999318122864, -0.11789999902248383, 0.024700000882148743, -0.13860000669956207, 0.021700000390410423, -0.02250000089406967, 0.047200001776218414, 0.022700000554323196, -0.03669999912381172, -0.29750001430511475, -0.060100000351667404, -0.09570000320672989, -0.27309998869895935, -0.0714000016450882, -0.11500000208616257, -0.02459999918937683, -0.05139999836683273, -0.2615000009536743, -0.26409998536109924, 1.4325000047683716, 1.4082000255584717, 1.4062000513076782, 1.3803999423980713, 1.3315000534057617, 1.3013999462127686, 1.2971999645233154, 1.2452000379562378, 1.2345999479293823, 1.2274999618530273, 1.2202999591827393, 1.2165000438690186, 1.212499976158142, 1.2099000215530396, 1.1993999481201172, 1.1958999633789062, 1.1938999891281128, 1.1937999725341797, 1.1842000484466553, 1.1792000532150269, 1.1497000455856323, 1.1448999643325806, 1.1434999704360962, 1.142199993133545, 1.1339999437332153, 1.1265000104904175, 1.1166000366210938, 1.1136000156402588, 1.1133999824523926, 1.1089999675750732, 1.1023000478744507, 1.0856000185012817, 1.0901999473571777, 1.1035000085830688, 1.0461000204086304, 1.077299952507019, 0.8407999873161316, 0.7527999877929688, 0.766700029373169, 1.003999948501587, 0.48739999532699585, 0.1818999946117401, 0.18950000405311584, 0.8698999881744385, 0.19269999861717224, 0.6843000054359436, 0.1273999959230423, 0.16500000655651093, -0.010700000450015068, 0.005799999926239252, 0.2727000117301941, 0.051100000739097595, -0.04270000010728836, -0.12520000338554382, -0.02160000056028366, -0.07460000365972519, 0.023099999874830246, -0.19869999587535858, 0.14499999582767487, -0.16509999334812164, 0.3084999918937683, -0.021800000220537186, 0.04580000042915344, -0.009700000286102295, -0.07919999957084656, -0.031099999323487282, -0.10459999740123749, 0.25, -0.0071000000461936, -0.04899999871850014, -0.27250000834465027, -0.21040000021457672, -0.06989999860525131, -0.24060000479221344, -0.49459999799728394, -0.24740000069141388, -0.7310000061988831, -0.14030000567436218], \"logprob\": [30.0, 29.0, 28.0, 27.0, 26.0, 25.0, 24.0, 23.0, 22.0, 21.0, 20.0, 19.0, 18.0, 17.0, 16.0, 15.0, 14.0, 13.0, 12.0, 11.0, 10.0, 9.0, 8.0, 7.0, 6.0, 5.0, 4.0, 3.0, 2.0, 1.0, -10.008899688720703, -10.022500038146973, -8.948599815368652, -10.039299964904785, -7.982100009918213, -9.41510009765625, -9.109100341796875, -9.806300163269043, -9.481599807739258, -9.929499626159668, -10.077199935913086, -9.536199569702148, -9.61340045928955, -10.018699645996094, -9.595000267028809, -10.136799812316895, -10.551300048828125, -8.683500289916992, -10.043100357055664, -9.211600303649902, -8.498700141906738, -10.556300163269043, -9.815299987792969, -10.561400413513184, -10.56470012664795, -10.56350040435791, -10.567299842834473, -10.563400268554688, -9.10319995880127, -8.07800006866455, -7.424200057983398, -7.929500102996826, -7.480999946594238, -8.8725004196167, -9.273300170898438, -6.208399772644043, -5.203999996185303, -6.367599964141846, -8.03950023651123, -7.087399959564209, -7.445499897003174, -4.54010009765625, -4.736199855804443, -5.940100193023682, -6.169899940490723, -5.257500171661377, -7.01800012588501, -5.318399906158447, -4.663000106811523, -8.05459976196289, -7.399600028991699, -5.406899929046631, -6.337500095367432, -4.6097002029418945, -6.490600109100342, -6.8769001960754395, -6.655399799346924, -5.429299831390381, -6.450900077819824, -5.783100128173828, -6.366099834442139, -5.800000190734863, -5.540299892425537, -5.39300012588501, -5.466899871826172, -6.0782999992370605, -5.501299858093262, -5.422800064086914, -5.6753997802734375, -6.249000072479248, -5.1605000495910645, -5.67579984664917, -5.052700042724609, -5.205900192260742, -4.97130012512207, -5.692999839782715, -5.102499961853027, -5.360000133514404, -5.1230998039245605, -5.357999801635742, -5.658599853515625, -5.662899971008301, -5.334499835968018, -5.567399978637695, -5.729499816894531, -9.054300308227539, -7.948999881744385, -9.113100051879883, -9.78969955444336, -9.777000427246094, -9.472700119018555, -10.0516996383667, -9.770600318908691, -9.739700317382812, -10.035099983215332, -10.054200172424316, -8.98449993133545, -10.007399559020996, -9.393199920654297, -9.777099609375, -10.007699966430664, -10.093099594116211, -10.087400436401367, -10.126399993896484, -9.342900276184082, -10.09160041809082, -10.032699584960938, -8.637100219726562, -10.073699951171875, -10.054100036621094, -10.028400421142578, -10.041799545288086, -10.14799976348877, -10.036299705505371, -9.609299659729004, -8.892399787902832, -9.055299758911133, -9.413399696350098, -8.998600006103516, -9.00790023803711, -8.515899658203125, -8.328499794006348, -4.813199996948242, -8.680399894714355, -5.729700088500977, -6.9421000480651855, -7.43310022354126, -5.898399829864502, -6.202600002288818, -6.504700183868408, -8.072999954223633, -4.842299938201904, -6.133200168609619, -6.323699951171875, -7.200300216674805, -5.294600009918213, -5.147299766540527, -5.673799991607666, -6.424699783325195, -4.802199840545654, -5.915599822998047, -4.933800220489502, -6.295100212097168, -4.916399955749512, -6.252999782562256, -6.229499816894531, -6.860400199890137, -5.790800094604492, -5.635499954223633, -5.121300220489502, -5.098100185394287, -6.103000164031982, -5.301700115203857, -6.012199878692627, -6.428699970245361, -4.822199821472168, -5.63730001449585, -4.928899765014648, -5.62529993057251, -5.476399898529053, -5.761000156402588, -5.6905999183654785, -5.560800075531006, -5.02810001373291, -5.611000061035156, -5.544899940490723, -5.202600002288818, -5.684999942779541, -5.632299900054932, -5.759200096130371, -5.774099826812744, -5.6956000328063965, -5.747099876403809, -8.872900009155273, -8.884699821472168, -9.071200370788574, -8.75529956817627, -9.109000205993652, -8.343999862670898, -9.64430046081543, -9.38029956817627, -10.091300010681152, -9.688599586486816, -9.686100006103516, -9.688199996948242, -10.103899955749512, -8.839200019836426, -10.111000061035156, -7.846499919891357, -10.11400032043457, -10.114299774169922, -9.20300006866455, -10.122300148010254, -10.138699531555176, -9.447799682617188, -10.142600059509277, -9.219200134277344, -10.148500442504883, -10.152199745178223, -10.158300399780273, -10.168399810791016, -10.160099983215332, -10.162500381469727, -9.062899589538574, -8.775199890136719, -9.246999740600586, -9.76159954071045, -8.941100120544434, -9.476900100708008, -7.541800022125244, -7.011300086975098, -7.597799777984619, -9.121299743652344, -6.300000190734863, -4.704100131988525, -4.792500019073486, -8.402700424194336, -5.256400108337402, -7.6356000900268555, -5.305799961090088, -5.643199920654297, -5.035900115966797, -5.161799907684326, -6.184599876403809, -5.43179988861084, -5.115699768066406, -4.855800151824951, -5.356400012969971, -5.209799766540527, -5.543600082397461, -4.9029998779296875, -6.015999794006348, -5.161200046539307, -6.509200096130371, -5.668799877166748, -5.857900142669678, -5.744999885559082, -5.630099773406982, -5.7444000244140625, -5.6219000816345215, -6.390900135040283, -5.932799816131592, -5.895899772644043, -5.541100025177002, -5.644499778747559, -5.8968000411987305, -5.694499969482422, -5.424200057983398, -5.7322998046875, -5.521299839019775, -5.86299991607666]}, \"token.table\": {\"Topic\": [1, 2, 3, 1, 2, 3, 1, 2, 3, 1, 2, 1, 2, 3, 1, 2, 3, 1, 2, 1, 1, 2, 3, 1, 2, 3, 1, 2, 1, 2, 3, 1, 2, 3, 1, 2, 3, 1, 2, 3, 1, 1, 2, 3, 1, 2, 3, 1, 2, 3, 1, 2, 3, 1, 2, 3, 1, 2, 1, 2, 3, 1, 2, 3, 1, 2, 3, 1, 1, 2, 1, 2, 1, 2, 3, 1, 1, 2, 1, 1, 2, 3, 1, 2, 1, 2, 1, 2, 3, 1, 2, 1, 2, 1, 2, 3, 1, 1, 2, 1, 2, 1, 2, 3, 1, 1, 2, 1, 2, 3, 1, 2, 3, 1, 2, 3, 1, 2, 1, 2, 3, 1, 2, 1, 2, 1, 1, 2, 1, 2, 1, 2, 3, 1, 2, 1, 1, 2, 3, 1, 2, 3, 1, 2, 3, 1, 1, 1, 2, 3, 1, 2, 3, 1, 2, 3, 1, 2, 1, 2, 3, 1, 2, 3, 1, 2, 3, 1, 2, 3, 1, 2, 3, 1, 2, 1, 1, 2, 1, 2, 3, 1, 2, 3, 1, 2, 1, 2, 1, 2, 3, 1, 2, 3, 1, 2, 3, 1, 2, 3, 1, 1, 1, 2, 3, 1, 2, 1, 2, 1, 2, 1, 2, 1, 2, 1, 2, 3, 1, 2, 3, 1, 2, 1, 2, 1, 2, 3, 1, 2, 1, 2, 1, 2, 3, 1, 2, 1, 2, 1, 1, 2, 1, 2, 1, 2, 1, 2, 3, 1, 2, 3, 1, 2, 1, 2, 3, 1, 2, 1, 2, 3, 1, 2, 1, 2, 3, 1, 2, 3, 1, 2, 3, 1, 1, 2, 1, 2, 3, 1, 2, 1, 2, 3, 1, 1, 1, 2, 3, 1, 1, 2, 1, 2, 1, 2, 3, 1, 2, 3, 1, 2, 1, 2, 3, 1, 2, 1, 2, 1, 2, 3, 1, 2, 1, 2, 3, 1, 1, 2, 1, 2, 1, 2, 3, 1, 2, 3, 1, 2, 3, 1, 2, 3, 1, 2, 1, 2, 1, 2, 3, 1, 2, 1, 1, 3, 1, 3, 1, 1, 2, 3, 1, 2, 3, 1, 2, 3, 1, 2, 3, 1, 2, 3, 1, 2, 3, 1, 1, 2, 3, 1, 2, 3, 1, 1, 2, 1, 2, 1, 2, 1, 2, 3, 1, 2, 3, 1, 2, 3, 1, 2, 1, 2, 1, 2, 3, 1, 2, 3, 1, 1, 1, 1, 2, 3, 1, 1, 2, 1, 2, 3, 1, 1, 1, 2, 3, 1, 2, 3, 1, 2, 3, 1, 1, 2, 3, 1, 1, 1, 2, 3, 1, 2, 3, 1], \"Freq\": [0.423676073551178, 0.556831419467926, 0.024210061877965927, 0.4719308614730835, 0.4874403178691864, 0.03988147899508476, 0.7326529622077942, 0.2442176640033722, 0.2442176640033722, 0.1590072214603424, 0.7950361371040344, 0.4888359606266022, 0.47961264848709106, 0.03074439987540245, 0.5564708113670349, 0.41395998001098633, 0.027144916355609894, 0.36234524846076965, 0.7246904969215393, 0.7715908885002136, 0.732996940612793, 0.24215076863765717, 0.02617846243083477, 0.5307191014289856, 0.43395817279815674, 0.0351857990026474, 0.18566270172595978, 0.7426508069038391, 0.545279860496521, 0.4237416088581085, 0.032848186790943146, 0.42243868112564087, 0.5528976917266846, 0.024849334731698036, 0.5396562218666077, 0.41580069065093994, 0.04423411563038826, 0.37716954946517944, 0.5926949977874756, 0.03592090681195259, 0.795446515083313, 0.38303297758102417, 0.5958290696144104, 0.028372813016176224, 0.6344498991966248, 0.3304426670074463, 0.03304426744580269, 0.5811817646026611, 0.39541590213775635, 0.023884182795882225, 0.4195840358734131, 0.5416448712348938, 0.038144003599882126, 0.44664040207862854, 0.521080493927002, 0.031016694381833076, 0.30280065536499023, 0.6056013107299805, 0.45824989676475525, 0.518545925617218, 0.0180888120085001, 0.5553417801856995, 0.4010801613330841, 0.04936371371150017, 0.7726941704750061, 0.12878236174583435, 0.12878236174583435, 0.687400758266449, 0.6260974407196045, 0.31304872035980225, 0.7703478336334229, 0.2567826211452484, 0.7420925498008728, 0.1855231374502182, 0.1855231374502182, 0.773455798625946, 0.3678203821182251, 0.7356407642364502, 0.7684963941574097, 0.623562753200531, 0.3464237451553345, 0.028868645429611206, 0.3657589554786682, 0.7315179109573364, 0.37970393896102905, 0.7594078779220581, 0.5323057770729065, 0.4335273802280426, 0.035669974982738495, 0.3098528981208801, 0.6971690058708191, 0.3644826412200928, 0.7289652824401855, 0.7302820086479187, 0.2662486433982849, 0.007607104256749153, 0.768858790397644, 0.25605541467666626, 0.640138566493988, 0.28300023078918457, 0.8490006923675537, 0.5994385480880737, 0.36179131269454956, 0.039016712456941605, 0.5325392484664917, 0.393540620803833, 0.787081241607666, 0.5109272003173828, 0.4594051241874695, 0.030054541304707527, 0.468517005443573, 0.4882737398147583, 0.04374707117676735, 0.6618305444717407, 0.3036634027957916, 0.03893120586872101, 0.8360708951950073, 0.20901772379875183, 0.4641134738922119, 0.5118260383605957, 0.02602505311369896, 0.7237364649772644, 0.1447472870349884, 0.6281097531318665, 0.3140548765659332, 0.7604752779006958, 0.22996023297309875, 0.6898806691169739, 0.7341155409812927, 0.26553115248680115, 0.5511587858200073, 0.4133690893650055, 0.0362604483962059, 0.5064800381660461, 0.5064800381660461, 0.5293651819229126, 0.7478889226913452, 0.1661975383758545, 0.08309876918792725, 0.736750066280365, 0.12279167771339417, 0.12279167771339417, 0.5983070731163025, 0.14957676827907562, 0.14957676827907562, 0.5466939806938171, 0.5320471525192261, 0.5431424975395203, 0.43451398611068726, 0.022282768040895462, 0.5263285040855408, 0.44080013036727905, 0.0328955315053463, 0.5724933743476868, 0.3926525115966797, 0.03596816956996918, 0.19370386004447937, 0.7748154401779175, 0.4335547089576721, 0.53208988904953, 0.039414066821336746, 0.46307873725891113, 0.49870017170906067, 0.03562144190073013, 0.4943073093891144, 0.4792713522911072, 0.0263129360973835, 0.563067615032196, 0.41331562399864197, 0.023960325866937637, 0.3576422929763794, 0.5563324689865112, 0.07947606593370438, 0.2709953784942627, 0.7226543426513672, 0.6661912798881531, 0.39004188776016235, 0.7800837755203247, 0.6540906429290771, 0.31497320532798767, 0.03182655945420265, 0.5260902047157288, 0.43773919343948364, 0.03413562476634979, 0.39668983221054077, 0.7933796644210815, 0.20140470564365387, 0.7552676200866699, 0.5486068725585938, 0.40774837136268616, 0.04448163881897926, 0.6978331804275513, 0.27913329005241394, 0.013956664130091667, 0.6112363934516907, 0.3629215955734253, 0.028651705011725426, 0.30908599495887756, 0.6181719899177551, 0.10302866250276566, 0.5308688282966614, 0.788669228553772, 0.635755717754364, 0.32602858543395996, 0.03726040944457054, 0.6316010355949402, 0.21053366363048553, 0.3795303404331207, 0.7590606808662415, 0.7432129383087158, 0.20269443094730377, 0.3663560152053833, 0.7327120304107666, 0.3119906783103943, 0.6863794922828674, 0.4994792342185974, 0.4641178548336029, 0.035361360758543015, 0.5682817697525024, 0.3987942337989807, 0.03240203112363815, 0.28968900442123413, 0.5793780088424683, 0.40898597240448, 0.81797194480896, 0.6743912100791931, 0.2844370901584625, 0.041289255023002625, 0.4058307707309723, 0.8116615414619446, 0.7714644074440002, 0.3857322037220001, 0.5718443989753723, 0.3849818706512451, 0.04277576506137848, 0.2536526918411255, 0.6341317892074585, 0.23585546016693115, 0.7075663805007935, 0.5329693555831909, 0.22044074535369873, 0.6613222360610962, 0.29895561933517456, 0.5979112386703491, 0.29257214069366455, 0.8777164220809937, 0.6139628887176514, 0.3693097233772278, 0.017475223168730736, 0.5993378162384033, 0.37632837891578674, 0.02439165487885475, 0.7250714898109436, 0.2416904866695404, 0.48273327946662903, 0.48273327946662903, 0.03158068284392357, 0.2684215009212494, 0.6263168454170227, 0.6782189607620239, 0.31882086396217346, 0.005796743091195822, 0.8305561542510986, 0.2768520712852478, 0.5727287530899048, 0.4077052175998688, 0.01941453479230404, 0.6807504296302795, 0.2699527442455292, 0.046948302537202835, 0.7401236295700073, 0.21487459540367126, 0.023874955251812935, 0.7659394145011902, 0.38606297969818115, 0.7721259593963623, 0.3530750274658203, 0.6119967103004456, 0.023538336157798767, 0.7786339521408081, 0.19465848803520203, 0.4522296190261841, 0.5178758502006531, 0.029176104813814163, 0.526904284954071, 0.5305574536323547, 0.5932860970497131, 0.377351313829422, 0.028862565755844116, 0.6625351309776306, 0.5975035429000854, 0.2987517714500427, 0.7555649876594543, 0.2518549859523773, 0.5904655456542969, 0.3783799409866333, 0.03133082389831543, 0.7469731569290161, 0.2196979969739914, 0.04393959790468216, 0.2704078257083893, 0.676019549369812, 0.5198743343353271, 0.445121169090271, 0.035677652806043625, 0.15732786059379578, 0.7866392731666565, 0.6362435221672058, 0.3181217610836029, 0.5652905702590942, 0.40251055359840393, 0.029596364125609398, 0.3902524709701538, 0.7805049419403076, 0.6548210382461548, 0.3227236568927765, 0.021425636485219002, 0.6716156601905823, 0.7408490777015686, 0.246949702501297, 0.7020174860954285, 0.28906601667404175, 0.752673327922821, 0.2258019894361496, 0.03763366490602493, 0.8039106130599976, 0.1269332617521286, 0.08462217450141907, 0.47443974018096924, 0.4928288757801056, 0.033100444823503494, 0.736626148223877, 0.08184734731912613, 0.08184734731912613, 0.19766651093959808, 0.7906660437583923, 0.7763671278953552, 0.1940917819738388, 0.716364860534668, 0.2566779553890228, 0.02800123207271099, 0.7018944025039673, 0.35094720125198364, 0.7906496524810791, 0.8681651949882507, 0.28938838839530945, 0.8573821783065796, 0.28579407930374146, 0.8704434633255005, 0.671915590763092, 0.22397185862064362, 0.22397185862064362, 0.41573354601860046, 0.5501900911331177, 0.03400051221251488, 0.5577266216278076, 0.39975783228874207, 0.041910093277692795, 0.6652910113334656, 0.2956848740577698, 0.03696060925722122, 0.32299697399139404, 0.6459939479827881, 0.04614242538809776, 0.3776969611644745, 0.5665454268455505, 0.060088150203228, 0.7836054563522339, 0.6453984975814819, 0.326026052236557, 0.02883223630487919, 0.6388928890228271, 0.3339667320251465, 0.029040586203336716, 0.7619338035583496, 0.612128734588623, 0.3060643672943115, 0.8191898465156555, 0.20479746162891388, 0.264622300863266, 0.6615557074546814, 0.4961169958114624, 0.461504191160202, 0.04230454936623573, 0.462460458278656, 0.5060255527496338, 0.033511627465486526, 0.41072195768356323, 0.5554525256156921, 0.031293101608753204, 0.37203168869018555, 0.7440633773803711, 0.7546977400779724, 0.2515659034252167, 0.8756694793701172, 0.17513389885425568, 0.17513389885425568, 0.7303178906440735, 0.26557013392448425, 0.022130845114588737, 0.7423059344291687, 0.5284813046455383, 0.7971625328063965, 0.431753009557724, 0.5396912693977356, 0.028404803946614265, 0.7631039619445801, 0.3619938790798187, 0.7239877581596375, 0.6330576539039612, 0.3291899859905243, 0.03545122966170311, 0.5305094718933105, 0.5278658270835876, 0.6668545603752136, 0.30311569571495056, 0.033679522573947906, 0.4189983606338501, 0.5516811609268188, 0.02793322317302227, 0.7521936893463135, 0.15955623984336853, 0.06838124990463257, 0.670504093170166, 0.7905526757240295, 0.1129361018538475, 0.1129361018538475, 0.7888122200965881, 0.8029714226722717, 0.43907177448272705, 0.5376389026641846, 0.02240162156522274, 0.5255106687545776, 0.4449108839035034, 0.032239921391010284, 0.9981510639190674], \"Term\": [\"absatz\", \"absatz\", \"absatz\", \"aktie\", \"aktie\", \"aktie\", \"altmarkt\", \"altmarkt\", \"altmarkt\", \"anlagenbau\", \"anlagenbau\", \"anstieg\", \"anstieg\", \"anstieg\", \"anteil\", \"anteil\", \"anteil\", \"antik\\u00f6rpers\", \"antik\\u00f6rpers\", \"apfelsaftkonzentrate\", \"april\", \"april\", \"april\", \"aufsichtsrat\", \"aufsichtsrat\", \"aufsichtsrat\", \"auftragslage\", \"auftragslage\", \"aufwendung\", \"aufwendung\", \"aufwendung\", \"bank\", \"bank\", \"bank\", \"bedeutung\", \"bedeutung\", \"bedeutung\", \"beendigung\", \"beendigung\", \"beendigung\", \"beimischungsverpflichtungen\", \"beispiel\", \"beispiel\", \"beispiel\", \"berater\", \"berater\", \"berater\", \"bereich\", \"bereich\", \"bereich\", \"berichtszeitraum\", \"berichtszeitraum\", \"berichtszeitraum\", \"ber\\u00fccksichtigung\", \"ber\\u00fccksichtigung\", \"ber\\u00fccksichtigung\", \"besitz\\u00fcbergang\", \"besitz\\u00fcbergang\", \"beteiligung\", \"beteiligung\", \"beteiligung\", \"bewertung\", \"bewertung\", \"bewertung\", \"bioethanol\", \"bioethanol\", \"bioethanol\", \"bioethanolanlage\", \"bioethanolpreise\", \"bioethanolpreise\", \"biokraftstoffe\", \"biokraftstoffe\", \"biokraftstoffen\", \"biokraftstoffen\", \"biokraftstoffen\", \"brand\", \"bric\", \"bric\", \"centeraufwendungen\", \"chance\", \"chance\", \"chance\", \"data\", \"data\", \"deals\", \"deals\", \"dezember\", \"dezember\", \"dezember\", \"dreieich\", \"dreieich\", \"dsmb\", \"dsmb\", \"ebitda\", \"ebitda\", \"ebitda\", \"einmalbelastung\", \"elektronik\", \"elektronik\", \"eltherm\", \"eltherm\", \"enden\", \"enden\", \"enden\", \"energiepflanzenbau\", \"entsch\\u00e4digungszahlung\", \"entsch\\u00e4digungszahlung\", \"entwicklung\", \"entwicklung\", \"entwicklung\", \"ergebnis\", \"ergebnis\", \"ergebnis\", \"erl\\u00f6sen\", \"erl\\u00f6sen\", \"erl\\u00f6sen\", \"erneuerbare\", \"erneuerbare\", \"ertrag\", \"ertrag\", \"ertrag\", \"ethanolpreise\", \"ethanolpreise\", \"euroshop\", \"euroshop\", \"exportkontingent\", \"fertigung\", \"fertigung\", \"festnetz\", \"festnetz\", \"forderung\", \"forderung\", \"forderung\", \"fremdgesellschafter\", \"fremdgesellschafter\", \"fremdkapitalkonditionen\", \"frucht\", \"frucht\", \"frucht\", \"fruchtzubereitungen\", \"fruchtzubereitungen\", \"fruchtzubereitungen\", \"galerie\", \"galerie\", \"galerie\", \"gallone\", \"gesamterfolg\", \"gesch\\u00e4ft\", \"gesch\\u00e4ft\", \"gesch\\u00e4ft\", \"gesch\\u00e4ftsjahr\", \"gesch\\u00e4ftsjahr\", \"gesch\\u00e4ftsjahr\", \"gesellschaft\", \"gesellschaft\", \"gesellschaft\", \"gesundheitstechnik\", \"gesundheitstechnik\", \"gewinnen\", \"gewinnen\", \"gewinnen\", \"gmbh\", \"gmbh\", \"gmbh\", \"gruppe\", \"gruppe\", \"gruppe\", \"halbjahr\", \"halbjahr\", \"halbjahr\", \"heidelbergcement\", \"heidelbergcement\", \"heidelbergcement\", \"hella\", \"hella\", \"herstellungskostensituation\", \"houten\", \"houten\", \"h\\u00f6he\", \"h\\u00f6he\", \"h\\u00f6he\", \"ifrs\", \"ifrs\", \"ifrs\", \"immobilienerwerbe\", \"immobilienerwerbe\", \"indus\", \"indus\", \"information\", \"information\", \"information\", \"internet\", \"internet\", \"internet\", \"investition\", \"investition\", \"investition\", \"italcementi\", \"italcementi\", \"italcementi\", \"jahresumsatz\", \"jahresverbrauchs\", \"juni\", \"juni\", \"juni\", \"kampagnejahr\", \"kampagnejahr\", \"kapitalgesellschaften\", \"kapitalgesellschaften\", \"karten\", \"karten\", \"komitee\", \"komitee\", \"komponente\", \"komponente\", \"konzern\", \"konzern\", \"konzern\", \"kunde\", \"kunde\", \"kunde\", \"kunststoffklebetechnik\", \"kunststoffklebetechnik\", \"leerstandsquote\", \"leerstandsquote\", \"leistung\", \"leistung\", \"leistung\", \"liquidit\\u00e4tsbestand\", \"liquidit\\u00e4tsbestand\", \"main\", \"main\", \"markt\", \"markt\", \"markt\", \"maschinenbau\", \"maschinenbau\", \"materialaufwandsquote\", \"materialaufwandsquote\", \"mdax\", \"metalltechnik\", \"metalltechnik\", \"mieterl\\u00f6se\", \"mieterl\\u00f6se\", \"mietgarantien\", \"mietgarantien\", \"milliarde\", \"milliarde\", \"milliarde\", \"mitarbeiter\", \"mitarbeiter\", \"mitarbeiter\", \"miteigent\\u00fcmer\", \"miteigent\\u00fcmer\", \"mitglied\", \"mitglied\", \"mitglied\", \"mittlerer\", \"mittlerer\", \"mobile\", \"mobile\", \"mobile\", \"mobilfunkkunden\", \"mobilfunkkunden\", \"monat\", \"monat\", \"monat\", \"november\", \"november\", \"november\", \"online\", \"online\", \"online\", \"optionspr\\u00e4mie\", \"personalaufwandsquote\", \"personalaufwandsquote\", \"powern\", \"powern\", \"powern\", \"preisanstieg\", \"preisanstieg\", \"produkt\", \"produkt\", \"produkt\", \"produktionsst\\u00e4tte\", \"produktrisiken\", \"quartal\", \"quartal\", \"quartal\", \"quotenr\\u00fcckgabe\", \"quotenzucker\", \"quotenzucker\", \"raffinerie\", \"raffinerie\", \"rahmen\", \"rahmen\", \"rahmen\", \"regulierung\", \"regulierung\", \"regulierung\", \"reinfektion\", \"reinfektion\", \"risiko\", \"risiko\", \"risiko\", \"rolko\", \"rolko\", \"r\\u00fcbenanbauern\", \"r\\u00fcbenanbauern\", \"r\\u00fcckgang\", \"r\\u00fcckgang\", \"r\\u00fcckgang\", \"schaffhausen\", \"schaffhausen\", \"segment\", \"segment\", \"segment\", \"segmentberichte\", \"serviceums\\u00e4tze\", \"serviceums\\u00e4tze\", \"sondereinfl\\u00fcsse\", \"sondereinfl\\u00fcsse\", \"sonderfaktoren\", \"sonderfaktoren\", \"sonderfaktoren\", \"spezialit\\u00e4t\", \"spezialit\\u00e4t\", \"spezialit\\u00e4t\", \"steuer\", \"steuer\", \"steuer\", \"s\\u00fcdzucker\", \"s\\u00fcdzucker\", \"s\\u00fcdzucker\", \"telematik\", \"telematik\", \"turbo\", \"turbo\", \"umsatz\", \"umsatz\", \"umsatz\", \"umsatzanteil\", \"umsatzanteil\", \"umstrukturierung\", \"umstrukturierungsabgabe\", \"umstrukturierungsabgabe\", \"umstrukturierungsbeihilfe\", \"umstrukturierungsbeihilfe\", \"umstrukturierungsfonds\", \"umstrukturierungsphase\", \"umstrukturierungsphase\", \"umstrukturierungsphase\", \"unternehmen\", \"unternehmen\", \"unternehmen\", \"verbindlichkeit\", \"verbindlichkeit\", \"verbindlichkeit\", \"verf\\u00fcgung\", \"verf\\u00fcgung\", \"verf\\u00fcgung\", \"vergleichswert\", \"vergleichswert\", \"vergleichswert\", \"verg\\u00fctung\", \"verg\\u00fctung\", \"verg\\u00fctung\", \"verhandlungsmandat\", \"verm\\u00f6genswerte\", \"verm\\u00f6genswerte\", \"verm\\u00f6genswerte\", \"verm\\u00f6genswerten\", \"verm\\u00f6genswerten\", \"verm\\u00f6genswerten\", \"versicherungserstattungen\", \"versorgungslage\", \"versorgungslage\", \"vertriebslinien\", \"vertriebslinien\", \"viii\", \"viii\", \"vorjahr\", \"vorjahr\", \"vorjahr\", \"vorstehen\", \"vorstehen\", \"vorstehen\", \"wachstum\", \"wachstum\", \"wachstum\", \"wachstumsziel\", \"wachstumsziel\", \"wandelanleihe\", \"wandelanleihe\", \"wanze\", \"wanze\", \"wanze\", \"wechselkurseffekte\", \"wechselkurseffekte\", \"wechselkurseffekte\", \"welle\", \"weltmarktzuckerpreises\", \"werksschlie\\u00dfungen\", \"wert\", \"wert\", \"wert\", \"wertanpassung\", \"wesentlich\", \"wesentlich\", \"wesentliche\", \"wesentliche\", \"wesentliche\", \"w\\u00e4hrungsertr\\u00e4ge\", \"zahlungseingang\", \"zeitraum\", \"zeitraum\", \"zeitraum\", \"zins\", \"zins\", \"zins\", \"zucker\", \"zucker\", \"zucker\", \"zuckererzeugung\", \"zuckermarkt\", \"zuckermarkt\", \"zuckermarkt\", \"zuckermarktreform\", \"zuckerrohr\", \"zusammenhang\", \"zusammenhang\", \"zusammenhang\", \"\\u00e4nderung\", \"\\u00e4nderung\", \"\\u00e4nderung\", \"\\u00fcberleitungstabelle\"]}, \"R\": 30, \"lambda.step\": 0.01, \"plot.opts\": {\"xlab\": \"PC1\", \"ylab\": \"PC2\"}, \"topic.order\": [2, 1, 3]};\n",
       "\n",
       "function LDAvis_load_lib(url, callback){\n",
       "  var s = document.createElement('script');\n",
       "  s.src = url;\n",
       "  s.async = true;\n",
       "  s.onreadystatechange = s.onload = callback;\n",
       "  s.onerror = function(){console.warn(\"failed to load library \" + url);};\n",
       "  document.getElementsByTagName(\"head\")[0].appendChild(s);\n",
       "}\n",
       "\n",
       "if(typeof(LDAvis) !== \"undefined\"){\n",
       "   // already loaded: just create the visualization\n",
       "   !function(LDAvis){\n",
       "       new LDAvis(\"#\" + \"ldavis_el73171403377533939368796252606\", ldavis_el73171403377533939368796252606_data);\n",
       "   }(LDAvis);\n",
       "}else if(typeof define === \"function\" && define.amd){\n",
       "   // require.js is available: use it to load d3/LDAvis\n",
       "   require.config({paths: {d3: \"https://cdnjs.cloudflare.com/ajax/libs/d3/3.5.5/d3.min\"}});\n",
       "   require([\"d3\"], function(d3){\n",
       "      window.d3 = d3;\n",
       "      LDAvis_load_lib(\"https://cdn.rawgit.com/bmabey/pyLDAvis/files/ldavis.v1.0.0.js\", function(){\n",
       "        new LDAvis(\"#\" + \"ldavis_el73171403377533939368796252606\", ldavis_el73171403377533939368796252606_data);\n",
       "      });\n",
       "    });\n",
       "}else{\n",
       "    // require.js not available: dynamically load d3 & LDAvis\n",
       "    LDAvis_load_lib(\"https://cdnjs.cloudflare.com/ajax/libs/d3/3.5.5/d3.min.js\", function(){\n",
       "         LDAvis_load_lib(\"https://cdn.rawgit.com/bmabey/pyLDAvis/files/ldavis.v1.0.0.js\", function(){\n",
       "                 new LDAvis(\"#\" + \"ldavis_el73171403377533939368796252606\", ldavis_el73171403377533939368796252606_data);\n",
       "            })\n",
       "         });\n",
       "}\n",
       "</script>"
      ],
      "text/plain": [
       "PreparedData(topic_coordinates=              x         y  topics  cluster       Freq\n",
       "topic                                                \n",
       "1     -0.005745  0.006247       1        1  54.019630\n",
       "0     -0.004192 -0.006934       2        1  42.418159\n",
       "2      0.009937  0.000687       3        1   3.562213, topic_info=     Category        Freq             Term       Total  loglift  logprob\n",
       "term                                                                    \n",
       "1088  Default  780.000000          vorjahr  780.000000  30.0000  30.0000\n",
       "307   Default  708.000000         ergebnis  708.000000  29.0000  29.0000\n",
       "481   Default  911.000000             höhe  911.000000  28.0000  28.0000\n",
       "806   Default  935.000000          quartal  935.000000  27.0000  27.0000\n",
       "567   Default  678.000000          konzern  678.000000  26.0000  26.0000\n",
       "1024  Default  647.000000      unternehmen  647.000000  25.0000  25.0000\n",
       "857   Default  588.000000           risiko  588.000000  24.0000  24.0000\n",
       "299   Default  698.000000      entwicklung  698.000000  23.0000  23.0000\n",
       "403   Default  607.000000    geschäftsjahr  607.000000  22.0000  22.0000\n",
       "658   Default  444.000000            markt  444.000000  21.0000  21.0000\n",
       "28    Default  451.000000            aktie  451.000000  20.0000  20.0000\n",
       "482   Default  498.000000             ifrs  498.000000  19.0000  19.0000\n",
       "535   Default  429.000000             juni  429.000000  18.0000  18.0000\n",
       "1134  Default  394.000000      wesentliche  394.000000  17.0000  17.0000\n",
       "904   Default  746.000000          segment  746.000000  16.0000  16.0000\n",
       "437   Default  532.000000           gruppe  532.000000  15.0000  15.0000\n",
       "1032  Default  310.000000  verbindlichkeit  310.000000  14.0000  14.0000\n",
       "809   Default  414.000000           rahmen  414.000000  13.0000  13.0000\n",
       "603   Default  401.000000            kunde  401.000000  12.0000  12.0000\n",
       "1060  Default  450.000000   vermögenswerte  450.000000  11.0000  11.0000\n",
       "233   Default  364.000000         dezember  364.000000  10.0000  10.0000\n",
       "1011  Default  428.000000           umsatz  428.000000   9.0000   9.0000\n",
       "414   Default  333.000000     gesellschaft  333.000000   8.0000   8.0000\n",
       "81    Default  341.000000     aufsichtsrat  341.000000   7.0000   7.0000\n",
       "63    Default  442.000000           anteil  442.000000   6.0000   6.0000\n",
       "695   Default  858.000000        milliarde  858.000000   5.0000   5.0000\n",
       "290   Default  281.000000            enden  281.000000   4.0000   4.0000\n",
       "1100  Default  298.000000        vorstehen  298.000000   3.0000   3.0000\n",
       "884   Default  337.000000         rückgang  337.000000   2.0000   2.0000\n",
       "84    Default  304.000000       aufwendung  304.000000   1.0000   1.0000\n",
       "...       ...         ...              ...         ...      ...      ...\n",
       "567    Topic3   23.919571          konzern  678.706909  -0.0107  -5.0359\n",
       "857    Topic3   21.089596           risiko  588.603760   0.0058  -5.1618\n",
       "172    Topic3    7.583028        bewertung  162.062363   0.2727  -6.1846\n",
       "535    Topic3   16.098795             juni  429.410217   0.0511  -5.4318\n",
       "1024   Topic3   22.085148      unternehmen  647.049072  -0.0427  -5.1157\n",
       "481    Topic3   28.638552             höhe  911.188660  -0.1252  -4.8558\n",
       "482    Topic3   17.360649             ifrs  498.013428  -0.0216  -5.3564\n",
       "403    Topic3   20.100628    geschäftsjahr  607.985291  -0.0746  -5.2098\n",
       "1134   Topic3   14.395544      wesentliche  394.908722   0.0231  -5.5436\n",
       "806    Topic3   27.317249          quartal  935.467773  -0.1987  -4.9030\n",
       "1883   Topic3    8.976398         leistung  217.974380   0.1450  -6.0160\n",
       "299    Topic3   21.102028      entwicklung  698.729675  -0.1651  -5.1612\n",
       "127    Topic3    5.481580        bedeutung  113.034927   0.3085  -6.5092\n",
       "233    Topic3   12.702113         dezember  364.452179  -0.0218  -5.6688\n",
       "290    Topic3   10.513488            enden  281.930481   0.0458  -5.8579\n",
       "414    Topic3   11.770217     gesellschaft  333.628326  -0.0097  -5.7450\n",
       "603    Topic3   13.203284            kunde  401.209412  -0.0792  -5.6301\n",
       "81     Topic3   11.776730     aufsichtsrat  341.046692  -0.0311  -5.7444\n",
       "809    Topic3   13.312419           rahmen  414.926849  -0.1046  -5.6219\n",
       "503    Topic3    6.169922      information  134.887115   0.2500  -6.3909\n",
       "360    Topic3    9.754714        forderung  275.782593  -0.0071  -5.9328\n",
       "1100   Topic3   10.121263        vorstehen  298.403900  -0.0490  -5.8959\n",
       "437    Topic3   14.432214           gruppe  532.057678  -0.2725  -5.5411\n",
       "1060   Topic3   13.014229   vermögenswerte  450.884216  -0.2104  -5.6445\n",
       "84     Topic3   10.112195       aufwendung  304.430817  -0.0699  -5.8968\n",
       "63     Topic3   12.379991           anteil  442.071716  -0.2406  -5.6945\n",
       "904    Topic3   16.222132          segment  746.768921  -0.4946  -5.4242\n",
       "1011   Topic3   11.919940           umsatz  428.552582  -0.2474  -5.7323\n",
       "695    Topic3   14.720884        milliarde  858.358093  -0.7310  -5.5213\n",
       "884    Topic3   10.460323         rückgang  337.879333  -0.1403  -5.8630\n",
       "\n",
       "[281 rows x 6 columns], token_table=       Topic      Freq                  Term\n",
       "term                                        \n",
       "2990       1  0.423676                absatz\n",
       "2990       2  0.556831                absatz\n",
       "2990       3  0.024210                absatz\n",
       "28         1  0.471931                 aktie\n",
       "28         2  0.487440                 aktie\n",
       "28         3  0.039881                 aktie\n",
       "4378       1  0.732653              altmarkt\n",
       "4378       2  0.244218              altmarkt\n",
       "4378       3  0.244218              altmarkt\n",
       "4952       1  0.159007            anlagenbau\n",
       "4952       2  0.795036            anlagenbau\n",
       "62         1  0.488836               anstieg\n",
       "62         2  0.479613               anstieg\n",
       "62         3  0.030744               anstieg\n",
       "63         1  0.556471                anteil\n",
       "63         2  0.413960                anteil\n",
       "63         3  0.027145                anteil\n",
       "2916       1  0.362345           antikörpers\n",
       "2916       2  0.724690           antikörpers\n",
       "11398      1  0.771591  apfelsaftkonzentrate\n",
       "67         1  0.732997                 april\n",
       "67         2  0.242151                 april\n",
       "67         3  0.026178                 april\n",
       "81         1  0.530719          aufsichtsrat\n",
       "81         2  0.433958          aufsichtsrat\n",
       "81         3  0.035186          aufsichtsrat\n",
       "4964       1  0.185663          auftragslage\n",
       "4964       2  0.742651          auftragslage\n",
       "84         1  0.545280            aufwendung\n",
       "84         2  0.423742            aufwendung\n",
       "...      ...       ...                   ...\n",
       "11535      1  0.763104         wertanpassung\n",
       "2977       1  0.361994            wesentlich\n",
       "2977       2  0.723988            wesentlich\n",
       "1134       1  0.633058           wesentliche\n",
       "1134       2  0.329190           wesentliche\n",
       "1134       3  0.035451           wesentliche\n",
       "6808       1  0.530509       währungserträge\n",
       "11539      1  0.527866       zahlungseingang\n",
       "1168       1  0.666855              zeitraum\n",
       "1168       2  0.303116              zeitraum\n",
       "1168       3  0.033680              zeitraum\n",
       "1176       1  0.418998                  zins\n",
       "1176       2  0.551681                  zins\n",
       "1176       3  0.027933                  zins\n",
       "6665       1  0.752194                zucker\n",
       "6665       2  0.159556                zucker\n",
       "6665       3  0.068381                zucker\n",
       "11542      1  0.670504       zuckererzeugung\n",
       "11543      1  0.790553           zuckermarkt\n",
       "11543      2  0.112936           zuckermarkt\n",
       "11543      3  0.112936           zuckermarkt\n",
       "11544      1  0.788812     zuckermarktreform\n",
       "11547      1  0.802971            zuckerrohr\n",
       "1201       1  0.439072          zusammenhang\n",
       "1201       2  0.537639          zusammenhang\n",
       "1201       3  0.022402          zusammenhang\n",
       "1212       1  0.525511              änderung\n",
       "1212       2  0.444911              änderung\n",
       "1212       3  0.032240              änderung\n",
       "6810       1  0.998151   überleitungstabelle\n",
       "\n",
       "[436 rows x 3 columns], R=30, lambda_step=0.01, plot_opts={'xlab': 'PC1', 'ylab': 'PC2'}, topic_order=[2, 1, 3])"
      ]
     },
     "execution_count": 9,
     "metadata": {},
     "output_type": "execute_result"
    }
   ],
   "source": [
    "# visualization(processed_doc_path, docs[6].tolist(), 3)\n",
    "doc_example = max(docs, key=len)\n",
    "visualization(processed_doc_path, doc_example.tolist(), 3)"
   ]
  },
  {
   "cell_type": "markdown",
   "metadata": {},
   "source": [
    "<font color=\"blue\"/>\n",
    "\n",
    "### dsp:\n",
    "  * Interesting experiment. \n",
    "  * I have still to study the literature.\n",
    "  * From the code I can not understand how the \"hierarchical\" aspect is meant to work and I suspect you do not understand it either, or do you?"
   ]
  }
 ],
 "metadata": {
  "kernelspec": {
   "display_name": "Python 3",
   "language": "python",
   "name": "python3"
  },
  "language_info": {
   "codemirror_mode": {
    "name": "ipython",
    "version": 3
   },
   "file_extension": ".py",
   "mimetype": "text/x-python",
   "name": "python",
   "nbconvert_exporter": "python",
   "pygments_lexer": "ipython3",
   "version": "3.6.6"
  }
 },
 "nbformat": 4,
 "nbformat_minor": 2
}
