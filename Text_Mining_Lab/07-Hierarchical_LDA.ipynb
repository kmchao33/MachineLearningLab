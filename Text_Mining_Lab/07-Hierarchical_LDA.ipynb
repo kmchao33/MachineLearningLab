{
 "cells": [
  {
   "cell_type": "markdown",
   "metadata": {},
   "source": [
    "## Applying Hierarchical LDA Model\n",
    "\n",
    "Hierarchical Latent Dirichlet Allocation (hLDA) addresses the problem of learning topic hierarchies from data. The model relies on a non-parametric prior called the nested Chinese restaurant process, which allows for arbitrarily large branching factors and readily accommodates growing data collections. The hLDA model combines this prior with a likelihood that is based on a hierarchical variant of latent Dirichlet allocation [1].\n",
    "\n",
    "Idea inspired from [Hierarchical Topic Models and the Nested Chinese Restaurant Process](http://www.cs.columbia.edu/~blei/papers/BleiGriffithsJordanTenenbaum2003.pdf)\n",
    "\n",
    "**Reference:**\n",
    "\n",
    "[1] David M. Blei , Michael I. Jordan , Thomas L. Griffiths , Joshua B. Tenenbaum, Hierarchical topic models and the nested chinese restaurant process, Proceedings of the 16th International Conference on Neural Information Processing Systems, p.17-24, December 09-11, 2003, Whistler, British Columbia, Canada"
   ]
  },
  {
   "cell_type": "markdown",
   "metadata": {},
   "source": [
    "<font color=\"blue\"/>\n",
    "\n",
    "### dsp:\n",
    "  * &#x1f642; Wow! That is something extra. Great!\n",
    "  * To reference a scientific publication, you should give more complete data, e.g. for the 2010 version of the document: \"David M. Blei, Thomas L. Griffiths, and Michael I. Jordan. 2010. The nested chinese restaurant process and bayesian nonparametric inference of topic hierarchies. J. ACM 57, 2, Article 7 (February 2010), 30 pages. DOI: https://doi.org/10.1145/1667053.1667056\""
   ]
  },
  {
   "cell_type": "markdown",
   "metadata": {},
   "source": [
    "#### Hierarchical LDA Model example\n",
    "![Hierarchical LDA Model example](Hierarchical_LDA_Model_example.png)"
   ]
  },
  {
   "cell_type": "code",
   "execution_count": 1,
   "metadata": {},
   "outputs": [],
   "source": [
    "from gensim import corpora, models, similarities\n",
    "from gensim.corpora.dictionary import Dictionary\n",
    "from gensim.models.ldamodel import LdaModel\n",
    "from gensim.models.ldamulticore import LdaMulticore\n",
    "\n",
    "import pyLDAvis.gensim\n",
    "\n",
    "import os\n",
    "import pickle\n",
    "import pandas as pd\n",
    "import numpy as np\n",
    "import warnings\n",
    "\n",
    "pyLDAvis.enable_notebook()"
   ]
  },
  {
   "cell_type": "markdown",
   "metadata": {},
   "source": [
    "<font color=\"blue\"/>\n",
    "\n",
    "### dsp:\n",
    "  * Sorting and adding empty lines might make this import list more accessible."
   ]
  },
  {
   "cell_type": "markdown",
   "metadata": {},
   "source": [
    "#### 1. Apply the initial LDA Model -- In order to group those documents which seem to belong to the same topic\n",
    "- params:\n",
    "    - processed_doc_path: cleand preprocessed data folder\n",
    "    - non_german_file_path: a list of all English files\n",
    "    - topic_num: topics numbers to choose while training the model\n",
    "    - document_limit: restrict the number of documents to process\n",
    "- variables:\n",
    "    - gensim_dictionary: [Dictionay](https://radimrehurek.com/gensim/corpora/dictionary.html) type, defined by gesim library \n",
    "    - corpus: doc2bow, tokenized and nomalized list\n",
    "    - lda: LDA model after training with given dataset"
   ]
  },
  {
   "cell_type": "markdown",
   "metadata": {},
   "source": [
    "<font color=\"blue\"/>\n",
    "\n",
    "### dsp:\n",
    "  * \"are seemed\" ~> \"seem\"\n",
    "  * What you call a \"path\" here you have been calling a \"folder\" before."
   ]
  },
  {
   "cell_type": "code",
   "execution_count": 2,
   "metadata": {},
   "outputs": [],
   "source": [
    "def initialLDAModel(processed_doc_path, non_german_file_path, topic_num=50, document_limit=1000):\n",
    "    \n",
    "    #get a list of non_german files\n",
    "    non_german_files = []\n",
    "    with open(non_german_file_path, 'r') as fr:\n",
    "        for line in fr:\n",
    "            non_german_files.append(line.strip())\n",
    "    \n",
    "    dictionary = []\n",
    "    filenames = []\n",
    "    \n",
    "    for root, dirs, files in os.walk(processed_doc_path):\n",
    "        for f in files:\n",
    "            if f[:-11] not in non_german_files:\n",
    "                document_limit -= 1\n",
    "                try:\n",
    "                    with open(root+'/'+f, 'rb') as fr:\n",
    "                        filenames.append(f)\n",
    "                        document_tokens = pickle.load(fr)\n",
    "                        dictionary.append(document_tokens)\n",
    "                except:\n",
    "                    print('Error while processing: ', f)\n",
    "            \n",
    "            if document_limit == 0:\n",
    "                break\n",
    "    \n",
    "    gensim_dictionary = Dictionary(dictionary)\n",
    "    corpus = [gensim_dictionary.doc2bow(text) for text in dictionary]\n",
    "    lda = LdaModel(corpus, num_topics=topic_num, id2word=gensim_dictionary, iterations=200)\n",
    "    topics = lda.show_topics(num_topics=-1, num_words=20)\n",
    "    \n",
    "    doc_pos = 0\n",
    "    mat = np.zeros((len(filenames), topic_num))\n",
    "\n",
    "    for doc in corpus:\n",
    "        vector = lda[doc] # get topic probability distribution for a document\n",
    "        for element in vector:\n",
    "            mat[doc_pos][element[0]] = element[1]\n",
    "        doc_pos += 1\n",
    "        \n",
    "    df = pd.DataFrame(mat, index=filenames, columns=range(0,topic_num))\n",
    "    \n",
    "    return df"
   ]
  },
  {
   "cell_type": "markdown",
   "metadata": {},
   "source": [
    "<font color=\"blue\"/>\n",
    "\n",
    "### dsp:\n",
    "  * The first half of this function could be a function in its own right. I think I have seen similar code in other notebooks as well."
   ]
  },
  {
   "cell_type": "code",
   "execution_count": 3,
   "metadata": {},
   "outputs": [
    {
     "name": "stdout",
     "output_type": "stream",
     "text": [
      "CPU times: user 33.7 s, sys: 348 ms, total: 34.1 s\n",
      "Wall time: 10.4 s\n"
     ]
    }
   ],
   "source": [
    "%%time\n",
    "warnings.filterwarnings(\"ignore\")\n",
    "#please modify the path\n",
    "# non_german_file_path = '/home/bit/ma0/LabShare/data/non_german_files.txt'\n",
    "# processed_doc_path = '/home/bit/ma0/LabShare/data/chui_ma/spacy_corpus/'\n",
    "\n",
    "#relative path\n",
    "non_german_file_path = './non_german_files.txt'\n",
    "processed_doc_path = '../spacy_corpus/'\n",
    "df = initialLDAModel(processed_doc_path, non_german_file_path, 20, 200)"
   ]
  },
  {
   "cell_type": "markdown",
   "metadata": {},
   "source": [
    "<font color=\"blue\"/>\n",
    "\n",
    "### dsp:\n",
    "  * Do you know, which warning you suppress? Did you check whether it is OK to ignore them? Are there no other warnings?"
   ]
  },
  {
   "cell_type": "markdown",
   "metadata": {},
   "source": [
    "#### Group topic related documents by assuming that belong to the same topic with the probability larget than 0.3\n",
    "- params: \n",
    "    - df: pandas DataFrame, each column represents one topic, and each row indicates the probability of that document belongs to this topic\n",
    "- variables: \n",
    "    - topic_related_documents: list, contain group of doucment names which seem to belong to the same topic"
   ]
  },
  {
   "cell_type": "code",
   "execution_count": 4,
   "metadata": {},
   "outputs": [],
   "source": [
    "def get_Topic_Related_Doc(df):  \n",
    "    \n",
    "    topic_related_documents = []\n",
    "    \n",
    "    for column in range(df.shape[1]):\n",
    "        row_count = 0\n",
    "        for row in range(df.shape[0]):\n",
    "            if df.iat[row, column] > 0.3:\n",
    "                row_count += 1\n",
    "        topic_related_documents.append(df.nlargest(row_count, column).index)\n",
    "    \n",
    "    return topic_related_documents"
   ]
  },
  {
   "cell_type": "markdown",
   "metadata": {},
   "source": [
    "#### 2. Apply the HierachicalLDA LDA Model \n",
    "- params:\n",
    "    - folder_path: cleand preprocessed data folder\n",
    "    - non_german_file_path: a list of all English files\n",
    "    - topic_num: topics numbers to choose while training the model\n",
    "    - document_limit: restrict the number of documents to process\n",
    "    - **topic_related_documents**: list, contain group of doucment names which seem to belong to the same topic (grouped together by high probability belonging to the same topic)\n",
    "- variables:\n",
    "    - gensim_dictionary: [Dictionay](https://radimrehurek.com/gensim/corpora/dictionary.html) type, defined by gesim library \n",
    "    - corpus: doc2bow, tokenized and nomalized list\n",
    "    - lda: LDA model after training with given dataset"
   ]
  },
  {
   "cell_type": "code",
   "execution_count": 5,
   "metadata": {},
   "outputs": [],
   "source": [
    "def hierachicalLDA(folder_path, non_german_file_path, topic_related_documents, topic_num=5, document_limit=1000):\n",
    "    #get a list of non_german files\n",
    "    non_german_files = []\n",
    "    with open(non_german_file_path, 'r') as fr:\n",
    "        for line in fr:\n",
    "            non_german_files.append(line.strip())\n",
    "            \n",
    "    dictionary = []\n",
    "    filenames = []\n",
    "    for root, dirs, files in os.walk(folder_path):\n",
    "        for f in sorted(files):\n",
    "            if f in topic_related_documents:\n",
    "                if f[:-11] not in non_german_files:\n",
    "                    with open(root+'/'+f, 'rb') as fr:\n",
    "                        filenames.append(f)\n",
    "                        document_tokens = pickle.load(fr)\n",
    "                        dictionary.append(document_tokens)\n",
    "\n",
    "    gensim_dictionary = Dictionary(dictionary)\n",
    "    corpus = [gensim_dictionary.doc2bow(text) for text in dictionary]\n",
    "    lda = models.ldamodel.LdaModel(corpus, num_topics=topic_num, id2word=gensim_dictionary, iterations=200)\n",
    "    topics = lda.show_topics(num_topics=-1, num_words=20)\n",
    "    \n",
    "    return lda, corpus, gensim_dictionary"
   ]
  },
  {
   "cell_type": "markdown",
   "metadata": {},
   "source": [
    "<font color=\"blue\"/>\n",
    "\n",
    "### dsp:\n",
    "  * This is probably the special part of this notebook.\n",
    "  * You did not document the parameter `topic_related_documents`.\n",
    "  * Does this parameter realized the \"hierarchical\" aspect of your \"hierarchical LDA\"?\n",
    "  * You do not seem to pass a document list containing only \"topic related\" documents, do you?"
   ]
  },
  {
   "cell_type": "code",
   "execution_count": 6,
   "metadata": {},
   "outputs": [],
   "source": [
    "docs = get_Topic_Related_Doc(df)"
   ]
  },
  {
   "cell_type": "markdown",
   "metadata": {},
   "source": [
    "#### Visualize the topic model by pyLDAvis library\n",
    "- params: \n",
    "    - folder_path: cleand preprocessed data folder\n",
    "    - docs: group of documents after initial LDA Model\n",
    "    - topic_num: topics number to choose"
   ]
  },
  {
   "cell_type": "code",
   "execution_count": 7,
   "metadata": {},
   "outputs": [],
   "source": [
    "def visualization(data_path, docs, topic_num):\n",
    "    \n",
    "    #only visualize those topics with more than 5 documents\n",
    "    if len(docs) > 5:\n",
    "        lda, corpus, dictionary = hierachicalLDA(data_path, non_german_file_path, docs, topic_num)\n",
    "        return pyLDAvis.gensim.prepare(lda, corpus, dictionary)\n",
    "    \n",
    "    else:\n",
    "        print('Cannot visualize, Too few documents')"
   ]
  },
  {
   "cell_type": "markdown",
   "metadata": {},
   "source": [
    "<font color=\"blue\"/>\n",
    "\n",
    "### dsp:\n",
    "  * \"Too less documents\" ~> \"Too few documents\""
   ]
  },
  {
   "cell_type": "markdown",
   "metadata": {},
   "source": [
    "Give a simple example, apply the Hierarchical LDA on one topic that has the maximum related documents."
   ]
  },
  {
   "cell_type": "code",
   "execution_count": 8,
   "metadata": {},
   "outputs": [
    {
     "data": {
      "text/html": [
       "\n",
       "<link rel=\"stylesheet\" type=\"text/css\" href=\"https://cdn.rawgit.com/bmabey/pyLDAvis/files/ldavis.v1.0.0.css\">\n",
       "\n",
       "\n",
       "<div id=\"ldavis_el672111122631709523151177533\"></div>\n",
       "<script type=\"text/javascript\">\n",
       "\n",
       "var ldavis_el672111122631709523151177533_data = {\"mdsDat\": {\"x\": [-0.0033099170318326163, -0.004641999281194579, 0.007951916313027198], \"y\": [0.0052761636047763336, -0.00471809381067061, -0.0005580697941057234], \"topics\": [1, 2, 3], \"cluster\": [1, 1, 1], \"Freq\": [65.36357879638672, 17.83527374267578, 16.8011474609375]}, \"tinfo\": {\"Category\": [\"Default\", \"Default\", \"Default\", \"Default\", \"Default\", \"Default\", \"Default\", \"Default\", \"Default\", \"Default\", \"Default\", \"Default\", \"Default\", \"Default\", \"Default\", \"Default\", \"Default\", \"Default\", \"Default\", \"Default\", \"Default\", \"Default\", \"Default\", \"Default\", \"Default\", \"Default\", \"Default\", \"Default\", \"Default\", \"Default\", \"Topic1\", \"Topic1\", \"Topic1\", \"Topic1\", \"Topic1\", \"Topic1\", \"Topic1\", \"Topic1\", \"Topic1\", \"Topic1\", \"Topic1\", \"Topic1\", \"Topic1\", \"Topic1\", \"Topic1\", \"Topic1\", \"Topic1\", \"Topic1\", \"Topic1\", \"Topic1\", \"Topic1\", \"Topic1\", \"Topic1\", \"Topic1\", \"Topic1\", \"Topic1\", \"Topic1\", \"Topic1\", \"Topic1\", \"Topic1\", \"Topic1\", \"Topic1\", \"Topic1\", \"Topic1\", \"Topic1\", \"Topic1\", \"Topic1\", \"Topic1\", \"Topic1\", \"Topic1\", \"Topic1\", \"Topic1\", \"Topic1\", \"Topic1\", \"Topic1\", \"Topic1\", \"Topic1\", \"Topic1\", \"Topic1\", \"Topic1\", \"Topic1\", \"Topic1\", \"Topic1\", \"Topic1\", \"Topic1\", \"Topic1\", \"Topic1\", \"Topic1\", \"Topic1\", \"Topic1\", \"Topic1\", \"Topic1\", \"Topic1\", \"Topic1\", \"Topic1\", \"Topic1\", \"Topic1\", \"Topic1\", \"Topic1\", \"Topic1\", \"Topic1\", \"Topic1\", \"Topic1\", \"Topic1\", \"Topic1\", \"Topic1\", \"Topic1\", \"Topic1\", \"Topic1\", \"Topic1\", \"Topic1\", \"Topic1\", \"Topic1\", \"Topic2\", \"Topic2\", \"Topic2\", \"Topic2\", \"Topic2\", \"Topic2\", \"Topic2\", \"Topic2\", \"Topic2\", \"Topic2\", \"Topic2\", \"Topic2\", \"Topic2\", \"Topic2\", \"Topic2\", \"Topic2\", \"Topic2\", \"Topic2\", \"Topic2\", \"Topic2\", \"Topic2\", \"Topic2\", \"Topic2\", \"Topic2\", \"Topic2\", \"Topic2\", \"Topic2\", \"Topic2\", \"Topic2\", \"Topic2\", \"Topic2\", \"Topic2\", \"Topic2\", \"Topic2\", \"Topic2\", \"Topic2\", \"Topic2\", \"Topic2\", \"Topic2\", \"Topic2\", \"Topic2\", \"Topic2\", \"Topic2\", \"Topic2\", \"Topic2\", \"Topic2\", \"Topic2\", \"Topic2\", \"Topic2\", \"Topic2\", \"Topic2\", \"Topic2\", \"Topic2\", \"Topic2\", \"Topic2\", \"Topic2\", \"Topic2\", \"Topic2\", \"Topic2\", \"Topic2\", \"Topic2\", \"Topic2\", \"Topic2\", \"Topic2\", \"Topic2\", \"Topic2\", \"Topic2\", \"Topic2\", \"Topic2\", \"Topic2\", \"Topic2\", \"Topic2\", \"Topic2\", \"Topic2\", \"Topic2\", \"Topic2\", \"Topic2\", \"Topic2\", \"Topic2\", \"Topic2\", \"Topic2\", \"Topic2\", \"Topic2\", \"Topic2\", \"Topic3\", \"Topic3\", \"Topic3\", \"Topic3\", \"Topic3\", \"Topic3\", \"Topic3\", \"Topic3\", \"Topic3\", \"Topic3\", \"Topic3\", \"Topic3\", \"Topic3\", \"Topic3\", \"Topic3\", \"Topic3\", \"Topic3\", \"Topic3\", \"Topic3\", \"Topic3\", \"Topic3\", \"Topic3\", \"Topic3\", \"Topic3\", \"Topic3\", \"Topic3\", \"Topic3\", \"Topic3\", \"Topic3\", \"Topic3\", \"Topic3\", \"Topic3\", \"Topic3\", \"Topic3\", \"Topic3\", \"Topic3\", \"Topic3\", \"Topic3\", \"Topic3\", \"Topic3\", \"Topic3\", \"Topic3\", \"Topic3\", \"Topic3\", \"Topic3\", \"Topic3\", \"Topic3\", \"Topic3\", \"Topic3\", \"Topic3\", \"Topic3\", \"Topic3\", \"Topic3\", \"Topic3\", \"Topic3\", \"Topic3\", \"Topic3\", \"Topic3\", \"Topic3\", \"Topic3\", \"Topic3\", \"Topic3\", \"Topic3\", \"Topic3\", \"Topic3\", \"Topic3\", \"Topic3\", \"Topic3\", \"Topic3\", \"Topic3\", \"Topic3\", \"Topic3\", \"Topic3\", \"Topic3\", \"Topic3\", \"Topic3\", \"Topic3\", \"Topic3\", \"Topic3\", \"Topic3\", \"Topic3\", \"Topic3\", \"Topic3\", \"Topic3\", \"Topic3\", \"Topic3\", \"Topic3\", \"Topic3\"], \"Freq\": [2974.0, 2678.0, 3125.0, 3310.0, 2248.0, 2282.0, 2687.0, 1774.0, 2524.0, 2014.0, 2084.0, 2004.0, 2915.0, 595.0, 2551.0, 1031.0, 1697.0, 1391.0, 1517.0, 1650.0, 1136.0, 1494.0, 1583.0, 1573.0, 1674.0, 1496.0, 1103.0, 1560.0, 2386.0, 1092.0, 197.68055725097656, 45.81070327758789, 10.093213081359863, 1421.800537109375, 19.974966049194336, 16.06519889831543, 13.925232887268066, 16.85866928100586, 10.865459442138672, 39.20332336425781, 39.86787414550781, 49.63979721069336, 22.619457244873047, 18.635295867919922, 66.21598815917969, 6.72462797164917, 21.940122604370117, 9.588590621948242, 47.35276794433594, 39.46277618408203, 17.04637908935547, 13.279051780700684, 35.67036819458008, 20.53602409362793, 19.48183250427246, 12.124035835266113, 12.104721069335938, 16.73773765563965, 7.438875675201416, 73.00045013427734, 91.24419403076172, 47.469078063964844, 77.65531921386719, 36.51887893676758, 1415.8623046875, 165.06874084472656, 30.18772315979004, 58.57227325439453, 285.616943359375, 215.21377563476562, 1496.4278564453125, 397.8799133300781, 1210.85009765625, 989.0792236328125, 1158.97607421875, 865.3494873046875, 97.15219116210938, 1687.378662109375, 2023.296630859375, 1195.8355712890625, 1370.1519775390625, 1512.4443359375, 883.320068359375, 1264.5201416015625, 752.9129028320312, 1122.3116455078125, 2258.623291015625, 617.387939453125, 603.3627319335938, 791.08203125, 647.2136840820312, 1734.324462890625, 772.6907958984375, 833.5399169921875, 505.76123046875, 964.7848510742188, 1179.456298828125, 949.1881103515625, 1074.500732421875, 1982.1895751953125, 1637.3896484375, 1729.537353515625, 1073.630126953125, 1861.1787109375, 1355.4591064453125, 1613.4727783203125, 1272.032958984375, 1264.7257080078125, 1384.8245849609375, 1321.76318359375, 1089.8040771484375, 1047.946533203125, 1060.75830078125, 313.7953186035156, 28.139602661132812, 74.26048278808594, 5.774275779724121, 2.785364866256714, 35.132598876953125, 3.0295932292938232, 2.348891019821167, 7.523336410522461, 2.993123769760132, 2.043860912322998, 2.9875681400299072, 3.351649522781372, 3.3781187534332275, 3.683312177658081, 3.374864339828491, 18.172273635864258, 6.030470371246338, 3.5896835327148438, 4.367452144622803, 20.26146125793457, 1.6399118900299072, 1.6527349948883057, 2.9452717304229736, 1.9876608848571777, 3.5879905223846436, 5.12310266494751, 2.006359815597534, 3.593431234359741, 0.9708259701728821, 7.6050543785095215, 24.31131362915039, 11.452432632446289, 16.1538143157959, 4.6275248527526855, 5.382256031036377, 169.27210998535156, 305.7803649902344, 28.603498458862305, 14.485169410705566, 362.29925537109375, 90.41012573242188, 686.2528686523438, 172.12652587890625, 281.6468200683594, 505.54583740234375, 10.961705207824707, 222.43174743652344, 642.8634033203125, 489.3606872558594, 55.3661003112793, 430.3352355957031, 251.59597778320312, 69.09344482421875, 536.6572265625, 534.73046875, 196.33033752441406, 322.7417907714844, 97.36134338378906, 366.20159912109375, 256.5728759765625, 250.50994873046875, 297.2990417480469, 529.0223999023438, 174.10646057128906, 341.2825622558594, 310.0406799316406, 458.51080322265625, 285.4718017578125, 257.2420654296875, 437.00897216796875, 210.26751708984375, 308.8836364746094, 349.43963623046875, 375.8062438964844, 294.4388732910156, 302.1157531738281, 305.84649658203125, 333.8971252441406, 283.0804443359375, 359.9242858886719, 310.1392517089844, 294.47198486328125, 291.4205627441406, 2.7956838607788086, 1.8439422845840454, 5.028058052062988, 2.7039425373077393, 1.3407893180847168, 2.6203057765960693, 2.6584527492523193, 4.958327770233154, 1.710988998413086, 5.969531059265137, 1.2680381536483765, 1.2673434019088745, 1.7434437274932861, 2.02260160446167, 1.2524365186691284, 1.683418869972229, 4.202118396759033, 1.2053043842315674, 1.2171298265457153, 1.2170448303222656, 1.205421805381775, 5.264023780822754, 1.1967049837112427, 2.7771995067596436, 1.1833728551864624, 1.1703500747680664, 1.1954888105392456, 1.1702009439468384, 1.1947972774505615, 52.83061981201172, 18.827096939086914, 19.136320114135742, 9.1303129196167, 4.288002967834473, 85.54547882080078, 17.375497817993164, 11.058002471923828, 15.798775672912598, 176.0841522216797, 3.9386792182922363, 6.903888702392578, 7.690001487731934, 11.013518333435059, 21.215850830078125, 266.9356689453125, 691.8963623046875, 101.65181732177734, 25.69904136657715, 121.88652801513672, 385.27215576171875, 256.87713623046875, 189.11500549316406, 207.30841064453125, 530.6351928710938, 419.08868408203125, 220.58750915527344, 400.5026550292969, 120.42570495605469, 170.2444305419922, 171.807861328125, 420.8158264160156, 230.994873046875, 226.13409423828125, 331.106689453125, 202.85452270507812, 408.3264465332031, 215.60951232910156, 262.16339111328125, 428.6866455078125, 296.81341552734375, 500.0066223144531, 300.32281494140625, 289.9096374511719, 281.435791015625, 421.7510681152344, 283.4448547363281, 427.3819274902344, 380.45556640625, 275.9732666015625, 302.1907043457031, 363.41339111328125, 323.2215576171875, 306.048095703125, 259.2416687011719, 268.7658996582031, 278.1552429199219, 247.1017303466797, 256.39556884765625], \"Term\": [\"wesentlich\", \"bank\", \"deutsch\", \"daimler\", \"unternehmen\", \"vorjahr\", \"dezember\", \"ergebnis\", \"risiken\", \"aufgrund\", \"verm\\u00f6genswerte\", \"sonstig\", \"h\\u00f6he\", \"deutz\", \"hoch\", \"ergeben\", \"entwicklung\", \"zeitwert\", \"steuern\", \"beizulegenden\", \"forderungen\", \"stehen\", \"entsprechen\", \"insgesamt\", \"insbesondere\", \"erwarten\", \"steigen\", \"konzerns\", \"konzern\", \"quartal\", \"fire\", \"zeitarbeit\", \"concentrate\", \"biotest\", \"pr\\u00e4parat\", \"intensivmedizin\", \"kreissparkasse\", \"young\", \"bakterien\", \"zutectra\", \"plasmaproteinen\", \"dreieich\", \"personalvermittlung\", \"kundenunternehmen\", \"plasmaproteine\", \"lenalidomid\", \"antik\\u00f6rpern\", \"lupus\", \"term\", \"biotherapeutika\", \"pentaglobin\", \"pay\", \"boca\", \"h\\u00e4matologie\", \"ramroth\", \"transplantation\", \"gregor\", \"civacir\", \"zulassungsbeh\\u00f6rde\", \"ltip\", \"plasma\", \"antik\\u00f6rper\", \"vorzugsaktien\", \"biodarou\", \"hinaus\", \"amadeus\", \"schleussner\", \"bpc\", \"anschaffungskosten\", \"verbinden\", \"liegen\", \"strategie\", \"vorstand\", \"bestehen\", \"erfolgen\", \"verg\\u00fctung\", \"phase\", \"konzern\", \"h\\u00f6he\", \"kunden\", \"aufsichtsrat\", \"rahmen\", \"aufwendungen\", \"enthalten\", \"vorstands\", \"betragen\", \"daimler\", \"gruppe\", \"weltweit\", \"beziehungsweise\", \"ma\\u00dfnahmen\", \"hoch\", \"erhalten\", \"weiterhin\", \"m\\u00f6glich\", \"zusammenhang\", \"gesch\\u00e4ftsjahr\", \"ber\\u00fccksichtigen\", \"bewerten\", \"deutsch\", \"risiken\", \"dezember\", \"bestimmen\", \"wesentlich\", \"verm\\u00f6genswerte\", \"bank\", \"sonstig\", \"aufgrund\", \"vorjahr\", \"unternehmen\", \"insbesondere\", \"beizulegenden\", \"entwicklung\", \"deutz\", \"cropscience\", \"bayer\", \"referenzkurs\", \"mirena\", \"sondereinfl\\u00fcssen\", \"nahost\", \"scientific\", \"zuteilungszeitpunkt\", \"herbiziden\", \"metastasiertem\", \"xarelto\", \"portfoliobereinigten\", \"sgc\", \"w\\u00e4hrungseffekt\", \"adempas\", \"wpb\", \"algeta\", \"umsatzzuw\\u00e4chse\", \"riociguat\", \"merck\", \"pilzst\\u00e4mmen\", \"teilbefreiung\", \"mhlw\", \"stivarga\", \"handelsname\", \"sonderaufwendungen\", \"aldo\", \"modulation\", \"olivier\", \"linyi\", \"healthcare\", \"prozentbereich\", \"materialscience\", \"granar\", \"haase\", \"betreffen\", \"ergeben\", \"cancom\", \"compact\", \"zeitwert\", \"ebitda\", \"wesentlich\", \"adler\", \"forderungen\", \"unternehmen\", \"einstellig\", \"bereich\", \"deutsch\", \"vorjahr\", \"spanien\", \"sonstig\", \"langfristig\", \"commerzbank\", \"dezember\", \"bank\", \"ver\\u00e4u\\u00dferung\", \"stehen\", \"extern\", \"ergebnis\", \"ertr\\u00e4ge\", \"gesellschaft\", \"ifrs\", \"h\\u00f6he\", \"ias\", \"gesch\\u00e4ftsjahr\", \"steuern\", \"risiken\", \"basis\", \"erh\\u00f6hen\", \"hoch\", \"jeweilig\", \"insbesondere\", \"aufgrund\", \"konzern\", \"betragen\", \"beizulegenden\", \"entwicklung\", \"rahmen\", \"erwarten\", \"daimler\", \"verm\\u00f6genswerte\", \"liegen\", \"aufsichtsrat\", \"mvlo\", \"anlageergebnisses\", \"anlageorientierten\", \"kazakhstan\", \"xynthia\", \"wachstumskategorie\", \"polska\", \"popular\", \"wertpapierleihgesch\\u00e4fte\", \"preiseffekt\", \"anleihewerte\", \"verlustreichsten\", \"pr\\u00e4mienr\\u00fcckgang\", \"nettoschadenbelastung\", \"orkan\", \"fremdgenutzter\", \"schadenjahr\", \"volumeneffekt\", \"rentenprodukten\", \"finanzierungshilfen\", \"gro\\u00dfsch\\u00e4den\", \"agcs\", \"europensiones\", \"zao\", \"rentenanlagen\", \"nettomitteln\", \"indexgewinne\", \"vollkonsolidiertes\", \"tornados\", \"milliarden\", \"bruttobeitr\\u00e4ge\", \"beitragseinnahmen\", \"eigenmittel\", \"grundbesitz\", \"allianz\", \"naturkatastrophen\", \"finanzpassiva\", \"finanzaktiva\", \"millionen\", \"combined\", \"fielmann\", \"krankenversicherung\", \"aareon\", \"aareal\", \"quartal\", \"daimler\", \"lagen\", \"neugesch\\u00e4ft\", \"group\", \"ergebnis\", \"steigen\", \"r\\u00fcckgang\", \"segment\", \"bank\", \"verm\\u00f6genswerte\", \"global\", \"aufgrund\", \"berechnung\", \"stark\", \"wirtschaftlich\", \"unternehmen\", \"f\\u00fchren\", \"finanziell\", \"entwicklung\", \"resultieren\", \"vorjahr\", \"ergeben\", \"stellen\", \"risiken\", \"entsprechen\", \"deutsch\", \"beizulegenden\", \"insgesamt\", \"steuern\", \"dezember\", \"konzerns\", \"wesentlich\", \"hoch\", \"insbesondere\", \"sonstig\", \"h\\u00f6he\", \"konzern\", \"rahmen\", \"erwarten\", \"kunden\", \"aufsichtsrat\", \"zusammenhang\", \"bestimmen\"], \"Total\": [2974.0, 2678.0, 3125.0, 3310.0, 2248.0, 2282.0, 2687.0, 1774.0, 2524.0, 2014.0, 2084.0, 2004.0, 2915.0, 595.0, 2551.0, 1031.0, 1697.0, 1391.0, 1517.0, 1650.0, 1136.0, 1494.0, 1583.0, 1573.0, 1674.0, 1496.0, 1103.0, 1560.0, 2386.0, 1092.0, 223.29949951171875, 52.41218566894531, 11.585211753845215, 1632.411376953125, 22.995716094970703, 18.499752044677734, 16.081806182861328, 19.52375602722168, 12.591567993164062, 45.596675872802734, 46.468040466308594, 57.867435455322266, 26.41343116760254, 21.812541961669922, 77.83106994628906, 7.9054718017578125, 25.82172203063965, 11.309776306152344, 56.01713180541992, 46.81434631347656, 20.223506927490234, 15.757902145385742, 42.40554428100586, 24.4564208984375, 23.251752853393555, 14.474773406982422, 14.4548978805542, 19.999555587768555, 8.89002513885498, 87.25069427490234, 109.8766098022461, 57.16998291015625, 94.16970825195312, 43.97464370727539, 1801.0418701171875, 203.70687866210938, 36.298824310302734, 71.42969512939453, 364.97955322265625, 274.3893127441406, 2039.2156982421875, 519.4287719726562, 1663.58935546875, 1354.1783447265625, 1597.4710693359375, 1179.8643798828125, 121.25753784179688, 2386.40625, 2915.732421875, 1679.828369140625, 1939.727783203125, 2152.3896484375, 1222.3095703125, 1784.2254638671875, 1034.8558349609375, 1576.737060546875, 3310.44384765625, 840.9777221679688, 823.0860595703125, 1098.947509765625, 888.1422119140625, 2551.7890625, 1074.6400146484375, 1173.0526123046875, 686.2789306640625, 1374.801025390625, 1707.60595703125, 1352.5826416015625, 1551.1846923828125, 3125.0595703125, 2524.5869140625, 2687.945556640625, 1580.132568359375, 2974.8134765625, 2084.68701171875, 2678.83837890625, 2004.558837890625, 2014.66796875, 2282.51171875, 2248.125, 1674.6610107421875, 1650.385009765625, 1697.71142578125, 595.2422485351562, 55.45306396484375, 147.47186279296875, 11.886630058288574, 5.7353973388671875, 73.06207275390625, 6.38383674621582, 4.962158679962158, 15.910826683044434, 6.4061384201049805, 4.389766693115234, 6.434718132019043, 7.219958305358887, 7.277308940887451, 7.935100555419922, 7.272302627563477, 39.32221984863281, 13.074577331542969, 7.785884380340576, 9.478732109069824, 44.44220733642578, 3.619532585144043, 3.6533520221710205, 6.546519756317139, 4.444306373596191, 8.135817527770996, 11.641496658325195, 4.577589511871338, 8.206201553344727, 2.22430157661438, 17.46941375732422, 56.96268081665039, 26.985925674438477, 38.49272918701172, 10.69526481628418, 12.602165222167969, 511.5538024902344, 1031.5673828125, 77.73548889160156, 37.797786712646484, 1391.7852783203125, 298.68902587890625, 2974.8134765625, 631.2559204101562, 1136.781982421875, 2248.125, 28.055490493774414, 895.2215576171875, 3125.0595703125, 2282.51171875, 183.62855529785156, 2004.558837890625, 1078.98583984375, 240.12014770507812, 2687.945556640625, 2678.83837890625, 820.418701171875, 1494.8447265625, 359.597412109375, 1774.90185546875, 1156.630126953125, 1134.5966796875, 1409.095458984375, 2915.732421875, 733.7891845703125, 1707.60595703125, 1517.5274658203125, 2524.5869140625, 1381.5406494140625, 1214.080322265625, 2551.7890625, 943.4161987304688, 1674.6610107421875, 2014.66796875, 2386.40625, 1576.737060546875, 1650.385009765625, 1697.71142578125, 2152.3896484375, 1496.330810546875, 3310.44384765625, 2084.68701171875, 2039.2156982421875, 1939.727783203125, 4.603850841522217, 3.0496082305908203, 8.551370620727539, 4.633449554443359, 2.3045341968536377, 4.551762580871582, 4.639323711395264, 8.689653396606445, 3.090857982635498, 10.869783401489258, 2.309385061264038, 2.3165230751037598, 3.186821937561035, 3.759690046310425, 2.3342761993408203, 3.154665470123291, 8.009366989135742, 2.310391902923584, 2.3407540321350098, 2.348867893218994, 2.3651907444000244, 10.35095500946045, 2.354464054107666, 5.487025260925293, 2.348689079284668, 2.325584888458252, 2.3771305084228516, 2.332310676574707, 2.3981051445007324, 106.62469482421875, 38.31353759765625, 40.461395263671875, 19.335660934448242, 8.96823501586914, 203.30126953125, 39.786773681640625, 24.744766235351562, 37.23236846923828, 517.0594482421875, 8.432717323303223, 15.810300827026367, 17.857379913330078, 26.952831268310547, 56.89616394042969, 1092.6304931640625, 3310.44384765625, 365.64892578125, 73.05095672607422, 456.78729248046875, 1774.90185546875, 1103.9609375, 771.5423583984375, 863.1229858398438, 2678.83837890625, 2084.68701171875, 963.7521362304688, 2014.66796875, 471.79205322265625, 723.0507202148438, 736.3114013671875, 2248.125, 1072.9886474609375, 1053.376220703125, 1697.71142578125, 922.670166015625, 2282.51171875, 1031.5673828125, 1338.208984375, 2524.5869140625, 1583.015869140625, 3125.0595703125, 1650.385009765625, 1573.2939453125, 1517.5274658203125, 2687.945556640625, 1560.6986083984375, 2974.8134765625, 2551.7890625, 1674.6610107421875, 2004.558837890625, 2915.732421875, 2386.40625, 2152.3896484375, 1496.330810546875, 1679.828369140625, 1939.727783203125, 1374.801025390625, 1580.132568359375], \"loglift\": [30.0, 29.0, 28.0, 27.0, 26.0, 25.0, 24.0, 23.0, 22.0, 21.0, 20.0, 19.0, 18.0, 17.0, 16.0, 15.0, 14.0, 13.0, 12.0, 11.0, 10.0, 9.0, 8.0, 7.0, 6.0, 5.0, 4.0, 3.0, 2.0, 1.0, 0.30329999327659607, 0.2906000018119812, 0.2872999906539917, 0.2870999872684479, 0.28439998626708984, 0.2840999960899353, 0.28119999170303345, 0.2784000039100647, 0.2777999937534332, 0.27410000562667847, 0.2720000147819519, 0.2718000113964081, 0.2700999975204468, 0.2678000032901764, 0.2635999917984009, 0.26339998841285706, 0.2623000144958496, 0.26010000705718994, 0.2572000026702881, 0.25440001487731934, 0.25429999828338623, 0.2540999948978424, 0.25220000743865967, 0.25049999356269836, 0.2483000010251999, 0.24799999594688416, 0.24779999256134033, 0.24719999730587006, 0.24699999392032623, 0.24690000712871552, 0.2393999993801117, 0.23929999768733978, 0.23240000009536743, 0.2393999993801117, 0.18459999561309814, 0.21490000188350677, 0.24089999496936798, 0.22679999470710754, 0.18000000715255737, 0.18230000138282776, 0.11569999903440475, 0.15860000252723694, 0.10760000348091125, 0.11100000143051147, 0.10429999977350235, 0.1151999980211258, 0.20360000431537628, 0.07859999686479568, 0.05979999899864197, 0.08540000021457672, 0.07760000228881836, 0.07240000367164612, 0.10040000081062317, 0.08089999854564667, 0.1071000024676323, 0.0851999968290329, 0.042899999767541885, 0.1160999983549118, 0.11469999700784683, 0.09650000184774399, 0.10869999974966049, 0.039000000804662704, 0.09529999643564224, 0.08349999785423279, 0.11999999731779099, 0.07100000232458115, 0.0551999993622303, 0.07100000232458115, 0.057999998331069946, -0.029999999329447746, -0.007799999788403511, -0.015699999406933784, 0.03869999945163727, -0.043800000101327896, -0.0052999998442828655, -0.08179999887943268, -0.029600000008940697, -0.04039999842643738, -0.07450000196695328, -0.10589999705553055, -0.004399999976158142, -0.028999999165534973, -0.045099999755620956, 1.083799958229065, 1.0456000566482544, 1.0378999710083008, 1.0019999742507935, 1.0017000436782837, 0.9918000102043152, 0.9786999821662903, 0.9761000275611877, 0.9750000238418579, 0.963100016117096, 0.9595999717712402, 0.9567000269889832, 0.95660001039505, 0.9564999938011169, 0.9564999938011169, 0.9563000202178955, 0.9520999789237976, 0.9501000046730042, 0.9496999979019165, 0.9491000175476074, 0.9384999871253967, 0.9322999715805054, 0.9308000206947327, 0.9253000020980835, 0.9193000197410583, 0.9053000211715698, 0.9031999707221985, 0.8991000056266785, 0.8981999754905701, 0.8949000239372253, 0.8924000263214111, 0.8725000023841858, 0.8669000267982483, 0.8557000160217285, 0.8862000107765198, 0.873199999332428, 0.6179999709129333, 0.5080000162124634, 0.7242000102996826, 0.7649000287055969, 0.3781000077724457, 0.5289000272750854, 0.2572999894618988, 0.4244999885559082, 0.3287000060081482, 0.23180000483989716, 0.7842000126838684, 0.33149999380111694, 0.14270000159740448, 0.18410000205039978, 0.5249999761581421, 0.18539999425411224, 0.2680000066757202, 0.478300005197525, 0.1128000020980835, 0.11259999871253967, 0.2939999997615814, 0.19110000133514404, 0.4174000024795532, 0.14569999277591705, 0.21809999644756317, 0.2134999930858612, 0.1679999977350235, 0.017100000753998756, 0.28540000319480896, 0.11389999836683273, 0.13590000569820404, 0.01810000091791153, 0.14720000326633453, 0.17229999601840973, -0.0406000018119812, 0.22290000319480896, 0.03359999880194664, -0.027899999171495438, -0.12449999898672104, 0.04600000008940697, 0.026000000536441803, 0.009999999776482582, -0.13950000703334808, 0.05900000035762787, -0.4950000047683716, -0.18140000104904175, -0.2110999971628189, -0.17149999737739563, 1.2848999500274658, 1.2805999517440796, 1.2526999711990356, 1.2451000213623047, 1.2421000003814697, 1.2315000295639038, 1.2268999814987183, 1.2226999998092651, 1.1922999620437622, 1.184399962425232, 1.1842000484466553, 1.1806000471115112, 1.1806000471115112, 1.1638000011444092, 1.1611000299453735, 1.1556999683380127, 1.138700008392334, 1.1330000162124634, 1.129699945449829, 1.1261999607086182, 1.1096999645233154, 1.1074999570846558, 1.1069999933242798, 1.1028000116348267, 1.0981999635696411, 1.097100019454956, 1.0964000225067139, 1.093999981880188, 1.0870000123977661, 1.0815000534057617, 1.073199987411499, 1.034999966621399, 1.033400058746338, 1.0458999872207642, 0.9180999994277954, 0.9552000164985657, 0.9782999753952026, 0.9265000224113464, 0.7064999938011169, 1.0224000215530396, 0.9550999999046326, 0.9412000179290771, 0.8888000249862671, 0.7972000241279602, 0.37439998984336853, 0.218299999833107, 0.503600001335144, 0.7390000224113464, 0.4625999927520752, 0.25619998574256897, 0.3257000148296356, 0.37770000100135803, 0.35740000009536743, 0.1647000014781952, 0.1793999969959259, 0.3091999888420105, 0.16820000112056732, 0.41819998621940613, 0.3375000059604645, 0.32839998602867126, 0.10809999704360962, 0.24789999425411224, 0.2451000064611435, 0.14910000562667847, 0.2689000070095062, 0.06279999762773514, 0.2184000015258789, 0.15360000729560852, 0.010599999688565731, 0.10970000177621841, -0.048900000751018524, 0.07980000227689743, 0.09239999949932098, 0.09880000352859497, -0.06840000301599503, 0.0778999999165535, -0.15649999678134918, -0.11949999630451202, -0.019300000742077827, -0.10840000212192535, -0.2985999882221222, -0.21549999713897705, -0.16689999401569366, 0.030700000002980232, -0.048900000751018524, -0.15839999914169312, 0.06750000268220901, -0.03480000048875809], \"logprob\": [30.0, 29.0, 28.0, 27.0, 26.0, 25.0, 24.0, 23.0, 22.0, 21.0, 20.0, 19.0, 18.0, 17.0, 16.0, 15.0, 14.0, 13.0, 12.0, 11.0, 10.0, 9.0, 8.0, 7.0, 6.0, 5.0, 4.0, 3.0, 2.0, 1.0, -7.952300071716309, -9.41450023651123, -10.92710018157959, -5.979300022125244, -10.244500160217285, -10.462300300598145, -10.605299949645996, -10.41409969329834, -10.853400230407715, -9.570199966430664, -9.553400039672852, -9.334199905395508, -10.120200157165527, -10.313899993896484, -9.046099662780762, -11.333200454711914, -10.150699615478516, -10.978400230407715, -9.381400108337402, -9.563599586486816, -10.40310001373291, -10.652799606323242, -9.66469955444336, -10.21679973602295, -10.269499778747559, -10.743800163269043, -10.745400428771973, -10.421299934387207, -11.2322998046875, -8.94849967956543, -8.725500106811523, -9.378899574279785, -8.886699676513672, -9.641200065612793, -5.983500003814697, -8.132599830627441, -9.831600189208984, -9.168700218200684, -7.5843000411987305, -7.867400169372559, -5.928199768066406, -7.252799987792969, -6.139900207519531, -6.342199802398682, -6.183700084686279, -6.475900173187256, -8.662699699401855, -5.80810022354126, -5.626500129699707, -6.152400016784668, -6.016300201416016, -5.917500019073486, -6.4552998542785645, -6.096499919891357, -6.614999771118164, -6.215799808502197, -5.516499996185303, -6.813499927520752, -6.83650016784668, -6.5655999183654785, -6.766300201416016, -5.780600070953369, -6.589099884033203, -6.513299942016602, -7.012899875640869, -6.367099761962891, -6.166200160980225, -6.383399963378906, -6.259399890899658, -5.646999835968018, -5.838099956512451, -5.783400058746338, -6.260200023651123, -5.710000038146973, -6.027100086212158, -5.852799892425537, -6.09060001373291, -6.096399784088135, -6.00570011138916, -6.052299976348877, -6.245200157165527, -6.28439998626709, -6.272299766540527, -6.191500186920166, -8.602999687194824, -7.632599830627441, -10.186800003051758, -10.915800094604492, -8.381099700927734, -10.83180046081543, -11.086299896240234, -9.922200202941895, -10.843899726867676, -11.2253999710083, -10.84570026397705, -10.730799674987793, -10.722900390625, -10.63640022277832, -10.723899841308594, -9.040300369262695, -10.143400192260742, -10.662099838256836, -10.465999603271484, -8.931500434875488, -11.445599555969238, -11.437800407409668, -10.859999656677246, -11.253199577331543, -10.662599563598633, -10.306400299072266, -11.243900299072266, -10.661100387573242, -11.969799995422363, -9.911399841308594, -8.749300003051758, -9.501999855041504, -9.158100128173828, -10.40820026397705, -10.257100105285645, -6.808700084686279, -6.217299938201904, -8.586700439453125, -9.26710033416748, -6.047699928283691, -7.4359002113342285, -5.408999919891357, -6.791999816894531, -6.299600124359131, -5.714600086212158, -9.54580020904541, -6.535600185394287, -5.474299907684326, -5.747099876403809, -7.926199913024902, -5.8755998611450195, -6.412399768829346, -7.704699993133545, -5.654799938201904, -5.658400058746338, -6.660399913787842, -6.163400173187256, -7.361800193786621, -6.0370001792907715, -6.3927998542785645, -6.4166998863220215, -6.245500087738037, -5.6691999435424805, -6.7804999351501465, -6.107500076293945, -6.203499794006348, -5.81220006942749, -6.286099910736084, -6.390200138092041, -5.860300064086914, -6.591800212860107, -6.207200050354004, -6.083899974822998, -6.011099815368652, -6.255099773406982, -6.229400157928467, -6.217100143432617, -6.12939977645874, -6.29449987411499, -6.054299831390381, -6.203199863433838, -6.255000114440918, -6.265399932861328, -10.852399826049805, -11.268600463867188, -10.265399932861328, -10.8858003616333, -11.587200164794922, -10.917200088500977, -10.902700424194336, -10.279399871826172, -11.343400001525879, -10.093799591064453, -11.642999649047852, -11.643600463867188, -11.324600219726562, -11.17609977722168, -11.655400276184082, -11.359600067138672, -10.444899559020996, -11.693699836730957, -11.684000015258789, -11.684100151062012, -11.693599700927734, -10.219599723815918, -11.700900077819824, -10.859000205993652, -11.7121000289917, -11.723199844360352, -11.701899528503418, -11.723299980163574, -11.702500343322754, -7.913400173187256, -8.945199966430664, -8.928899765014648, -9.668899536132812, -10.424699783325195, -7.431399822235107, -9.025400161743164, -9.477299690246582, -9.120499610900879, -6.709499835968018, -10.509599685668945, -9.948399543762207, -9.84060001373291, -9.481399536132812, -8.825699806213379, -6.293499946594238, -5.341000080108643, -7.258900165557861, -8.633999824523926, -7.077400207519531, -5.926499843597412, -6.331900119781494, -6.6381001472473145, -6.546299934387207, -5.606400012969971, -5.842400074005127, -6.4842000007629395, -5.887800216674805, -7.089399814605713, -6.743199825286865, -6.734099864959717, -5.8383002281188965, -6.4380998611450195, -6.4593000411987305, -6.078000068664551, -6.567999839782715, -5.8684000968933105, -6.506999969482422, -6.311500072479248, -5.819799900054932, -6.187399864196777, -5.665900230407715, -6.175600051879883, -6.210899829864502, -6.240600109100342, -5.836100101470947, -6.233500003814697, -5.822800159454346, -5.9390997886657715, -6.260200023651123, -6.169400215148926, -5.984899997711182, -6.102099895477295, -6.156700134277344, -6.322700023651123, -6.286600112915039, -6.252299785614014, -6.370699882507324, -6.333799839019775]}, \"token.table\": {\"Topic\": [1, 2, 3, 1, 2, 3, 1, 2, 3, 1, 2, 3, 1, 2, 3, 1, 2, 3, 1, 2, 3, 1, 2, 3, 1, 2, 3, 1, 3, 1, 2, 3, 1, 3, 1, 2, 3, 1, 2, 3, 1, 2, 3, 1, 2, 3, 1, 2, 3, 1, 2, 3, 1, 2, 1, 2, 3, 1, 2, 3, 1, 2, 3, 1, 2, 3, 1, 2, 3, 1, 2, 3, 1, 2, 3, 1, 2, 3, 1, 2, 3, 1, 2, 3, 1, 2, 3, 1, 2, 3, 1, 2, 3, 1, 2, 3, 1, 2, 3, 1, 2, 3, 1, 2, 3, 1, 2, 3, 1, 2, 3, 1, 2, 3, 1, 2, 3, 1, 2, 3, 1, 2, 3, 1, 2, 3, 1, 2, 3, 1, 2, 1, 2, 3, 1, 2, 3, 1, 2, 3, 1, 2, 3, 1, 2, 3, 1, 2, 3, 1, 2, 3, 1, 2, 3, 1, 2, 3, 1, 2, 3, 1, 2, 3, 1, 2, 3, 1, 2, 3, 1, 2, 3, 1, 2, 3, 1, 2, 3, 1, 2, 3, 1, 2, 3, 1, 2, 3, 1, 3, 1, 2, 3, 1, 3, 1, 2, 3, 1, 2, 3, 1, 3, 1, 2, 3, 1, 2, 3, 1, 2, 3, 1, 3, 1, 2, 3, 1, 2, 3, 1, 2, 3, 1, 2, 3, 1, 2, 3, 1, 2, 3, 1, 2, 3, 1, 3, 1, 2, 3, 1, 2, 3, 1, 2, 3, 1, 2, 3, 1, 2, 3, 1, 2, 3, 1, 2, 3, 1, 2, 3, 1, 2, 3, 1, 2, 3, 1, 2, 3, 1, 2, 3, 1, 3, 1, 2, 3, 1, 2, 3, 1, 2, 3, 1, 2, 3, 1, 2, 3, 1, 2, 3, 1, 2, 3, 1, 2, 3, 1, 2, 3, 1, 2, 3, 1, 2, 3, 1, 2, 3, 1, 2, 3, 1, 2, 1, 2, 3, 1, 2, 3, 1, 2, 3, 1, 2, 3, 1, 2, 3, 1, 2, 3, 1, 2, 3, 1, 2, 3, 1, 2, 3, 1, 2, 3, 1, 2, 3, 1, 2, 3, 1, 2, 3, 1, 3, 1, 2, 3, 1, 2, 3, 1, 2, 3, 1, 3, 1, 2, 3, 1, 2, 3, 1, 2, 1, 3, 1, 2, 3, 1, 2, 3, 1, 2, 3, 1, 2, 3, 1, 2, 3, 1, 2, 3, 1, 2, 3, 1, 2, 3, 1, 2, 3, 1, 2, 3, 1, 2, 3, 1, 2, 3, 1, 2, 3, 1, 3, 1, 2, 3, 1, 2, 3, 1, 2, 3, 1, 2, 3, 1, 2, 3, 1, 3, 1, 3, 1, 2, 3, 1, 2, 3, 1, 2, 3, 1, 2, 3, 1, 2, 3, 1, 2, 3, 1, 2, 3, 1, 2, 3, 1, 2, 3, 1, 2, 3, 1, 2, 3, 1, 2, 3, 1, 2, 3, 1, 2, 3, 1, 2, 3, 1, 2, 3, 1, 2, 3, 1, 2, 3, 1, 2, 3, 1, 2, 3, 1, 2, 3, 1, 2, 3, 1, 3, 1, 2, 3, 1, 2, 3, 1, 2, 3, 1, 2, 3, 1, 2, 3, 1, 3, 1, 2, 3, 1, 2, 3, 1, 3, 1, 3, 1, 2, 3, 1, 2, 3, 1, 2, 3, 1, 2, 3, 1, 2, 3, 1, 2, 3, 1, 2, 3, 1, 3, 1, 2, 3, 1, 2, 3, 1, 2, 3, 1, 2, 3, 1, 2, 3, 1, 3, 1, 2, 3, 1, 2, 3, 1, 2, 3, 1, 2, 3, 1, 2, 1, 2, 3, 1, 2, 3, 1, 2, 3], \"Freq\": [0.45697280764579773, 0.15818288922309875, 0.3690934181213379, 0.40812039375305176, 0.14840741455554962, 0.40812039375305176, 0.4125240743160248, 0.4125240743160248, 0.13750803470611572, 0.6146476864814758, 0.27247267961502075, 0.11247419565916061, 0.3864377737045288, 0.0966094434261322, 0.483047217130661, 0.4369111657142639, 0.4369111657142639, 0.21845558285713196, 0.3824215531349182, 0.4589058458805084, 0.1529686152935028, 0.44269275665283203, 0.13772663474082947, 0.4230175316333771, 0.8099873661994934, 0.11781634390354156, 0.07363521307706833, 0.3279109597206116, 0.6558219194412231, 0.35082095861434937, 0.11694031953811646, 0.5847015976905823, 0.43301570415496826, 0.43301570415496826, 0.7836055159568787, 0.11233506351709366, 0.10685530304908752, 0.8221097588539124, 0.13993357121944427, 0.03498339280486107, 0.8519958257675171, 0.11618125438690186, 0.038727082312107086, 0.6278950572013855, 0.17322953045368195, 0.1990402489900589, 0.7062846422195435, 0.1500210464000702, 0.14331908524036407, 0.7224029302597046, 0.1292634904384613, 0.14808031916618347, 0.8736004829406738, 0.07941822707653046, 0.6021266579627991, 0.19971342384815216, 0.19822023808956146, 0.6572372913360596, 0.20629143714904785, 0.13607996702194214, 0.29158103466033936, 0.5017906427383423, 0.20342864096164703, 0.4448685050010681, 0.09885966777801514, 0.4695834219455719, 0.6350033283233643, 0.18298760056495667, 0.181775763630867, 0.5680468678474426, 0.17592495679855347, 0.25434935092926025, 0.6188412308692932, 0.24798330664634705, 0.13292798399925232, 0.7016206979751587, 0.12124951928853989, 0.17743833363056183, 0.7303321361541748, 0.17058314383029938, 0.0989529937505722, 0.6796898245811462, 0.15821456909179688, 0.16201172769069672, 0.7115961313247681, 0.18646101653575897, 0.10147538781166077, 0.48284265398979187, 0.3303660452365875, 0.18570871651172638, 0.6930186748504639, 0.1566544622182846, 0.1502077728509903, 0.7197796106338501, 0.1337643563747406, 0.14650380611419678, 0.8413939476013184, 0.13644225895404816, 0.022740377113223076, 0.8711039423942566, 0.11332927644252777, 0.015927357599139214, 0.8330779671669006, 0.1281658411026001, 0.0213609728962183, 0.8489456176757812, 0.11790911108255386, 0.047163642942905426, 0.8259869813919067, 0.15399757027626038, 0.02799955941736698, 0.39150652289390564, 0.10440173745155334, 0.495908260345459, 0.5274296402931213, 0.3730599880218506, 0.10291309654712677, 0.8500188589096069, 0.100002221763134, 0.050001110881567, 0.474342942237854, 0.1185857355594635, 0.474342942237854, 0.43311649560928345, 0.2873561382293701, 0.27902698516845703, 0.4762183725833893, 0.3703920543193817, 0.15873944759368896, 0.8631693720817566, 0.08631693571805954, 0.34263211488723755, 0.5049315094947815, 0.14426614344120026, 0.6823858618736267, 0.10874674469232559, 0.20903541147708893, 0.6342279314994812, 0.2057560831308365, 0.15999695658683777, 0.40655717253685, 0.5275163054466248, 0.0655195415019989, 0.6436142325401306, 0.19978083670139313, 0.15699723362922668, 0.8640438318252563, 0.12096613645553589, 0.034561753273010254, 0.555761992931366, 0.3013167381286621, 0.14061447978019714, 0.4137432873249054, 0.10343582183122635, 0.46546119451522827, 0.46336740255355835, 0.3920801281929016, 0.14257459342479706, 0.7089911103248596, 0.15973317623138428, 0.13170981407165527, 0.6424446105957031, 0.17056050896644592, 0.18761657178401947, 0.6249589920043945, 0.1802426427602768, 0.1949683576822281, 0.7255217432975769, 0.15900132060050964, 0.11580804735422134, 0.4943932890892029, 0.2966359853744507, 0.20939010381698608, 0.5763698816299438, 0.20620858669281006, 0.2169134020805359, 0.7193106412887573, 0.15353979170322418, 0.1274845451116562, 0.6226935386657715, 0.21168287098407745, 0.16473375260829926, 0.6371959447860718, 0.22219721972942352, 0.14092664420604706, 0.6375595331192017, 0.1891293078660965, 0.17309007048606873, 0.42472511529922485, 0.42472511529922485, 0.5116833448410034, 0.2697460949420929, 0.2169092297554016, 0.569249153137207, 0.4427493214607239, 0.42973360419273376, 0.13429175317287445, 0.42973360419273376, 0.6085195541381836, 0.17657509446144104, 0.2145482301712036, 0.42573702335357666, 0.42573702335357666, 0.4041258692741394, 0.12123776227235794, 0.4445384442806244, 0.8867015242576599, 0.07165264338254929, 0.04030461236834526, 0.561233401298523, 0.2480686753988266, 0.19088973104953766, 0.31699082255363464, 0.6339816451072693, 0.5983287692070007, 0.18639525771141052, 0.215286523103714, 0.69044029712677, 0.19969478249549866, 0.10951004177331924, 0.6495700478553772, 0.22122398018836975, 0.12956145405769348, 0.5976640582084656, 0.17328107357025146, 0.22931207716464996, 0.2804979681968689, 0.4674966037273407, 0.2804979681968689, 0.8301684260368347, 0.13836140930652618, 0.06918070465326309, 0.5473006963729858, 0.18608222901821136, 0.26708275079727173, 0.42279887199401855, 0.42279887199401855, 0.44601863622665405, 0.11150465905666351, 0.44601863622665405, 0.7336698770523071, 0.17004017531871796, 0.09512737393379211, 0.4761086702346802, 0.39675721526145935, 0.07935144007205963, 0.3687398433685303, 0.49165311455726624, 0.12291327863931656, 0.38621777296066284, 0.42132848501205444, 0.19310888648033142, 0.31220054626464844, 0.46830084919929504, 0.15610027313232422, 0.7862116098403931, 0.11826487630605698, 0.09550027549266815, 0.679523229598999, 0.17125239968299866, 0.1489151269197464, 0.8586702346801758, 0.12266717106103897, 0.040889058262109756, 0.6938222646713257, 0.18142955005168915, 0.12449701875448227, 0.6159807443618774, 0.23712532222270966, 0.14718124270439148, 0.6557398438453674, 0.2107735127210617, 0.13341891765594482, 0.42067524790763855, 0.42067524790763855, 0.6508780121803284, 0.18451495468616486, 0.1648094803094864, 0.6426008343696594, 0.17352129518985748, 0.1843266487121582, 0.8648764491081238, 0.10810955613851547, 0.054054778069257736, 0.6222068071365356, 0.22259528934955597, 0.1558167040348053, 0.21582192182540894, 0.21582192182540894, 0.6474657654762268, 0.7069206833839417, 0.1575590968132019, 0.13534995913505554, 0.649068295955658, 0.16979575157165527, 0.18132905662059784, 0.44799405336380005, 0.11199851334095001, 0.44799405336380005, 0.8705489635467529, 0.12436413764953613, 0.062182068824768066, 0.711977481842041, 0.127989262342453, 0.1601354032754898, 0.8710585236549377, 0.09169036895036697, 0.04584518447518349, 0.5442379117012024, 0.17776614427566528, 0.2789561152458191, 0.6348553895950317, 0.23355264961719513, 0.13160505890846252, 0.8854626417160034, 0.1264946609735489, 0.7336153984069824, 0.14417307078838348, 0.12161538749933243, 0.5151861310005188, 0.45794323086738586, 0.05724290385842323, 0.8366695642471313, 0.1375347226858139, 0.0229224544018507, 0.8841907978057861, 0.08841907978057861, 0.08841907978057861, 0.363705039024353, 0.4156629145145416, 0.2078314572572708, 0.728486955165863, 0.13060972094535828, 0.140743225812912, 0.4275215268135071, 0.4500226378440857, 0.11250565946102142, 0.45560508966445923, 0.45560508966445923, 0.22780254483222961, 0.3055058419704437, 0.4582587480545044, 0.15275292098522186, 0.39390498399734497, 0.11254428327083588, 0.4970705807209015, 0.5028435587882996, 0.15665510296821594, 0.34038639068603516, 0.34871166944503784, 0.5230675339698792, 0.17435583472251892, 0.36557719111442566, 0.4874362349510193, 0.12185905873775482, 0.21720947325229645, 0.6516284346580505, 0.7373095154762268, 0.11802781373262405, 0.14571334421634674, 0.3132912218570709, 0.4699368178844452, 0.15664561092853546, 0.42727768421173096, 0.12566989660263062, 0.42727768421173096, 0.42999935150146484, 0.42999935150146484, 0.2659793794155121, 0.2659793794155121, 0.5319587588310242, 0.49280667304992676, 0.15057982504367828, 0.35591593384742737, 0.4495793282985687, 0.4495793282985687, 0.4283983111381531, 0.4283983111381531, 0.8249829411506653, 0.1269204467535019, 0.06346022337675095, 0.8406059145927429, 0.09889481961727142, 0.04944740980863571, 0.8707690834999084, 0.07571905106306076, 0.07571905106306076, 0.7999502420425415, 0.11545673757791519, 0.08246909826993942, 0.2762787640094757, 0.5525575280189514, 0.2762787640094757, 0.8282017707824707, 0.1365167647600174, 0.03640447184443474, 0.8479903936386108, 0.11563505232334137, 0.038545019924640656, 0.8608067035675049, 0.10760083794593811, 0.021520167589187622, 0.21554866433143616, 0.21554866433143616, 0.6466459631919861, 0.34523817896842957, 0.11507938802242279, 0.5753969550132751, 0.41551485657691956, 0.41551485657691956, 0.13850495219230652, 0.3679926097393036, 0.0919981524348259, 0.5519888997077942, 0.4446762502193451, 0.4076198935508728, 0.11116906255483627, 0.31379222869873047, 0.6275844573974609, 0.8697271943092346, 0.08697272092103958, 0.04348636046051979, 0.6067925095558167, 0.14918126165866852, 0.2443644106388092, 0.7024750113487244, 0.15517637133598328, 0.1421675682067871, 0.8171427249908447, 0.1290225237607956, 0.043007511645555496, 0.4206406772136688, 0.5047687888145447, 0.08412813395261765, 0.4257694184780121, 0.4257694184780121, 0.42721277475357056, 0.42721277475357056, 0.5798388123512268, 0.20050501823425293, 0.22001361846923828, 0.3164980113506317, 0.4219973683357239, 0.21099868416786194, 0.64842289686203, 0.18181192874908447, 0.16992878913879395, 0.6065772175788879, 0.14775598049163818, 0.2449638694524765, 0.3745614290237427, 0.12485381215810776, 0.49941524863243103, 0.82647305727005, 0.13774551451206207, 0.027549101039767265, 0.40305039286613464, 0.40305039286613464, 0.20152519643306732, 0.5746573805809021, 0.18537335097789764, 0.2398267686367035, 0.41224029660224915, 0.41224029660224915, 0.13741342723369598, 0.3435984253883362, 0.4294980466365814, 0.1717992126941681, 0.31480082869529724, 0.47904470562934875, 0.20530487596988678, 0.6345536112785339, 0.21451103687286377, 0.150656595826149, 0.5391318202018738, 0.2995176911354065, 0.1579275131225586, 0.6071496605873108, 0.15766528248786926, 0.2351149022579193, 0.6281588673591614, 0.21607595682144165, 0.1558690369129181, 0.5860714316368103, 0.18207165598869324, 0.23279809951782227, 0.6523644924163818, 0.15169529616832733, 0.1957840621471405, 0.6102031469345093, 0.20427966117858887, 0.18516963720321655, 0.4500139653682709, 0.4500139653682709, 0.22500698268413544, 0.7662263512611389, 0.10588555037975311, 0.1289878487586975, 0.27372121810913086, 0.5474424362182617, 0.27372121810913086, 0.8390290141105652, 0.12496177107095718, 0.03570336475968361, 0.4169958829879761, 0.4169958829879761, 0.8290285468101501, 0.13817141950130463, 0.06908570975065231, 0.2568751275539398, 0.5137502551078796, 0.2568751275539398, 0.588045597076416, 0.22507645189762115, 0.18726716935634613, 0.783558189868927, 0.08382250368595123, 0.13120044767856598, 0.7331351041793823, 0.14238925278186798, 0.12374303489923477, 0.43168142437934875, 0.43168142437934875, 0.6499776840209961, 0.14870338141918182, 0.20098941028118134, 0.6216338276863098, 0.23890240490436554, 0.13895343244075775, 0.4287593364715576, 0.4287593364715576, 0.4328269958496094, 0.4328269958496094, 0.6067876815795898, 0.21423767507076263, 0.17875045537948608, 0.7279440760612488, 0.13344639539718628, 0.13885638117790222, 0.7276375889778137, 0.1594424992799759, 0.11305922269821167, 0.8282918334007263, 0.13804863393306732, 0.042476505041122437, 0.21969512104988098, 0.21969512104988098, 0.6590853333473206, 0.7109655737876892, 0.10996948927640915, 0.17902010679244995, 0.7326086759567261, 0.119064100086689, 0.1482226550579071, 0.32353475689888, 0.64706951379776, 0.6255854368209839, 0.2306026965379715, 0.14353841543197632, 0.5731270909309387, 0.192853182554245, 0.2335968166589737, 0.3560327887535095, 0.4577564597129822, 0.17801639437675476, 0.3780670464038849, 0.5040894150733948, 0.1260223537683487, 0.31081393361091614, 0.466220885515213, 0.15540696680545807, 0.43392717838287354, 0.43392717838287354, 0.8707340955734253, 0.10243930667638779, 0.05121965333819389, 0.36449623107910156, 0.18224811553955078, 0.5467443466186523, 0.877658486366272, 0.07631812989711761, 0.03815906494855881, 0.5906083583831787, 0.26009759306907654, 0.14944833517074585, 0.7873993515968323, 0.1124856248497963, 0.7019197344779968, 0.11856260895729065, 0.17966236174106598, 0.8553255200386047, 0.10965711623430252, 0.04386284574866295, 0.43995198607444763, 0.502802312374115, 0.06285028904676437], \"Term\": [\"aareal\", \"aareal\", \"aareal\", \"aareon\", \"aareon\", \"aareon\", \"adempas\", \"adempas\", \"adempas\", \"adler\", \"adler\", \"adler\", \"agcs\", \"agcs\", \"agcs\", \"aldo\", \"aldo\", \"aldo\", \"algeta\", \"algeta\", \"algeta\", \"allianz\", \"allianz\", \"allianz\", \"amadeus\", \"amadeus\", \"amadeus\", \"anlageergebnisses\", \"anlageergebnisses\", \"anlageorientierten\", \"anlageorientierten\", \"anlageorientierten\", \"anleihewerte\", \"anleihewerte\", \"anschaffungskosten\", \"anschaffungskosten\", \"anschaffungskosten\", \"antik\\u00f6rper\", \"antik\\u00f6rper\", \"antik\\u00f6rper\", \"antik\\u00f6rpern\", \"antik\\u00f6rpern\", \"antik\\u00f6rpern\", \"aufgrund\", \"aufgrund\", \"aufgrund\", \"aufsichtsrat\", \"aufsichtsrat\", \"aufsichtsrat\", \"aufwendungen\", \"aufwendungen\", \"aufwendungen\", \"bakterien\", \"bakterien\", \"bank\", \"bank\", \"bank\", \"basis\", \"basis\", \"basis\", \"bayer\", \"bayer\", \"bayer\", \"beitragseinnahmen\", \"beitragseinnahmen\", \"beitragseinnahmen\", \"beizulegenden\", \"beizulegenden\", \"beizulegenden\", \"berechnung\", \"berechnung\", \"berechnung\", \"bereich\", \"bereich\", \"bereich\", \"ber\\u00fccksichtigen\", \"ber\\u00fccksichtigen\", \"ber\\u00fccksichtigen\", \"bestehen\", \"bestehen\", \"bestehen\", \"bestimmen\", \"bestimmen\", \"bestimmen\", \"betragen\", \"betragen\", \"betragen\", \"betreffen\", \"betreffen\", \"betreffen\", \"bewerten\", \"bewerten\", \"bewerten\", \"beziehungsweise\", \"beziehungsweise\", \"beziehungsweise\", \"biodarou\", \"biodarou\", \"biodarou\", \"biotest\", \"biotest\", \"biotest\", \"biotherapeutika\", \"biotherapeutika\", \"biotherapeutika\", \"boca\", \"boca\", \"boca\", \"bpc\", \"bpc\", \"bpc\", \"bruttobeitr\\u00e4ge\", \"bruttobeitr\\u00e4ge\", \"bruttobeitr\\u00e4ge\", \"cancom\", \"cancom\", \"cancom\", \"civacir\", \"civacir\", \"civacir\", \"combined\", \"combined\", \"combined\", \"commerzbank\", \"commerzbank\", \"commerzbank\", \"compact\", \"compact\", \"compact\", \"concentrate\", \"concentrate\", \"cropscience\", \"cropscience\", \"cropscience\", \"daimler\", \"daimler\", \"daimler\", \"deutsch\", \"deutsch\", \"deutsch\", \"deutz\", \"deutz\", \"deutz\", \"dezember\", \"dezember\", \"dezember\", \"dreieich\", \"dreieich\", \"dreieich\", \"ebitda\", \"ebitda\", \"ebitda\", \"eigenmittel\", \"eigenmittel\", \"eigenmittel\", \"einstellig\", \"einstellig\", \"einstellig\", \"enthalten\", \"enthalten\", \"enthalten\", \"entsprechen\", \"entsprechen\", \"entsprechen\", \"entwicklung\", \"entwicklung\", \"entwicklung\", \"erfolgen\", \"erfolgen\", \"erfolgen\", \"ergeben\", \"ergeben\", \"ergeben\", \"ergebnis\", \"ergebnis\", \"ergebnis\", \"erhalten\", \"erhalten\", \"erhalten\", \"erh\\u00f6hen\", \"erh\\u00f6hen\", \"erh\\u00f6hen\", \"ertr\\u00e4ge\", \"ertr\\u00e4ge\", \"ertr\\u00e4ge\", \"erwarten\", \"erwarten\", \"erwarten\", \"europensiones\", \"europensiones\", \"extern\", \"extern\", \"extern\", \"fielmann\", \"fielmann\", \"finanzaktiva\", \"finanzaktiva\", \"finanzaktiva\", \"finanziell\", \"finanziell\", \"finanziell\", \"finanzierungshilfen\", \"finanzierungshilfen\", \"finanzpassiva\", \"finanzpassiva\", \"finanzpassiva\", \"fire\", \"fire\", \"fire\", \"forderungen\", \"forderungen\", \"forderungen\", \"fremdgenutzter\", \"fremdgenutzter\", \"f\\u00fchren\", \"f\\u00fchren\", \"f\\u00fchren\", \"gesch\\u00e4ftsjahr\", \"gesch\\u00e4ftsjahr\", \"gesch\\u00e4ftsjahr\", \"gesellschaft\", \"gesellschaft\", \"gesellschaft\", \"global\", \"global\", \"global\", \"granar\", \"granar\", \"granar\", \"gregor\", \"gregor\", \"gregor\", \"group\", \"group\", \"group\", \"gro\\u00dfsch\\u00e4den\", \"gro\\u00dfsch\\u00e4den\", \"grundbesitz\", \"grundbesitz\", \"grundbesitz\", \"gruppe\", \"gruppe\", \"gruppe\", \"haase\", \"haase\", \"haase\", \"handelsname\", \"handelsname\", \"handelsname\", \"healthcare\", \"healthcare\", \"healthcare\", \"herbiziden\", \"herbiziden\", \"herbiziden\", \"hinaus\", \"hinaus\", \"hinaus\", \"hoch\", \"hoch\", \"hoch\", \"h\\u00e4matologie\", \"h\\u00e4matologie\", \"h\\u00e4matologie\", \"h\\u00f6he\", \"h\\u00f6he\", \"h\\u00f6he\", \"ias\", \"ias\", \"ias\", \"ifrs\", \"ifrs\", \"ifrs\", \"indexgewinne\", \"indexgewinne\", \"insbesondere\", \"insbesondere\", \"insbesondere\", \"insgesamt\", \"insgesamt\", \"insgesamt\", \"intensivmedizin\", \"intensivmedizin\", \"intensivmedizin\", \"jeweilig\", \"jeweilig\", \"jeweilig\", \"kazakhstan\", \"kazakhstan\", \"kazakhstan\", \"konzern\", \"konzern\", \"konzern\", \"konzerns\", \"konzerns\", \"konzerns\", \"krankenversicherung\", \"krankenversicherung\", \"krankenversicherung\", \"kreissparkasse\", \"kreissparkasse\", \"kreissparkasse\", \"kunden\", \"kunden\", \"kunden\", \"kundenunternehmen\", \"kundenunternehmen\", \"kundenunternehmen\", \"lagen\", \"lagen\", \"lagen\", \"langfristig\", \"langfristig\", \"langfristig\", \"lenalidomid\", \"lenalidomid\", \"liegen\", \"liegen\", \"liegen\", \"linyi\", \"linyi\", \"linyi\", \"ltip\", \"ltip\", \"ltip\", \"lupus\", \"lupus\", \"lupus\", \"materialscience\", \"materialscience\", \"materialscience\", \"ma\\u00dfnahmen\", \"ma\\u00dfnahmen\", \"ma\\u00dfnahmen\", \"merck\", \"merck\", \"merck\", \"metastasiertem\", \"metastasiertem\", \"metastasiertem\", \"mhlw\", \"mhlw\", \"mhlw\", \"milliarden\", \"milliarden\", \"milliarden\", \"millionen\", \"millionen\", \"millionen\", \"mirena\", \"mirena\", \"mirena\", \"modulation\", \"modulation\", \"modulation\", \"mvlo\", \"mvlo\", \"m\\u00f6glich\", \"m\\u00f6glich\", \"m\\u00f6glich\", \"nahost\", \"nahost\", \"nahost\", \"naturkatastrophen\", \"naturkatastrophen\", \"naturkatastrophen\", \"nettomitteln\", \"nettomitteln\", \"nettoschadenbelastung\", \"nettoschadenbelastung\", \"nettoschadenbelastung\", \"neugesch\\u00e4ft\", \"neugesch\\u00e4ft\", \"neugesch\\u00e4ft\", \"olivier\", \"olivier\", \"orkan\", \"orkan\", \"pay\", \"pay\", \"pay\", \"pentaglobin\", \"pentaglobin\", \"pentaglobin\", \"personalvermittlung\", \"personalvermittlung\", \"personalvermittlung\", \"phase\", \"phase\", \"phase\", \"pilzst\\u00e4mmen\", \"pilzst\\u00e4mmen\", \"pilzst\\u00e4mmen\", \"plasma\", \"plasma\", \"plasma\", \"plasmaproteine\", \"plasmaproteine\", \"plasmaproteine\", \"plasmaproteinen\", \"plasmaproteinen\", \"plasmaproteinen\", \"polska\", \"polska\", \"polska\", \"popular\", \"popular\", \"popular\", \"portfoliobereinigten\", \"portfoliobereinigten\", \"portfoliobereinigten\", \"preiseffekt\", \"preiseffekt\", \"preiseffekt\", \"prozentbereich\", \"prozentbereich\", \"prozentbereich\", \"pr\\u00e4mienr\\u00fcckgang\", \"pr\\u00e4mienr\\u00fcckgang\", \"pr\\u00e4parat\", \"pr\\u00e4parat\", \"pr\\u00e4parat\", \"quartal\", \"quartal\", \"quartal\", \"rahmen\", \"rahmen\", \"rahmen\", \"ramroth\", \"ramroth\", \"ramroth\", \"referenzkurs\", \"referenzkurs\", \"referenzkurs\", \"rentenanlagen\", \"rentenanlagen\", \"rentenprodukten\", \"rentenprodukten\", \"resultieren\", \"resultieren\", \"resultieren\", \"riociguat\", \"riociguat\", \"riociguat\", \"risiken\", \"risiken\", \"risiken\", \"r\\u00fcckgang\", \"r\\u00fcckgang\", \"r\\u00fcckgang\", \"schadenjahr\", \"schadenjahr\", \"schadenjahr\", \"schleussner\", \"schleussner\", \"schleussner\", \"scientific\", \"scientific\", \"scientific\", \"segment\", \"segment\", \"segment\", \"sgc\", \"sgc\", \"sgc\", \"sonderaufwendungen\", \"sonderaufwendungen\", \"sonderaufwendungen\", \"sondereinfl\\u00fcssen\", \"sondereinfl\\u00fcssen\", \"sondereinfl\\u00fcssen\", \"sonstig\", \"sonstig\", \"sonstig\", \"spanien\", \"spanien\", \"spanien\", \"stark\", \"stark\", \"stark\", \"stehen\", \"stehen\", \"stehen\", \"steigen\", \"steigen\", \"steigen\", \"stellen\", \"stellen\", \"stellen\", \"steuern\", \"steuern\", \"steuern\", \"stivarga\", \"stivarga\", \"stivarga\", \"strategie\", \"strategie\", \"strategie\", \"teilbefreiung\", \"teilbefreiung\", \"teilbefreiung\", \"term\", \"term\", \"term\", \"tornados\", \"tornados\", \"transplantation\", \"transplantation\", \"transplantation\", \"umsatzzuw\\u00e4chse\", \"umsatzzuw\\u00e4chse\", \"umsatzzuw\\u00e4chse\", \"unternehmen\", \"unternehmen\", \"unternehmen\", \"verbinden\", \"verbinden\", \"verbinden\", \"verg\\u00fctung\", \"verg\\u00fctung\", \"verg\\u00fctung\", \"verlustreichsten\", \"verlustreichsten\", \"verm\\u00f6genswerte\", \"verm\\u00f6genswerte\", \"verm\\u00f6genswerte\", \"ver\\u00e4u\\u00dferung\", \"ver\\u00e4u\\u00dferung\", \"ver\\u00e4u\\u00dferung\", \"vollkonsolidiertes\", \"vollkonsolidiertes\", \"volumeneffekt\", \"volumeneffekt\", \"vorjahr\", \"vorjahr\", \"vorjahr\", \"vorstand\", \"vorstand\", \"vorstand\", \"vorstands\", \"vorstands\", \"vorstands\", \"vorzugsaktien\", \"vorzugsaktien\", \"vorzugsaktien\", \"wachstumskategorie\", \"wachstumskategorie\", \"wachstumskategorie\", \"weiterhin\", \"weiterhin\", \"weiterhin\", \"weltweit\", \"weltweit\", \"weltweit\", \"wertpapierleihgesch\\u00e4fte\", \"wertpapierleihgesch\\u00e4fte\", \"wesentlich\", \"wesentlich\", \"wesentlich\", \"wirtschaftlich\", \"wirtschaftlich\", \"wirtschaftlich\", \"wpb\", \"wpb\", \"wpb\", \"w\\u00e4hrungseffekt\", \"w\\u00e4hrungseffekt\", \"w\\u00e4hrungseffekt\", \"xarelto\", \"xarelto\", \"xarelto\", \"xynthia\", \"xynthia\", \"young\", \"young\", \"young\", \"zao\", \"zao\", \"zao\", \"zeitarbeit\", \"zeitarbeit\", \"zeitarbeit\", \"zeitwert\", \"zeitwert\", \"zeitwert\", \"zulassungsbeh\\u00f6rde\", \"zulassungsbeh\\u00f6rde\", \"zusammenhang\", \"zusammenhang\", \"zusammenhang\", \"zutectra\", \"zutectra\", \"zutectra\", \"zuteilungszeitpunkt\", \"zuteilungszeitpunkt\", \"zuteilungszeitpunkt\"]}, \"R\": 30, \"lambda.step\": 0.01, \"plot.opts\": {\"xlab\": \"PC1\", \"ylab\": \"PC2\"}, \"topic.order\": [3, 2, 1]};\n",
       "\n",
       "function LDAvis_load_lib(url, callback){\n",
       "  var s = document.createElement('script');\n",
       "  s.src = url;\n",
       "  s.async = true;\n",
       "  s.onreadystatechange = s.onload = callback;\n",
       "  s.onerror = function(){console.warn(\"failed to load library \" + url);};\n",
       "  document.getElementsByTagName(\"head\")[0].appendChild(s);\n",
       "}\n",
       "\n",
       "if(typeof(LDAvis) !== \"undefined\"){\n",
       "   // already loaded: just create the visualization\n",
       "   !function(LDAvis){\n",
       "       new LDAvis(\"#\" + \"ldavis_el672111122631709523151177533\", ldavis_el672111122631709523151177533_data);\n",
       "   }(LDAvis);\n",
       "}else if(typeof define === \"function\" && define.amd){\n",
       "   // require.js is available: use it to load d3/LDAvis\n",
       "   require.config({paths: {d3: \"https://cdnjs.cloudflare.com/ajax/libs/d3/3.5.5/d3.min\"}});\n",
       "   require([\"d3\"], function(d3){\n",
       "      window.d3 = d3;\n",
       "      LDAvis_load_lib(\"https://cdn.rawgit.com/bmabey/pyLDAvis/files/ldavis.v1.0.0.js\", function(){\n",
       "        new LDAvis(\"#\" + \"ldavis_el672111122631709523151177533\", ldavis_el672111122631709523151177533_data);\n",
       "      });\n",
       "    });\n",
       "}else{\n",
       "    // require.js not available: dynamically load d3 & LDAvis\n",
       "    LDAvis_load_lib(\"https://cdnjs.cloudflare.com/ajax/libs/d3/3.5.5/d3.min.js\", function(){\n",
       "         LDAvis_load_lib(\"https://cdn.rawgit.com/bmabey/pyLDAvis/files/ldavis.v1.0.0.js\", function(){\n",
       "                 new LDAvis(\"#\" + \"ldavis_el672111122631709523151177533\", ldavis_el672111122631709523151177533_data);\n",
       "            })\n",
       "         });\n",
       "}\n",
       "</script>"
      ],
      "text/plain": [
       "PreparedData(topic_coordinates=              x         y  topics  cluster       Freq\n",
       "topic                                                \n",
       "2     -0.003310  0.005276       1        1  65.363579\n",
       "1     -0.004642 -0.004718       2        1  17.835274\n",
       "0      0.007952 -0.000558       3        1  16.801147, topic_info=      Category         Freq            Term        Total  loglift  logprob\n",
       "term                                                                      \n",
       "2170   Default  2974.000000      wesentlich  2974.000000  30.0000  30.0000\n",
       "211    Default  2678.000000            bank  2678.000000  29.0000  29.0000\n",
       "450    Default  3125.000000         deutsch  3125.000000  28.0000  28.0000\n",
       "23288  Default  3310.000000         daimler  3310.000000  27.0000  27.0000\n",
       "1958   Default  2248.000000     unternehmen  2248.000000  26.0000  26.0000\n",
       "2102   Default  2282.000000         vorjahr  2282.000000  25.0000  25.0000\n",
       "455    Default  2687.000000        dezember  2687.000000  24.0000  24.0000\n",
       "590    Default  1774.000000        ergebnis  1774.000000  23.0000  23.0000\n",
       "1596   Default  2524.000000         risiken  2524.000000  22.0000  22.0000\n",
       "141    Default  2014.000000        aufgrund  2014.000000  21.0000  21.0000\n",
       "2032   Default  2084.000000  vermögenswerte  2084.000000  20.0000  20.0000\n",
       "1761   Default  2004.000000         sonstig  2004.000000  19.0000  19.0000\n",
       "943    Default  2915.000000            höhe  2915.000000  18.0000  18.0000\n",
       "42407  Default   595.000000           deutz   595.000000  17.0000  17.0000\n",
       "933    Default  2551.000000            hoch  2551.000000  16.0000  16.0000\n",
       "588    Default  1031.000000         ergeben  1031.000000  15.0000  15.0000\n",
       "575    Default  1697.000000     entwicklung  1697.000000  14.0000  14.0000\n",
       "2236   Default  1391.000000        zeitwert  1391.000000  13.0000  13.0000\n",
       "1815   Default  1517.000000         steuern  1517.000000  12.0000  12.0000\n",
       "2670   Default  1650.000000   beizulegenden  1650.000000  11.0000  11.0000\n",
       "713    Default  1136.000000     forderungen  1136.000000  10.0000  10.0000\n",
       "1805   Default  1494.000000          stehen  1494.000000   9.0000   9.0000\n",
       "571    Default  1583.000000     entsprechen  1583.000000   8.0000   8.0000\n",
       "989    Default  1573.000000       insgesamt  1573.000000   7.0000   7.0000\n",
       "988    Default  1674.000000    insbesondere  1674.000000   6.0000   6.0000\n",
       "630    Default  1496.000000        erwarten  1496.000000   5.0000   5.0000\n",
       "1807   Default  1103.000000         steigen  1103.000000   4.0000   4.0000\n",
       "1103   Default  1560.000000        konzerns  1560.000000   3.0000   3.0000\n",
       "1093   Default  2386.000000         konzern  2386.000000   2.0000   2.0000\n",
       "1520   Default  1092.000000         quartal  1092.000000   1.0000   1.0000\n",
       "...        ...          ...             ...          ...      ...      ...\n",
       "1799    Topic3   170.244431           stark   723.050720   0.3375  -6.7432\n",
       "2190    Topic3   171.807861  wirtschaftlich   736.311401   0.3284  -6.7341\n",
       "1958    Topic3   420.815826     unternehmen  2248.125000   0.1081  -5.8383\n",
       "741     Topic3   230.994873          führen  1072.988647   0.2479  -6.4381\n",
       "3191    Topic3   226.134094      finanziell  1053.376221   0.2451  -6.4593\n",
       "575     Topic3   331.106689     entwicklung  1697.711426   0.1491  -6.0780\n",
       "1586    Topic3   202.854523     resultieren   922.670166   0.2689  -6.5680\n",
       "2102    Topic3   408.326447         vorjahr  2282.511719   0.0628  -5.8684\n",
       "588     Topic3   215.609512         ergeben  1031.567383   0.2184  -6.5070\n",
       "1813    Topic3   262.163391         stellen  1338.208984   0.1536  -6.3115\n",
       "1596    Topic3   428.686646         risiken  2524.586914   0.0106  -5.8198\n",
       "571     Topic3   296.813416     entsprechen  1583.015869   0.1097  -6.1874\n",
       "450     Topic3   500.006622         deutsch  3125.059570  -0.0489  -5.6659\n",
       "2670    Topic3   300.322815   beizulegenden  1650.385010   0.0798  -6.1756\n",
       "989     Topic3   289.909637       insgesamt  1573.293945   0.0924  -6.2109\n",
       "1815    Topic3   281.435791         steuern  1517.527466   0.0988  -6.2406\n",
       "455     Topic3   421.751068        dezember  2687.945557  -0.0684  -5.8361\n",
       "1103    Topic3   283.444855        konzerns  1560.698608   0.0779  -6.2335\n",
       "2170    Topic3   427.381927      wesentlich  2974.813477  -0.1565  -5.8228\n",
       "933     Topic3   380.455566            hoch  2551.789062  -0.1195  -5.9391\n",
       "988     Topic3   275.973267    insbesondere  1674.661011  -0.0193  -6.2602\n",
       "1761    Topic3   302.190704         sonstig  2004.558838  -0.1084  -6.1694\n",
       "943     Topic3   363.413391            höhe  2915.732422  -0.2986  -5.9849\n",
       "1093    Topic3   323.221558         konzern  2386.406250  -0.2155  -6.1021\n",
       "1527    Topic3   306.048096          rahmen  2152.389648  -0.1669  -6.1567\n",
       "630     Topic3   259.241669        erwarten  1496.330811   0.0307  -6.3227\n",
       "1137    Topic3   268.765900          kunden  1679.828369  -0.0489  -6.2866\n",
       "151     Topic3   278.155243    aufsichtsrat  1939.727783  -0.1584  -6.2523\n",
       "2298    Topic3   247.101730    zusammenhang  1374.801025   0.0675  -6.3707\n",
       "313     Topic3   256.395569       bestimmen  1580.132568  -0.0348  -6.3338\n",
       "\n",
       "[285 rows x 6 columns], token_table=       Topic      Freq                 Term\n",
       "term                                       \n",
       "0          1  0.456973               aareal\n",
       "0          2  0.158183               aareal\n",
       "0          3  0.369093               aareal\n",
       "1          1  0.408120               aareon\n",
       "1          2  0.148407               aareon\n",
       "1          3  0.408120               aareon\n",
       "12701      1  0.412524              adempas\n",
       "12701      2  0.412524              adempas\n",
       "12701      3  0.137508              adempas\n",
       "2387       1  0.614648                adler\n",
       "2387       2  0.272473                adler\n",
       "2387       3  0.112474                adler\n",
       "8703       1  0.386438                 agcs\n",
       "8703       2  0.096609                 agcs\n",
       "8703       3  0.483047                 agcs\n",
       "42219      1  0.436911                 aldo\n",
       "42219      2  0.436911                 aldo\n",
       "42219      3  0.218456                 aldo\n",
       "12711      1  0.382422               algeta\n",
       "12711      2  0.458906               algeta\n",
       "12711      3  0.152969               algeta\n",
       "8713       1  0.442693              allianz\n",
       "8713       2  0.137727              allianz\n",
       "8713       3  0.423018              allianz\n",
       "10323      1  0.809987              amadeus\n",
       "10323      2  0.117816              amadeus\n",
       "10323      3  0.073635              amadeus\n",
       "8726       1  0.327911    anlageergebnisses\n",
       "8726       3  0.655822    anlageergebnisses\n",
       "8732       1  0.350821   anlageorientierten\n",
       "...      ...       ...                  ...\n",
       "13329      2  0.504089       währungseffekt\n",
       "13329      3  0.126022       währungseffekt\n",
       "13333      1  0.310814              xarelto\n",
       "13333      2  0.466221              xarelto\n",
       "13333      3  0.155407              xarelto\n",
       "9435       1  0.433927              xynthia\n",
       "9435       3  0.433927              xynthia\n",
       "8615       1  0.870734                young\n",
       "8615       2  0.102439                young\n",
       "8615       3  0.051220                young\n",
       "9438       1  0.364496                  zao\n",
       "9438       2  0.182248                  zao\n",
       "9438       3  0.546744                  zao\n",
       "11867      1  0.877658           zeitarbeit\n",
       "11867      2  0.076318           zeitarbeit\n",
       "11867      3  0.038159           zeitarbeit\n",
       "2236       1  0.590608             zeitwert\n",
       "2236       2  0.260098             zeitwert\n",
       "2236       3  0.149448             zeitwert\n",
       "15563      1  0.787399    zulassungsbehörde\n",
       "15563      2  0.112486    zulassungsbehörde\n",
       "2298       1  0.701920         zusammenhang\n",
       "2298       2  0.118563         zusammenhang\n",
       "2298       3  0.179662         zusammenhang\n",
       "15578      1  0.855326             zutectra\n",
       "15578      2  0.109657             zutectra\n",
       "15578      3  0.043863             zutectra\n",
       "43409      1  0.439952  zuteilungszeitpunkt\n",
       "43409      2  0.502802  zuteilungszeitpunkt\n",
       "43409      3  0.062850  zuteilungszeitpunkt\n",
       "\n",
       "[596 rows x 3 columns], R=30, lambda_step=0.01, plot_opts={'xlab': 'PC1', 'ylab': 'PC2'}, topic_order=[3, 2, 1])"
      ]
     },
     "execution_count": 8,
     "metadata": {},
     "output_type": "execute_result"
    }
   ],
   "source": [
    "# visualization(processed_doc_path, docs[6].tolist(), 3)\n",
    "doc_example = max(docs, key=len)\n",
    "visualization(processed_doc_path, doc_example.tolist(), 3)"
   ]
  },
  {
   "cell_type": "markdown",
   "metadata": {},
   "source": [
    "<font color=\"blue\"/>\n",
    "\n",
    "### dsp:\n",
    "  * Interesting experiment. \n",
    "  * I have still to study the literature.\n",
    "  * From the code I can not understand how the \"hierarchical\" aspect is meant to work and I suspect you do not understand it either, or do you?"
   ]
  }
 ],
 "metadata": {
  "kernelspec": {
   "display_name": "Python 3",
   "language": "python",
   "name": "python3"
  },
  "language_info": {
   "codemirror_mode": {
    "name": "ipython",
    "version": 3
   },
   "file_extension": ".py",
   "mimetype": "text/x-python",
   "name": "python",
   "nbconvert_exporter": "python",
   "pygments_lexer": "ipython3",
   "version": "3.6.5"
  },
  "varInspector": {
   "cols": {
    "lenName": 16,
    "lenType": 16,
    "lenVar": 40
   },
   "kernels_config": {
    "python": {
     "delete_cmd_postfix": "",
     "delete_cmd_prefix": "del ",
     "library": "var_list.py",
     "varRefreshCmd": "print(var_dic_list())"
    },
    "r": {
     "delete_cmd_postfix": ") ",
     "delete_cmd_prefix": "rm(",
     "library": "var_list.r",
     "varRefreshCmd": "cat(var_dic_list()) "
    }
   },
   "types_to_exclude": [
    "module",
    "function",
    "builtin_function_or_method",
    "instance",
    "_Feature"
   ],
   "window_display": false
  }
 },
 "nbformat": 4,
 "nbformat_minor": 2
}
