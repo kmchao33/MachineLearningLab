{
 "cells": [
  {
   "cell_type": "code",
   "execution_count": 2,
   "metadata": {},
   "outputs": [
    {
     "name": "stdout",
     "output_type": "stream",
     "text": [
      "4.501462975467027% of total files has been processed\n",
      "9.002925950934054% of total files has been processed\n",
      "13.50438892640108% of total files has been processed\n",
      "18.00585190186811% of total files has been processed\n",
      "22.507314877335133% of total files has been processed\n",
      "27.00877785280216% of total files has been processed\n",
      "31.510240828269186% of total files has been processed\n",
      "36.01170380373622% of total files has been processed\n",
      "40.51316677920324% of total files has been processed\n",
      "45.01462975467027% of total files has been processed\n",
      "49.516092730137295% of total files has been processed\n",
      "54.01755570560432% of total files has been processed\n",
      "58.519018681071344% of total files has been processed\n",
      "63.02048165653837% of total files has been processed\n",
      "67.5219446320054% of total files has been processed\n",
      "72.02340760747244% of total files has been processed\n",
      "76.52487058293946% of total files has been processed\n",
      "81.02633355840648% of total files has been processed\n",
      "85.52779653387351% of total files has been processed\n",
      "90.02925950934053% of total files has been processed\n",
      "94.53072248480755% of total files has been processed\n",
      "99.03218546027459% of total files has been processed\n",
      "all files has been processed\n",
      "CPU times: user 2min 40s, sys: 5.84 s, total: 2min 46s\n",
      "Wall time: 9min 1s\n"
     ]
    }
   ],
   "source": [
    "%%time\n",
    "import os\n",
    "import json\n",
    "import time\n",
    "\n",
    "PATH = '/home/bit/ma0/LabShare/data/all/json/'\n",
    "TARGET_PATH = '/home/bit/ma0/text_data/' \n",
    "\n",
    "#keep track on the success/failure of files\n",
    "successful_files = []\n",
    "failure_files = []\n",
    "#monitor the file process\n",
    "progress = 0\n",
    "progress_count = 0\n",
    "\n",
    "if not os.path.exists(TARGET_PATH):\n",
    "    #create target folder to save processed text\n",
    "    os.makedirs(TARGET_PATH)\n",
    "    \n",
    "for root, dirs, files in os.walk(PATH):\n",
    "    file_count = len(files)\n",
    "    for f in files:\n",
    "        progress += 1\n",
    "        progress_count += 1\n",
    "        try:\n",
    "            filename = TARGET_PATH + f.split('.json')[0] + '.txt' \n",
    "            with open(root+'/'+f, 'r') as freader, open(filename, 'w+') as fwriter:\n",
    "                #only extract 'content' from json file\n",
    "                for line in freader:\n",
    "                    obj = json.loads(line)\n",
    "                    textType = obj['type']\n",
    "                    if textType == 'paragraph':\n",
    "                        fwriter.write(obj['content'])\n",
    "            successful_files.append(filename)\n",
    "        except:\n",
    "            failure_files.append(filename)\n",
    "        if progress_count % 200 == 0:\n",
    "            print('{0}% of total files has been processed'.format(round(progress/file_count*100), 2))\n",
    "        if progress_count == file_count:\n",
    "            print('all files has been processed')\n",
    "        "
   ]
  },
  {
   "cell_type": "code",
   "execution_count": 5,
   "metadata": {},
   "outputs": [
    {
     "name": "stdout",
     "output_type": "stream",
     "text": [
      "\n",
      "4434 files succesfully processed. 9 files failed.\n"
     ]
    }
   ],
   "source": [
    "#quick check on file success/failure\n",
    "print('\\n{} files succesfully processed. {} files failed.'.format(len(successful_files), len(failure_files)))"
   ]
  },
  {
   "cell_type": "code",
   "execution_count": 6,
   "metadata": {},
   "outputs": [
    {
     "data": {
      "text/plain": [
       "['/home/bit/ma0/text_data/TAGImmobilien-AnnualReport-2012.txt',\n",
       " '/home/bit/ma0/text_data/FuchsPetrolub-QuarterlyReport-2011-Q3.txt',\n",
       " '/home/bit/ma0/text_data/FuchsPetrolub-QuarterlyReport-2012-Q2.txt',\n",
       " '/home/bit/ma0/text_data/RTLGroup-AnnualReport-2014.txt',\n",
       " '/home/bit/ma0/text_data/Wirecard-QuarterlyReport-2011-Q3.txt',\n",
       " '/home/bit/ma0/text_data/METRO-AnnualReport-2014.txt',\n",
       " '/home/bit/ma0/text_data/KwsSaat-AnnualReport-2015.txt',\n",
       " '/home/bit/ma0/text_data/METRO-QuarterlyReport-2013-Q2.txt',\n",
       " '/home/bit/ma0/text_data/Fresenius-QuarterlyReport-2014-Q3.txt']"
      ]
     },
     "execution_count": 6,
     "metadata": {},
     "output_type": "execute_result"
    }
   ],
   "source": [
    "failure_files"
   ]
  },
  {
   "cell_type": "code",
   "execution_count": null,
   "metadata": {},
   "outputs": [],
   "source": []
  }
 ],
 "metadata": {
  "kernelspec": {
   "display_name": "Python 3",
   "language": "python",
   "name": "python3"
  },
  "language_info": {
   "codemirror_mode": {
    "name": "ipython",
    "version": 3
   },
   "file_extension": ".py",
   "mimetype": "text/x-python",
   "name": "python",
   "nbconvert_exporter": "python",
   "pygments_lexer": "ipython3",
   "version": "3.6.6"
  }
 },
 "nbformat": 4,
 "nbformat_minor": 2
}
