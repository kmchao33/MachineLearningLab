{
 "cells": [
  {
   "cell_type": "code",
   "execution_count": 1,
   "metadata": {},
   "outputs": [
    {
     "name": "stderr",
     "output_type": "stream",
     "text": [
      "/opt/anaconda3/lib/python3.6/importlib/_bootstrap.py:219: RuntimeWarning: numpy.dtype size changed, may indicate binary incompatibility. Expected 96, got 88\n",
      "  return f(*args, **kwds)\n",
      "/opt/anaconda3/lib/python3.6/importlib/_bootstrap.py:219: RuntimeWarning: numpy.ufunc size changed, may indicate binary incompatibility. Expected 192, got 176\n",
      "  return f(*args, **kwds)\n",
      "/opt/anaconda3/lib/python3.6/importlib/_bootstrap.py:219: RuntimeWarning: numpy.dtype size changed, may indicate binary incompatibility. Expected 96, got 88\n",
      "  return f(*args, **kwds)\n",
      "/opt/anaconda3/lib/python3.6/importlib/_bootstrap.py:219: RuntimeWarning: numpy.ufunc size changed, may indicate binary incompatibility. Expected 192, got 176\n",
      "  return f(*args, **kwds)\n"
     ]
    }
   ],
   "source": [
    "%run preprocessing.ipynb\n",
    "import warnings\n",
    "warnings.filterwarnings(\"ignore\", category=DeprecationWarning) "
   ]
  },
  {
   "cell_type": "code",
   "execution_count": 6,
   "metadata": {},
   "outputs": [],
   "source": [
    "import os\n",
    "import pickle\n",
    "import time\n",
    "def generateCorpus(corpus_folder, target_data_path, spacyFlag=False):\n",
    "    \n",
    "    if not os.path.exists(corpus_folder):\n",
    "        os.makedirs(corpus_folder)\n",
    "    #monitor the file process\n",
    "    progress = 0\n",
    "    progress_count = 0\n",
    "    start_time = time.process_time()\n",
    "\n",
    "    for root, dirs, files in os.walk(target_data_path):\n",
    "        file_count = len(files)\n",
    "        for f in files:\n",
    "            progress += 1\n",
    "            progress_count += 1\n",
    "            try:\n",
    "                with open(root+'/'+f) as fr:\n",
    "                    text = fr.read()\n",
    "                    if spacyFlag == False:\n",
    "                        tokens = nltkPreprocessing(text)\n",
    "                    if spacyFlag == True:\n",
    "                        tokens = preprocessing_spacy(text)\n",
    "            except:\n",
    "                print('Error while processing file: ', f)\n",
    "            f_coupus = f.split('.')[0] + '_corpus.txt'\n",
    "            with open(corpus_folder+f_coupus, 'wb+') as fw:\n",
    "                    pickle.dump(tokens, fw)\n",
    "\n",
    "            if progress_count % 200 == 0:\n",
    "                print('{0}% of total files has been processed'.format(round(progress/file_count*100), 2))\n",
    "                print('running time: {0}'.format(time.process_time() - start_time))\n",
    "\n",
    "            if progress_count == file_count:\n",
    "                print('all files has been processed')\n",
    "                \n"
   ]
  },
  {
   "cell_type": "code",
   "execution_count": 5,
   "metadata": {},
   "outputs": [],
   "source": [
    "%%time\n",
    "nltk_corpus_folder = './nltk_corpus/'\n",
    "TARGET_PATH = './text_data'\n",
    "generateCorpus(nltk_corpus_folder, TARGET_PATH)"
   ]
  },
  {
   "cell_type": "code",
   "execution_count": null,
   "metadata": {},
   "outputs": [
    {
     "name": "stdout",
     "output_type": "stream",
     "text": [
      "5% of total files has been processed\n",
      "running time: 888.14619297\n",
      "Error while processing file:  Telekom-QuarterlyReport-2011-Q2.txt\n",
      "9% of total files has been processed\n",
      "running time: 1741.7249745430001\n",
      "Error while processing file:  Medigene-QuarterlyReport-2017-Q2.txt\n",
      "Error while processing file:  Telekom-QuarterlyReport-2011-Q3.txt\n",
      "14% of total files has been processed\n",
      "running time: 2792.923660726\n",
      "18% of total files has been processed\n",
      "running time: 3696.37658163\n",
      "23% of total files has been processed\n",
      "running time: 4685.621011028999\n"
     ]
    }
   ],
   "source": [
    "%%time\n",
    "TARGET_PATH = './text_data'\n",
    "spacy_corpus_folder = './spacy_corpus/'\n",
    "generateCorpus(spacy_corpus_folder, TARGET_PATH, True)"
   ]
  },
  {
   "cell_type": "code",
   "execution_count": null,
   "metadata": {},
   "outputs": [],
   "source": [
    "# for root, dirs, files in os.walk(nltk_corpus_folder):\n",
    "#     for f in files:\n",
    "#         with open(root+'/'+f, 'rb') as fr:\n",
    "#             print('filename: {0}\\ncorpus set length: {1}'.format(f, len(pickle.load(fr))))\n",
    "#             print('filename: {0}\\ncorpus set length: {1}'.format(f, pickle.load(fr)))\n",
    "#             break\n",
    "        "
   ]
  },
  {
   "cell_type": "code",
   "execution_count": null,
   "metadata": {},
   "outputs": [],
   "source": [
    "# %%time\n",
    "# import os\n",
    "# import pickle\n",
    "# import time\n",
    "\n",
    "# nltk_corpus_folder = './nltk_corpus/'\n",
    "# # spacy_corpus_path = 'spacy_corpus.txt'\n",
    "# TARGET_PATH = './text_data'\n",
    "# #monitor the file process\n",
    "# progress = 0\n",
    "# progress_count = 0\n",
    "\n",
    "# start_time = time.process_time()\n",
    "\n",
    "# if not os.path.exists(nltk_corpus_folder):\n",
    "#     os.makedirs(nltk_corpus_folder)\n",
    "    \n",
    "# for root, dirs, files in os.walk(TARGET_PATH):\n",
    "#     file_count = len(files)\n",
    "#     for f in files:\n",
    "#         token_set = set()\n",
    "#         progress += 1\n",
    "#         progress_count += 1\n",
    "#         count -= 1\n",
    "#         try:\n",
    "#             with open(root+'/'+f) as fr:\n",
    "#                 for line in fr:\n",
    "#                     tokens = nltkPreprocessing(line.lower())\n",
    "#                     for token in tokens:\n",
    "#                         token_set.add(token)\n",
    "#         except:\n",
    "#             print('Error while processing file: ', f)\n",
    "#         f_coupus = f.split('.')[0] + '_corpus.txt'\n",
    "#         with open(nltk_corpus_folder+f_coupus, 'wb+') as fw:\n",
    "#                 pickle.dump(token_set, fw)\n",
    "                \n",
    "#         if progress_count % 200 == 0:\n",
    "#             print('{0}% of total files has been processed'.format(round(progress/file_count*100), 2))\n",
    "#             print('running time: {0}'.format(time.process_time() - start_time))\n",
    "            \n",
    "#         if progress_count == file_count:\n",
    "#             print('all files has been processed')\n",
    "#         if count == 0:\n",
    "#             break\n",
    "               "
   ]
  }
 ],
 "metadata": {
  "kernelspec": {
   "display_name": "Python 3",
   "language": "python",
   "name": "python3"
  },
  "language_info": {
   "codemirror_mode": {
    "name": "ipython",
    "version": 3
   },
   "file_extension": ".py",
   "mimetype": "text/x-python",
   "name": "python",
   "nbconvert_exporter": "python",
   "pygments_lexer": "ipython3",
   "version": "3.6.6"
  }
 },
 "nbformat": 4,
 "nbformat_minor": 2
}
