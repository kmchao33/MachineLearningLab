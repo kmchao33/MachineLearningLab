{
 "cells": [
  {
   "cell_type": "code",
   "execution_count": 1,
   "metadata": {},
   "outputs": [
    {
     "name": "stderr",
     "output_type": "stream",
     "text": [
      "/opt/anaconda3/lib/python3.6/importlib/_bootstrap.py:219: RuntimeWarning: numpy.dtype size changed, may indicate binary incompatibility. Expected 96, got 88\n",
      "  return f(*args, **kwds)\n",
      "/opt/anaconda3/lib/python3.6/importlib/_bootstrap.py:219: RuntimeWarning: numpy.ufunc size changed, may indicate binary incompatibility. Expected 192, got 176\n",
      "  return f(*args, **kwds)\n",
      "/opt/anaconda3/lib/python3.6/importlib/_bootstrap.py:219: RuntimeWarning: numpy.dtype size changed, may indicate binary incompatibility. Expected 96, got 88\n",
      "  return f(*args, **kwds)\n",
      "/opt/anaconda3/lib/python3.6/importlib/_bootstrap.py:219: RuntimeWarning: numpy.ufunc size changed, may indicate binary incompatibility. Expected 192, got 176\n",
      "  return f(*args, **kwds)\n"
     ]
    }
   ],
   "source": [
    "%run TF-IDF_rawImplementation.ipynb"
   ]
  },
  {
   "cell_type": "code",
   "execution_count": 2,
   "metadata": {},
   "outputs": [
    {
     "name": "stdout",
     "output_type": "stream",
     "text": [
      "....................................................................................................CPU times: user 1.84 s, sys: 252 ms, total: 2.1 s\n",
      "Wall time: 1.28 s\n"
     ]
    }
   ],
   "source": [
    "%%time\n",
    "processed_doc_path = './LabShare/data/chui_ma/spacy_corpus'\n",
    "tf_idf, word2index, index2document, inv_doc_freq = tf_idf_PrerocessedDoc(processed_doc_path, 100)"
   ]
  },
  {
   "cell_type": "code",
   "execution_count": 3,
   "metadata": {},
   "outputs": [],
   "source": [
    "#defining the similarity function\n",
    "from scipy import spatial\n",
    "import numpy as np\n",
    "def similarity(u,v):\n",
    "    return 1 - spatial.distance.cosine(u, v)"
   ]
  },
  {
   "cell_type": "code",
   "execution_count": 4,
   "metadata": {},
   "outputs": [],
   "source": [
    "# preprocssing the query vector\n",
    "q = 'banken'\n",
    "query = []\n",
    "q_v = np.zeros(len(word2index))\n",
    "for w in q.split():\n",
    "    try:\n",
    "        q_v[word2index[w]]+=1\n",
    "        query.append(word2index[w])\n",
    "    except:\n",
    "        print('keywords not found')\n",
    "sum_ = np.sum(q_v)\n",
    "def normalize_query(i,sum_):\n",
    "    return 0.5+(0.5*i)/sum_\n",
    "norm_q = np.vectorize(normalize_query)\n",
    "q_v = norm_q(q_v,sum_)\n",
    "\n",
    "# normalizing the query\n",
    "q_v = np.multiply(q_v,inv_doc_freq)"
   ]
  },
  {
   "cell_type": "code",
   "execution_count": 5,
   "metadata": {},
   "outputs": [],
   "source": [
    "def find_top_k(k,doc_sim,index2document):\n",
    "    for doc,sim in sorted(doc_sim.items(),key = lambda x:x[1], reverse=True):\n",
    "        print (index2document[doc])\n",
    "        k-=1\n",
    "        if k==0:\n",
    "            break"
   ]
  },
  {
   "cell_type": "code",
   "execution_count": 8,
   "metadata": {},
   "outputs": [],
   "source": [
    "# latent semantic indexing (LSI)\n",
    "from numpy import linalg\n",
    "\n",
    "'''\n",
    "    query:indices of words appear in matrix\n",
    "    k:dimention of latent space\n",
    "'''\n",
    "\n",
    "def latent_semantic_indexing(query, tf_idf, k, topk, index2document):\n",
    "    doc_similarity = {}\n",
    "#     print(tf_idf)\n",
    "    u,s,v = linalg.svd(tf_idf)\n",
    "    u = u[:,:k]\n",
    "    s_ = np.zeros((k,k))\n",
    "    for i in range(k):\n",
    "        s_[i,i] = s[i]\n",
    "    v = v[:k,:]\n",
    "    q_v = np.zeros(len(word2index))\n",
    "    for q in query:\n",
    "        q_v[q]+=1\n",
    "    q_v = q_v.reshape(1,-1)\n",
    "    q_v = np.matmul(q_v,u)\n",
    "    s_ = linalg.inv(s_)\n",
    "    q_v = np.matmul(q_v,s_)\n",
    "    \n",
    "    for i in range(v.shape[1]):\n",
    "        sim = similarity(q_v,v[:,i])\n",
    "        doc_similarity[i] = sim \n",
    "    find_top_k(topk, doc_similarity,index2document)"
   ]
  },
  {
   "cell_type": "code",
   "execution_count": 7,
   "metadata": {},
   "outputs": [
    {
     "name": "stdout",
     "output_type": "stream",
     "text": [
      "WCM-AnnualReport-2011_corpus.txt\n",
      "RhoenKlinikum-AnnualReport-2013_corpus.txt\n",
      "HambornerReit-QuarterlyReport-2016-Q1_corpus.txt\n",
      "Bertrandt-AnnualReport-2015_corpus.txt\n",
      "Bertrandt-QuarterlyReport-2012-Q2_corpus.txt\n",
      "CPU times: user 16min 32s, sys: 32.9 s, total: 17min 5s\n",
      "Wall time: 4min 27s\n"
     ]
    }
   ],
   "source": [
    "%%time\n",
    "latent_semantic_indexing(query, tf_idf, 3, 5, index2document)"
   ]
  },
  {
   "cell_type": "code",
   "execution_count": null,
   "metadata": {},
   "outputs": [],
   "source": []
  }
 ],
 "metadata": {
  "kernelspec": {
   "display_name": "Python 3",
   "language": "python",
   "name": "python3"
  },
  "language_info": {
   "codemirror_mode": {
    "name": "ipython",
    "version": 3
   },
   "file_extension": ".py",
   "mimetype": "text/x-python",
   "name": "python",
   "nbconvert_exporter": "python",
   "pygments_lexer": "ipython3",
   "version": "3.6.6"
  }
 },
 "nbformat": 4,
 "nbformat_minor": 2
}
