{
 "cells": [
  {
   "cell_type": "markdown",
   "metadata": {},
   "source": [
    "### Configure Folder Structure\n",
    "\n",
    "This notebook intends to create a flexible folder structure, which aims to minimize the effort to change the folder path every time. "
   ]
  },
  {
   "cell_type": "markdown",
   "metadata": {},
   "source": [
    "#### 1. Create folders if not existing"
   ]
  },
  {
   "cell_type": "markdown",
   "metadata": {},
   "source": [
    "Folder Structure:\n",
    "    - Text_Mining_Lab (root folder)\n",
    "        - /json_data (original json files)\n",
    "        - /txt_data (converted txt files)\n",
    "        - /spacy_corpus (preprocessed files, dumped by pickle library)\n",
    "        - /executable_notebooks\n",
    "            - /01-..ipynb\n",
    "            ...\n",
    "            - /07-..ipynb\n",
    "            - /non_german_files.txt\n",
    "        - /bank_quarterly_report (sample of reports to test LDA model)"
   ]
  },
  {
   "cell_type": "code",
   "execution_count": null,
   "metadata": {},
   "outputs": [],
   "source": [
    "import os\n",
    "\n",
    "#create new folders if not existing\n",
    "folder_names = ['json_data', 'txt_data', 'spacy_corpus', 'executable_notebooks', 'bank_quarterly_report']\n",
    "for f_name in folder_names:\n",
    "    if not os.path.exists(f_name):\n",
    "        os.makedirs(f_name)\n",
    "        \n",
    "#move all executable notebooks to the folder \"executable_notebooks\"\n",
    "for root, dirs, files in os.walk('.'):\n",
    "    for f in files:\n",
    "        try:\n",
    "            new_path = 'executable_notebooks/' + f\n",
    "            os.rename(f, new_path)\n",
    "        except:\n",
    "            pass"
   ]
  },
  {
   "cell_type": "markdown",
   "metadata": {},
   "source": [
    "Please keep consistent with our folder structure. To begin with, make sure you have the **json_data** folder which contains all JSON files for business reports and  **executable_notebooks** folder which hold your executable jupyter notebooks. **To minimize effort to modify file path, Try to use relative path**\n",
    "\n",
    "**non_german_files.txt** : a list of file names whose business reports written in English, should be removed to avoid confusion. \n",
    "\n",
    "Next we try to convert original JSON file to TXT file in order to speed up processing progress. Go to [JSON To TXT](./executable_notebooks/01-Convert_JSON_to_TXT.ipynb)"
   ]
  },
  {
   "cell_type": "code",
   "execution_count": null,
   "metadata": {},
   "outputs": [],
   "source": []
  }
 ],
 "metadata": {
  "kernelspec": {
   "display_name": "Python 3",
   "language": "python",
   "name": "python3"
  },
  "language_info": {
   "codemirror_mode": {
    "name": "ipython",
    "version": 3
   },
   "file_extension": ".py",
   "mimetype": "text/x-python",
   "name": "python",
   "nbconvert_exporter": "python",
   "pygments_lexer": "ipython3",
   "version": "3.6.5"
  },
  "varInspector": {
   "cols": {
    "lenName": 16,
    "lenType": 16,
    "lenVar": 40
   },
   "kernels_config": {
    "python": {
     "delete_cmd_postfix": "",
     "delete_cmd_prefix": "del ",
     "library": "var_list.py",
     "varRefreshCmd": "print(var_dic_list())"
    },
    "r": {
     "delete_cmd_postfix": ") ",
     "delete_cmd_prefix": "rm(",
     "library": "var_list.r",
     "varRefreshCmd": "cat(var_dic_list()) "
    }
   },
   "types_to_exclude": [
    "module",
    "function",
    "builtin_function_or_method",
    "instance",
    "_Feature"
   ],
   "window_display": false
  }
 },
 "nbformat": 4,
 "nbformat_minor": 2
}
