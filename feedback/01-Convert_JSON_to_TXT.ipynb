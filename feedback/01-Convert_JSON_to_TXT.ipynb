{
 "cells": [
  {
   "cell_type": "markdown",
   "metadata": {},
   "source": [
    "## Convert JSON files to TXT files"
   ]
  },
  {
   "cell_type": "markdown",
   "metadata": {},
   "source": [
    "Since someone has already preprocessed all the original PDF files for business report, what we got is the human-readable JSON files, which is quite nice. Nevertheless, there are so much useless information inside. Therefore, we decide to extract useful information from JSON file and convert to TXT file, in order to speed up the processing speed."
   ]
  },
  {
   "cell_type": "code",
   "execution_count": 7,
   "metadata": {},
   "outputs": [
    {
     "data": {
      "text/plain": [
       "'/Users/xiaoqi/Github_Project/feedback'"
      ]
     },
     "execution_count": 7,
     "metadata": {},
     "output_type": "execute_result"
    }
   ],
   "source": [
    "import os\n",
    "cwd = os.getcwd()\n",
    "cwd"
   ]
  },
  {
   "cell_type": "code",
   "execution_count": 1,
   "metadata": {},
   "outputs": [],
   "source": [
    "#import packages\n",
    "import os\n",
    "import json"
   ]
  },
  {
   "cell_type": "markdown",
   "metadata": {},
   "source": [
    "#### 1. Configure file path"
   ]
  },
  {
   "cell_type": "markdown",
   "metadata": {},
   "source": [
    "Folder Structure:\n",
    "    - Text_Mining_Lab (root folder)\n",
    "        - /json_data (original json files)\n",
    "        - /txt_data (converted txt files)\n",
    "        - /spacy_corpus (preprocessed files, dumped by pickle library)\n",
    "        - /executable_notebooks\n",
    "            - /01-..ipynb\n",
    "            ...\n",
    "            - /07-..ipynb\n",
    "            - /non_german_files.txt\n",
    "        - /bank_quarterly_report (sample of reports to test LDA model)\n",
    "\n",
    "Please keep consistent with our folder structure. To begin with, make sure you have the **json_data** folder which contains all JSON files for business reports and  **executable_notebooks** folder which hold your executable jupyter notebooks. **To minimize effort to modify file path, Try to use relative path**\n",
    "\n",
    "**non_german_files.txt** : a list of file names whose business reports written in English, should be removed to avoid confusion. \n",
    "\n",
    "Please copy the **non_german_files.txt** from */home/bit/ma0/LabShare/data/non_german_files.txt* to the *executable_notebooks* folder"
   ]
  },
  {
   "cell_type": "markdown",
   "metadata": {},
   "source": [
    "<font color=\"blue\"/>\n",
    "\n",
    "### dsp:\n",
    "  * &#x1f642;  Nice that you documented the folder structure that you expect to precisely.\n",
    "  * It could be a bit more flexibel. I didn't try it this time."
   ]
  },
  {
   "cell_type": "code",
   "execution_count": 2,
   "metadata": {},
   "outputs": [],
   "source": [
    "#please modify the path\n",
    "\n",
    "#absolute path\n",
    "ABSOLUTE_SOURCE_PATH = '/home/bit/ma0/LabShare/data/chui_ma/json_data/'\n",
    "ABSOLUTE_TARGET_PATH = '/home/bit/ma0/LabShare/data/chui_ma/txt_data/' \n",
    "\n",
    "#relative path\n",
    "RELATIVE_SOURCE_PATH = '../json_data/'\n",
    "RELATIVE_TARGET_PATH = '../txt_data/'"
   ]
  },
  {
   "cell_type": "markdown",
   "metadata": {},
   "source": [
    "#### 2. Extract paragraphs from JSON files and write into TXT file"
   ]
  },
  {
   "cell_type": "markdown",
   "metadata": {},
   "source": [
    "From json files, only extract useful *content* whose type is *paragraph*. Meanwhile, set several variables to monitor the file conversion.\n",
    "- successful_files: list, save all files that have been successfully read or extract infomation\n",
    "- failure_files: list, save all files that fail to be read or extract infomation\n",
    "- progress: int, keep track the number of files that have been processed"
   ]
  },
  {
   "cell_type": "code",
   "execution_count": null,
   "metadata": {},
   "outputs": [],
   "source": [
    "%%time\n",
    "#keep track on the success/failure of files\n",
    "successful_files = []\n",
    "failure_files = []\n",
    "\n",
    "#monitor the file process\n",
    "progress = 0\n",
    "progress_count = 0\n",
    "\n",
    "if not os.path.exists(RELATIVE_TARGET_PATH):\n",
    "    #create target folder to save processed text\n",
    "    os.makedirs(RELATIVE_TARGET_PATH)\n",
    "    \n",
    "for root, dirs, files in os.walk(RELATIVE_SOURCE_PATH):\n",
    "    file_count = len(files)\n",
    "    for f in files:\n",
    "        progress += 1\n",
    "        progress_count += 1\n",
    "        try:\n",
    "            filename = RELATIVE_TARGET_PATH + f.split('.json')[0]\n",
    "            with open(root+'/'+f, 'r') as freader, open(filename, 'w') as fwriter:\n",
    "                #only extract 'content' from json file\n",
    "                for line in freader:\n",
    "                    try:\n",
    "                        obj = json.loads(line)\n",
    "                        if obj['type'] == 'paragraph':\n",
    "                            fwriter.write(obj['content'])\n",
    "                    except:\n",
    "                        #skip JSON decode error\n",
    "                        continue\n",
    "            successful_files.append(filename)\n",
    "        except:\n",
    "            failure_files.append(filename)\n",
    "        if progress_count % 200 == 0:\n",
    "            print('{:6.2%} of the total files has been processed'.format(progress/file_count), end='\\r')\n",
    "        if progress_count == file_count:\n",
    "            print('all files has been processed')\n",
    "        "
   ]
  },
  {
   "cell_type": "markdown",
   "metadata": {},
   "source": [
    "<font color=\"blue\"/>\n",
    "\n",
    "### dsp:\n",
    "  * &#x1f642; It is nice to get feedback during long running computations.\n",
    "  * Two minor tips:\n",
    "    * You may use '\\r' to update the same line again and again.\n",
    "    * Percentage computation is available as format specification. Thus your line could read:\n",
    "```python\n",
    "print('{:6.2%} of the total files has been processed'.format(progress/file_count), end='\\r')\n",
    "```\n",
    "  * Limiting the time spent on output and the amount of is, is often essential. I assume the reading here takes up enough time so that you could as well update the output for each file. (But I might be wrong.)\n",
    "  * The nesting level in this cell is a bit high. You might consider extracting parts into a separate function. E.g the \"only extract 'content' from json file\" part. But, it is up to your judgment."
   ]
  },
  {
   "cell_type": "code",
   "execution_count": 4,
   "metadata": {},
   "outputs": [
    {
     "name": "stdout",
     "output_type": "stream",
     "text": [
      "\n",
      "4443 files succesfully processed. 0 files failed.\n"
     ]
    }
   ],
   "source": [
    "#quick check on file success/failure\n",
    "print('{} files succesfully processed. {} files failed.'.format(len(successful_files), len(failure_files)))"
   ]
  },
  {
   "cell_type": "markdown",
   "metadata": {},
   "source": [
    "<font color=\"blue\"/>\n",
    "\n",
    "### dsp:\n",
    "  * The leading '\\n' should be unnecessary here.\n",
    "  * &#x1f642; Seprating the conversion step from the other steps is very reasonable for me!!! Everything that follows now can work on any textfile containing paragraphs as lines. Minor remarks:\n",
    "    * Some other groups make use of further information that is in the JSON file.\n",
    "    * You might want to extract the configuration information into a separate file, so that all notebooks that do not need to know of the JSON files do not need to know of this conversion Notebook as well.\n"
   ]
  }
 ],
 "metadata": {
  "kernelspec": {
   "display_name": "Python 3",
   "language": "python",
   "name": "python3"
  },
  "language_info": {
   "codemirror_mode": {
    "name": "ipython",
    "version": 3
   },
   "file_extension": ".py",
   "mimetype": "text/x-python",
   "name": "python",
   "nbconvert_exporter": "python",
   "pygments_lexer": "ipython3",
   "version": "3.6.5"
  },
  "varInspector": {
   "cols": {
    "lenName": 16,
    "lenType": 16,
    "lenVar": 40
   },
   "kernels_config": {
    "python": {
     "delete_cmd_postfix": "",
     "delete_cmd_prefix": "del ",
     "library": "var_list.py",
     "varRefreshCmd": "print(var_dic_list())"
    },
    "r": {
     "delete_cmd_postfix": ") ",
     "delete_cmd_prefix": "rm(",
     "library": "var_list.r",
     "varRefreshCmd": "cat(var_dic_list()) "
    }
   },
   "types_to_exclude": [
    "module",
    "function",
    "builtin_function_or_method",
    "instance",
    "_Feature"
   ],
   "window_display": false
  }
 },
 "nbformat": 4,
 "nbformat_minor": 2
}
