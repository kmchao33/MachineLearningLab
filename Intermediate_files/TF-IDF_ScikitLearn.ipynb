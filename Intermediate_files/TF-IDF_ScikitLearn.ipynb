{
 "cells": [
  {
   "cell_type": "code",
   "execution_count": 2,
   "metadata": {},
   "outputs": [],
   "source": [
    "#invoke preprocessing methods\n",
    "%run preprocessing.ipynb"
   ]
  },
  {
   "cell_type": "markdown",
   "metadata": {},
   "source": [
    "### Calculate TF-IDF using Scikit-Learn"
   ]
  },
  {
   "cell_type": "code",
   "execution_count": 19,
   "metadata": {},
   "outputs": [],
   "source": [
    "import os\n",
    "import json\n",
    "from sklearn.feature_extraction.text import TfidfVectorizer\n",
    "import pandas as pd\n",
    "\n",
    "'''\n",
    "    Processing the raw json documents\n",
    "    params: raw json documents folder\n",
    "    notice: run preprocessing.ipynb first, to make sure that preprocessing methods is equiped\n",
    "'''\n",
    "\n",
    "def scikit_tf_idf_rawDocument(raw_doc_path):\n",
    "    dictionary = set()\n",
    "    documents_list = []\n",
    "    files_list = []\n",
    "    for root, dirs, files in os.walk(raw_doc_path):\n",
    "        for f in files:\n",
    "            with open(root+'/'+f) as fs:\n",
    "                files_list.append(f)\n",
    "                print('.', end='')\n",
    "                words_list = ''\n",
    "                try:\n",
    "                    for line in fs:\n",
    "                        #loads json file, preprocess the content\n",
    "                        obj = json.loads(line)\n",
    "                        #only extract useful information [type--paragraph--content]\n",
    "                        textType = obj['type']\n",
    "                        if textType == 'paragraph':\n",
    "                            words = preprocessing_spacy(obj['content'])\n",
    "                            for word in words:\n",
    "                                dictionary.add(word)\n",
    "                                words_list += word + ' '\n",
    "                except:\n",
    "                    print ('Error while processing file: ', f)\n",
    "            documents_list.append(words_list)\n",
    "#     return dictionary, documents_list, files_list\n",
    "\n",
    "#     dictionary, documents_list, files_list = documentProcessing()\n",
    "    sklearn_vector = TfidfVectorizer(vocabulary=dictionary)\n",
    "    sklearn_tf_idf = sklearn_vector.fit_transform(documents_list)\n",
    "    return sklearn_vector, sklearn_tf_idf, files_list"
   ]
  },
  {
   "cell_type": "code",
   "execution_count": 20,
   "metadata": {},
   "outputs": [],
   "source": [
    "def sklearn_find_top_k_words(sklearn_vector, tf_idf, k, filenames):\n",
    "    document_freq_words = {}\n",
    "    corpus = sklearn_vector.get_feature_names()\n",
    "    for i in range(tf_idf.shape[1]):\n",
    "        freq_words = []\n",
    "        #get indices of k-maximum values in numpy column\n",
    "        index = np.argpartition(tf_idf[:, i], -k)[-k:]\n",
    "        for ind in index:\n",
    "            freq_words.append(corpus[ind])\n",
    "        document_freq_words[filenames[i].split('.')[0]] = freq_words\n",
    "        df = pd.DataFrame(document_freq_words)\n",
    "    return df"
   ]
  },
  {
   "cell_type": "markdown",
   "metadata": {},
   "source": [
    "### Find most frequent 10 keywords using Scikit-Learn tf-idf library"
   ]
  },
  {
   "cell_type": "code",
   "execution_count": 9,
   "metadata": {},
   "outputs": [
    {
     "name": "stdout",
     "output_type": "stream",
     "text": [
      ".......................CPU times: user 10min 17s, sys: 29.4 s, total: 10min 46s\n",
      "Wall time: 1min 20s\n"
     ]
    }
   ],
   "source": [
    "%%time\n",
    "#path for raw json documents\n",
    "raw_doc_path = '/home/bit/ma0/LabShare/data/three-companies/json'\n",
    "sklearn_vector, sklearn_tf_idf, files_list = scikit_tf_idf_rawDocument(raw_doc_path)\n",
    "sk_tf_idf = np.transpose(sklearn_tf_idf)\n",
    "# sklearn_find_top_k_words(sklearn_vector, sk_tf_idf.toarray(), 15, files_list)"
   ]
  },
  {
   "cell_type": "code",
   "execution_count": 10,
   "metadata": {},
   "outputs": [],
   "source": [
    "# sklearn_find_top_k_words(sklearn_vector, sk_tf_idf.toarray(), 15, files_list)"
   ]
  },
  {
   "cell_type": "markdown",
   "metadata": {},
   "source": [
    "### Calculate TF-IDF on preprocessed documents, to find most frequent words"
   ]
  },
  {
   "cell_type": "code",
   "execution_count": 46,
   "metadata": {},
   "outputs": [],
   "source": [
    "import pickle\n",
    "def scikit_tf_idf_PrerocessedDoc(processed_docu_path, document_limit):\n",
    "    dictionary = set()\n",
    "    documents_list = []\n",
    "    files_list = []\n",
    "    for root, dirs, files in os.walk(processed_docu_path):\n",
    "        for f in files:\n",
    "            document_limit -= 1\n",
    "            files_list.append(f)\n",
    "            print('.', end='')\n",
    "            words_list = ''\n",
    "            with open(root+'/'+f, 'rb') as fr:\n",
    "                try:\n",
    "                    words = pickle.load(fr)\n",
    "                    for word in words:\n",
    "                        dictionary.add(word)\n",
    "                        words_list += word + ' '\n",
    "                except:\n",
    "                    print ('Error while processing file: ', f)\n",
    "            \n",
    "            documents_list.append(words_list)\n",
    "#             print(len(dictionary))\n",
    "            if document_limit == 0:\n",
    "                break\n",
    "#     print(documents_list)\n",
    "    sklearn_vector = TfidfVectorizer(vocabulary=dictionary)\n",
    "    sklearn_tf_idf = sklearn_vector.fit_transform(documents_list)\n",
    "    return sklearn_vector, sklearn_tf_idf, files_list"
   ]
  },
  {
   "cell_type": "code",
   "execution_count": 61,
   "metadata": {},
   "outputs": [
    {
     "name": "stdout",
     "output_type": "stream",
     "text": [
      "CPU times: user 0 ns, sys: 0 ns, total: 0 ns\n",
      "Wall time: 11.7 µs\n"
     ]
    }
   ],
   "source": [
    "%%time\n",
    "#path for raw json documents\n",
    "# processed_doc_path = './LabShare/data/chui_ma/spacy_corpus'\n",
    "# new_sklearn_vector, new_sklearn_tf_idf, new_files_list = scikit_tf_idf_PrerocessedDoc(processed_doc_path, 100)\n",
    "# new_sk_tf_idf = np.transpose(new_sklearn_tf_idf)"
   ]
  },
  {
   "cell_type": "code",
   "execution_count": 64,
   "metadata": {},
   "outputs": [],
   "source": [
    "# %%time\n",
    "# sklearn_find_top_k_words(new_sklearn_vector, new_sk_tf_idf.toarray(), 15, new_files_list)"
   ]
  },
  {
   "cell_type": "code",
   "execution_count": 57,
   "metadata": {},
   "outputs": [],
   "source": [
    "# path = './LabShare/data/chui_ma/spacy_corpus/OSRAM-QuarterlyReport-2016-Q3_corpus.txt'\n",
    "# with open(path, 'rb') as f:\n",
    "#     s = pickle.load(f)\n",
    "# s"
   ]
  },
  {
   "cell_type": "code",
   "execution_count": null,
   "metadata": {},
   "outputs": [],
   "source": [
    "|"
   ]
  }
 ],
 "metadata": {
  "kernelspec": {
   "display_name": "Python 3",
   "language": "python",
   "name": "python3"
  },
  "language_info": {
   "codemirror_mode": {
    "name": "ipython",
    "version": 3
   },
   "file_extension": ".py",
   "mimetype": "text/x-python",
   "name": "python",
   "nbconvert_exporter": "python",
   "pygments_lexer": "ipython3",
   "version": "3.6.6"
  }
 },
 "nbformat": 4,
 "nbformat_minor": 2
}
