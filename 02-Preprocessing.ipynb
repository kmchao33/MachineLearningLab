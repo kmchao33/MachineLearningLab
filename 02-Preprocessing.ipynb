{
 "cells": [
  {
   "cell_type": "markdown",
   "metadata": {},
   "source": [
    "## File Preprocessing"
   ]
  },
  {
   "cell_type": "markdown",
   "metadata": {},
   "source": [
    "- remove digits\n",
    "- remove punctuations\n",
    "- tokenize sentences\n",
    "- remove stop words\n",
    "- stemming tokens\n",
    "- lemmatize words"
   ]
  },
  {
   "cell_type": "code",
   "execution_count": 2,
   "metadata": {},
   "outputs": [],
   "source": [
    "import nltk\n",
    "from nltk.corpus import stopwords\n",
    "from nltk.tokenize import word_tokenize\n",
    "from nltk.stem import PorterStemmer\n",
    "from nltk.stem import SnowballStemmer\n",
    "import spacy\n",
    "from sklearn.feature_extraction.text import CountVectorizer\n",
    "import numpy as np\n",
    "import re\n",
    "import warnings\n",
    "warnings.filterwarnings(\"ignore\") "
   ]
  },
  {
   "cell_type": "markdown",
   "metadata": {},
   "source": [
    "### Preprocessing using nltk pagages \n",
    "- more efficient than spacy\n",
    "- but lemmatization not good"
   ]
  },
  {
   "cell_type": "code",
   "execution_count": 3,
   "metadata": {},
   "outputs": [],
   "source": [
    "import string\n",
    "import nltk\n",
    "from nltk.corpus import stopwords\n",
    "from nltk.tokenize import word_tokenize\n",
    "from nltk.stem import PorterStemmer\n",
    "from nltk.stem import SnowballStemmer\n",
    "\n",
    "def nltkPreprocessing(text):\n",
    "    \n",
    "    #remove digits and some special symbols\n",
    "    dig_translator = str.maketrans('', '', '0123456789-/€®–„“|')\n",
    "    text = text.translate(dig_translator)\n",
    "    \n",
    "    #remove punctuation\n",
    "    str_translator = str.maketrans('', '', string.punctuation)\n",
    "    text = text.translate(str_translator).lower()\n",
    "    text = text.strip()\n",
    "    \n",
    "    #tokenize sentences\n",
    "    word_tokens = word_tokenize(text)\n",
    "    stop_words = stopwords.words('german')\n",
    "    \n",
    "    #remove stop words\n",
    "    filtered_tokens = [w.lower() for w in word_tokens if not w.lower() in stop_words]\n",
    "    \n",
    "    return filtered_tokens\n",
    "\n",
    "    #using PorterStemmer to stem the tokens (effect not good)\n",
    "#     ps = SnowballStemmer('german')\n",
    "#     stem_tokens = [ps.stem(w) for w in filtered_tokens]   \n",
    "#     return stem_tokens\n",
    "\n"
   ]
  },
  {
   "cell_type": "markdown",
   "metadata": {},
   "source": [
    "### Preprocessing using Spacy packages"
   ]
  },
  {
   "cell_type": "code",
   "execution_count": 4,
   "metadata": {},
   "outputs": [],
   "source": [
    "#load German language package in spacy\n",
    "warnings.filterwarnings(\"ignore\") \n",
    "nlp = spacy.load('de')\n",
    "\n",
    "def spacyPreprocessing(text): \n",
    "    \n",
    "    #remove digits and some special symbols\n",
    "    dig_translator = str.maketrans('', '', '0123456789-/€®–|')\n",
    "    text = text.translate(dig_translator)\n",
    "    \n",
    "    #tokenize texts\n",
    "    word_tokens = nlp(text.lower())\n",
    "    \n",
    "    word_tokens = [w for w in word_tokens if not w.is_stop] #remove stop words\n",
    "    word_tokens = [w for w in word_tokens if not w.is_punct]#remove punctuation\n",
    "    word_tokens = [w for w in word_tokens if not w.is_space]#remove space\n",
    "    word_tokens = [w for w in word_tokens if not w.is_currency]#remove currency\n",
    "    word_tokens = [w.lemma_ for w in word_tokens if not w.like_num]#remove num like, lemmatize words\n",
    "    \n",
    "    return word_tokens"
   ]
  },
  {
   "cell_type": "markdown",
   "metadata": {},
   "source": [
    "### Updated Preprocessing using Spacy packages\n",
    "- use spacy to tokenize text and preprocess text\n",
    "- use part-of-speech label to select just \"Noun\"\n",
    "- use CounterVector to count word frequency"
   ]
  },
  {
   "cell_type": "code",
   "execution_count": 5,
   "metadata": {},
   "outputs": [],
   "source": [
    "#load German language package in spacy, disable redundant functions\n",
    "warnings.filterwarnings(\"ignore\") \n",
    "german = spacy.load('de', disable=['parser', 'ner'])\n",
    "\n",
    "def preprocessing_spacy(text): \n",
    "    \n",
    "    MAXLEN = 999999 # max len processed by spaCy\n",
    "    # pos    = ['ADJ', 'ADV', 'NOUN', 'NUM', 'PROPN', 'VERB']\n",
    "    pos    = ['NOUN']\n",
    "    \n",
    "    german.vocab[\"%\"].is_punct = True\n",
    "    \n",
    "    text_len = len(text)\n",
    "    left = text_len\n",
    "    has_read = 0\n",
    "    document_contents = []\n",
    "    \n",
    "    while left > 0:\n",
    "        doc_model = None\n",
    "        if left-MAXLEN >= 0:\n",
    "            doc_model = german(text[0:MAXLEN])\n",
    "            has_read += MAXLEN\n",
    "            left -= MAXLEN\n",
    "        else:\n",
    "            doc_model = german(text[0:left])\n",
    "            left = 0\n",
    "        lemmata = [token.lemma_ for token in doc_model if token.pos_ in pos and not token.is_punct and not token.is_stop and not token.is_currency and not token.like_num]\n",
    "        document_contents.append(' '.join(lemmata))\n",
    "    \n",
    "    german_word = '[a-zA-ZäöüÄÖÜß][a-zA-ZäöüÄÖÜß0-9]{3,30}' # At least for characters long, at most 30 characters\n",
    "    #customized stop words\n",
    "    my_stop_words  = ['einer', 'eine', 'eines', 'einen', 'oder', 'aber', 'dass',  'teur', 'euro', 'eur', 'jahr', 'million', 'tausend', 'mio']\n",
    "    stop_words = stopwords.words('german')\n",
    "    stop_words.extend(my_stop_words)\n",
    "    \n",
    "    counter = CountVectorizer(analyzer='word', lowercase=True, \n",
    "                          token_pattern=german_word, stop_words=stop_words)\n",
    "\n",
    "    word_counts = counter.fit_transform(document_contents)\n",
    "    words       = counter.get_feature_names()\n",
    "    \n",
    "    rebuilt_doc = []\n",
    "    \n",
    "    for i in range(len(words)):\n",
    "        rebuilt_doc.extend([words[i]] * word_counts.toarray()[0][i])\n",
    "    return rebuilt_doc"
   ]
  },
  {
   "cell_type": "code",
   "execution_count": null,
   "metadata": {},
   "outputs": [],
   "source": []
  }
 ],
 "metadata": {
  "kernelspec": {
   "display_name": "Python 3",
   "language": "python",
   "name": "python3"
  },
  "language_info": {
   "codemirror_mode": {
    "name": "ipython",
    "version": 3
   },
   "file_extension": ".py",
   "mimetype": "text/x-python",
   "name": "python",
   "nbconvert_exporter": "python",
   "pygments_lexer": "ipython3",
   "version": "3.6.6"
  }
 },
 "nbformat": 4,
 "nbformat_minor": 2
}
