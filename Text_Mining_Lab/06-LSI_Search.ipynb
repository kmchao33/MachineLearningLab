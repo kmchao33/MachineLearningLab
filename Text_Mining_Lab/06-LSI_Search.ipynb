{
 "cells": [
  {
   "cell_type": "markdown",
   "metadata": {},
   "source": [
    "## LSI Search for related documents based on TF-IDF\n",
    "\n",
    "[Benefit of LSI](https://en.wikipedia.org/wiki/Latent_semantic_analysis#Benefits_of_LSI): LSI overcomes two of the most problematic constraints of Boolean keyword queries: multiple words that have similar meanings (synonymy) and words that have more than one meaning (polysemy)[1].\n",
    "\n",
    "First, we define the similarity score by cosine similarity, then we construct the query vector based on the tf_idf matrix, later by reducing the dimension, we get a k dimensional concept space. From that concept space, we can calculate a relevance scores for the query and each document, thus return the most relevant documents. \n",
    "\n",
    "**Reference:**\n",
    "\n",
    "[1] Wikipedia contributors. (2018, September 1). Latent semantic analysis. In Wikipedia, The Free Encyclopedia. Retrieved 10:48, September 20, 2018, from https://en.wikipedia.org/w/index.php?title=Latent_semantic_analysis&oldid=857577135"
   ]
  },
  {
   "cell_type": "markdown",
   "metadata": {},
   "source": [
    "<font color=\"blue\"/>\n",
    "\n",
    "### dsp:\n",
    "  * &#x1f642; Brief but nice description.\n",
    "  * \"k dimension concept space\" ~> \"k dimensional concept space\"\n",
    "  * \"we can rank the relevance score between the query and each document\" ~> \" we can calculate a relevance scores for the query and each document\"\n",
    "  * In the code below: There should be a space after a comma.\n",
    "  * &#x1f632; Oops. I just followed your link \"Benefit of LSI\" and recognized that you copied the sentence verbally from Wikipedia without giving the reference and showing that it is a quote. If you need help on quoting. Here is what a quick Google search gave me: https://writing.wisc.edu/Handbook/QPA_quoting.html"
   ]
  },
  {
   "cell_type": "markdown",
   "metadata": {},
   "source": [
    "#### 1. Run 04-TF-IDF_Raw_Implementation.ipynb first, to make sure tf-idf implementation can be invoked"
   ]
  },
  {
   "cell_type": "code",
   "execution_count": 1,
   "metadata": {},
   "outputs": [
    {
     "name": "stdout",
     "output_type": "stream",
     "text": [
      "........................................................................................................................................................................................................\n",
      "\n"
     ]
    },
    {
     "name": "stderr",
     "output_type": "stream",
     "text": [
      "04-TF-IDF_Raw_Implementation.ipynb:53: RuntimeWarning: divide by zero encountered in true_divide\n",
      "  \"    - word2index: dict, key:word (str), value:index (int)\\n\",\n",
      "04-TF-IDF_Raw_Implementation.ipynb:53: RuntimeWarning: invalid value encountered in true_divide\n",
      "  \"    - word2index: dict, key:word (str), value:index (int)\\n\",\n"
     ]
    },
    {
     "name": "stdout",
     "output_type": "stream",
     "text": [
      "CPU times: user 2.63 s, sys: 260 ms, total: 2.89 s\n",
      "Wall time: 2.24 s\n"
     ]
    }
   ],
   "source": [
    "%run 04-TF-IDF_Raw_Implementation.ipynb"
   ]
  },
  {
   "cell_type": "code",
   "execution_count": 2,
   "metadata": {},
   "outputs": [],
   "source": [
    "import numpy as np\n",
    "from numpy import linalg\n",
    "\n",
    "from scipy import spatial\n",
    "\n",
    "import matplotlib.pyplot as plt\n",
    "from matplotlib import colors"
   ]
  },
  {
   "cell_type": "markdown",
   "metadata": {},
   "source": [
    "<font color=\"blue\"/>\n",
    "\n",
    "### dsp:\n",
    "  * Better sort order: 1) numpy, 2) scipy, 3) matplotlib"
   ]
  },
  {
   "cell_type": "code",
   "execution_count": 3,
   "metadata": {},
   "outputs": [],
   "source": [
    "# defining the similarity function\n",
    "def similarity(u, v):\n",
    "    return 1 - spatial.distance.cosine(u, v)"
   ]
  },
  {
   "cell_type": "markdown",
   "metadata": {},
   "source": [
    "#### Find most related documents according to a list of keywords\n",
    "- params: \n",
    "    - doc_sim: dict, key:index of the document, value:similarity of this specific document to those keywords\n",
    "    - index2document: dict, key:document name (str), value:index (int)\n",
    "- variables: \n",
    "    - related_doc: dict, key:document name, value: similarity of this document to those keywords"
   ]
  },
  {
   "cell_type": "code",
   "execution_count": 4,
   "metadata": {},
   "outputs": [],
   "source": [
    "def get_doc_relevance(doc_sim, index2document):\n",
    "    related_doc = {}\n",
    "    for doc, sim in sorted(doc_sim.items(), key=lambda x: x[1], reverse=True):\n",
    "        related_doc[index2document[doc]] = sim\n",
    "    return related_doc"
   ]
  },
  {
   "cell_type": "markdown",
   "metadata": {},
   "source": [
    "<font color=\"blue\"/>\n",
    "\n",
    "### dsp:\n",
    "  * I am surprised that a Python dictionary keeps the insertion order, but you seem to be right about that. &#x1f642;"
   ]
  },
  {
   "cell_type": "markdown",
   "metadata": {},
   "source": [
    "#### 2. Run LSI\n",
    "Latent semantic analysis  is a technique in natural language processing, in particular distributional semantics, of analyzing relationships between a set of documents and the terms they contain by producing a set of concepts related to the documents and terms. \n",
    "\n",
    "*prerequisite*: run [TF-IDF](04-TF-IDF_Raw_Implementation.ipynb), in order to invoke tf_idf_prerocessed_doc function!\n",
    "\n",
    "- params: \n",
    "    - q: query (str)\n",
    "    - k: k-concept space\n",
    "    - tf_idf: matrix obtained after invoking function: tf_idf_prerocessed_doc(processed_doc_path, 200)\n",
    "    - word2index: dict, obtained after invoking function: tf_idf_prerocessed_doc(processed_doc_path, 200)\n",
    "    - index2documtn: dict, obtained after invoking function: tf_idf_prerocessed_doc(processed_doc_path, 200)\n",
    "- variables: \n",
    "    - u, s, v: result of Singular value decomposition on tf-idf matrix\n",
    "    - q_k: query vector -- q is mapped to the k-concept space,\n",
    "        \n",
    "        $q_k=q^{T}U_k\\Sigma^{-1}_{k}$ --> $q_k = q.T.dot(u).dot(s.inv())$\n",
    "        \n",
    "    - doc_similarity: dict, key:index of the document, value:similarity of this specific document to those keywords"
   ]
  },
  {
   "cell_type": "markdown",
   "metadata": {},
   "source": [
    "<font color=\"blue\"/>\n",
    "\n",
    "### dsp:\n",
    "  * &#x1f642; Nice to have LSI as well.\n",
    "  * You should describe the parameters independently of other functions, otherwise the user will not be able to use the function without using `tf_idf_PrerocessedDoc`. You may nevertheless mention that `tf_idf_PrerocessedDoc` is one source for the required parameters.\n",
    "  * Is this $q_v$ on both sides of the equation?"
   ]
  },
  {
   "cell_type": "code",
   "execution_count": 5,
   "metadata": {},
   "outputs": [],
   "source": [
    "def latent_semantic_indexing(q, tf_idf, k, word2index, index2document):\n",
    "\n",
    "    # preprocssing the query vector\n",
    "    query = []\n",
    "    doc_similarity = {}\n",
    "\n",
    "    q_v = np.zeros(len(word2index))\n",
    "    for w in q.split():\n",
    "        try:\n",
    "            q_v[word2index[w]] += 1\n",
    "            query.append(word2index[w])\n",
    "        except:\n",
    "            pass\n",
    "#             print('keywords not found')\n",
    "\n",
    "    u, s, v = linalg.svd(tf_idf)\n",
    "    u = u[:, :k]\n",
    "    s_ = np.zeros((k, k))\n",
    "\n",
    "    for i in range(k):\n",
    "        s_[i, i] = s[i]\n",
    "    v = v[:k, :]\n",
    "    \n",
    "    q_v = q_v.reshape(1, -1)\n",
    "    q_v = np.matmul(q_v, u)\n",
    "    s_ = linalg.inv(s_)\n",
    "    q_v = np.matmul(q_v, s_)\n",
    "\n",
    "    for i in range(v.shape[1]):\n",
    "        sim = similarity(q_v, v[:, i])\n",
    "        doc_similarity[i] = sim\n",
    "    related_doc = get_doc_relevance(doc_similarity, index2document)\n",
    "\n",
    "    return related_doc"
   ]
  },
  {
   "cell_type": "markdown",
   "metadata": {},
   "source": [
    "<font color=\"blue\"/>\n",
    "\n",
    "### dsp:\n",
    "  * You fill `q_v` twice.\n",
    "  * You may write the matrix calcuation more similar to $q^{T}U_k\\Sigma^{-1}_{k}$: With some care it should be `q.T.dot(u).dot(s.inv())`.\n",
    "  * If a keyword is not found, a silent fail might be OK. But decide on your own."
   ]
  },
  {
   "cell_type": "code",
   "execution_count": 8,
   "metadata": {},
   "outputs": [
    {
     "name": "stdout",
     "output_type": "stream",
     "text": [
      "....................\n",
      "\n",
      "CPU times: user 226 ms, sys: 11 ms, total: 237 ms\n",
      "Wall time: 165 ms\n"
     ]
    }
   ],
   "source": [
    "%%time\n",
    "# please modify the relative path\n",
    "# processed_doc_path = '/home/bit/ma0/LabShare/data/chui_ma/spacy_corpus/'\n",
    "processed_doc_path = '../spacy_corpus/'\n",
    "tf_idf, word2index, index2document, inv_doc_freq = tf_idf_prerocessed_doc(processed_doc_path, 20)"
   ]
  },
  {
   "cell_type": "code",
   "execution_count": 9,
   "metadata": {},
   "outputs": [
    {
     "name": "stdout",
     "output_type": "stream",
     "text": [
      "CPU times: user 26.1 s, sys: 2.1 s, total: 28.2 s\n",
      "Wall time: 8.02 s\n"
     ]
    }
   ],
   "source": [
    "%%time\n",
    "# get related documents with relevance score\n",
    "q = 'auto autobahn frankfurt'\n",
    "related_doc = latent_semantic_indexing(q, tf_idf, 10, word2index, index2document)"
   ]
  },
  {
   "cell_type": "markdown",
   "metadata": {},
   "source": [
    "#### Wrap the result with pandas DataFrame, and Coloring the table"
   ]
  },
  {
   "cell_type": "code",
   "execution_count": 10,
   "metadata": {},
   "outputs": [],
   "source": [
    "def getRelatedDocuments(related_doc):\n",
    "\n",
    "    def background_gradient(s, m, M, cmap='PuBu', low=0, high=0):\n",
    "        rng = M - m\n",
    "        norm = colors.Normalize(m - (rng * low),\n",
    "                                M + (rng * high))\n",
    "        normed = norm(s.values)\n",
    "        c = [colors.rgb2hex(x) for x in plt.cm.get_cmap(cmap)(normed)]\n",
    "        return ['background-color: %s' % color for color in c]\n",
    "\n",
    "    df = pd.DataFrame(related_doc, index=['relevance score'])\n",
    "    df = df.transpose()\n",
    "    return df.style.apply(background_gradient,\n",
    "                          cmap='PuBu',\n",
    "                          m=df.min().min(),\n",
    "                          M=df.max().max(),\n",
    "                          low=0,\n",
    "                          high=0.2)"
   ]
  },
  {
   "cell_type": "markdown",
   "metadata": {},
   "source": [
    "<font color=\"blue\"/>\n",
    "\n",
    "### dsp:\n",
    "  * I do not understand the name of the function. You could see this function as a generic method to display a dictionary containig numerical values.\n",
    "  * The coloring did not work for me, but I did not run the Notebook.\n",
    "  * &#x1f642; Great that you covered LSI as well.\n",
    "  * Have you tried searching in paragraphs? It is hard to judge whether these documents are really related to the query. It might be more convincing to show paragraphs as search results.\n",
    "  * Do a plain keyword search on your matches. If you actually find that \"metzingen\", \"kollektion\", \"valentino\", \"permira\" are _not_ in these documents, it would underline the importance of LSI."
   ]
  },
  {
   "cell_type": "code",
   "execution_count": 11,
   "metadata": {
    "scrolled": false
   },
   "outputs": [
    {
     "data": {
      "text/html": [
       "<style  type=\"text/css\" >\n",
       "    #T_accc3812_bcfe_11e8_ad47_060034d9c501row0_col0 {\n",
       "            background-color:  #046198;\n",
       "        }    #T_accc3812_bcfe_11e8_ad47_060034d9c501row1_col0 {\n",
       "            background-color:  #046198;\n",
       "        }    #T_accc3812_bcfe_11e8_ad47_060034d9c501row2_col0 {\n",
       "            background-color:  #0567a1;\n",
       "        }    #T_accc3812_bcfe_11e8_ad47_060034d9c501row3_col0 {\n",
       "            background-color:  #056aa6;\n",
       "        }    #T_accc3812_bcfe_11e8_ad47_060034d9c501row4_col0 {\n",
       "            background-color:  #0a73b2;\n",
       "        }    #T_accc3812_bcfe_11e8_ad47_060034d9c501row5_col0 {\n",
       "            background-color:  #2383ba;\n",
       "        }    #T_accc3812_bcfe_11e8_ad47_060034d9c501row6_col0 {\n",
       "            background-color:  #2987bc;\n",
       "        }    #T_accc3812_bcfe_11e8_ad47_060034d9c501row7_col0 {\n",
       "            background-color:  #2a88bc;\n",
       "        }    #T_accc3812_bcfe_11e8_ad47_060034d9c501row8_col0 {\n",
       "            background-color:  #328dbf;\n",
       "        }    #T_accc3812_bcfe_11e8_ad47_060034d9c501row9_col0 {\n",
       "            background-color:  #71a8ce;\n",
       "        }    #T_accc3812_bcfe_11e8_ad47_060034d9c501row10_col0 {\n",
       "            background-color:  #d2d2e7;\n",
       "        }    #T_accc3812_bcfe_11e8_ad47_060034d9c501row11_col0 {\n",
       "            background-color:  #eae6f1;\n",
       "        }    #T_accc3812_bcfe_11e8_ad47_060034d9c501row12_col0 {\n",
       "            background-color:  #f0eaf4;\n",
       "        }    #T_accc3812_bcfe_11e8_ad47_060034d9c501row13_col0 {\n",
       "            background-color:  #f2ecf5;\n",
       "        }    #T_accc3812_bcfe_11e8_ad47_060034d9c501row14_col0 {\n",
       "            background-color:  #fbf3f9;\n",
       "        }    #T_accc3812_bcfe_11e8_ad47_060034d9c501row15_col0 {\n",
       "            background-color:  #fbf3f9;\n",
       "        }    #T_accc3812_bcfe_11e8_ad47_060034d9c501row16_col0 {\n",
       "            background-color:  #fbf4f9;\n",
       "        }    #T_accc3812_bcfe_11e8_ad47_060034d9c501row17_col0 {\n",
       "            background-color:  #fdf5fa;\n",
       "        }    #T_accc3812_bcfe_11e8_ad47_060034d9c501row18_col0 {\n",
       "            background-color:  #fff7fb;\n",
       "        }    #T_accc3812_bcfe_11e8_ad47_060034d9c501row19_col0 {\n",
       "            background-color:  #fff7fb;\n",
       "        }</style>  \n",
       "<table id=\"T_accc3812_bcfe_11e8_ad47_060034d9c501\" > \n",
       "<thead>    <tr> \n",
       "        <th class=\"blank level0\" ></th> \n",
       "        <th class=\"col_heading level0 col0\" >relevance score</th> \n",
       "    </tr></thead> \n",
       "<tbody>    <tr> \n",
       "        <th id=\"T_accc3812_bcfe_11e8_ad47_060034d9c501level0_row0\" class=\"row_heading level0 row0\" >DIC-Asset-AnnualReport-2014</th> \n",
       "        <td id=\"T_accc3812_bcfe_11e8_ad47_060034d9c501row0_col0\" class=\"data row0 col0\" >0.971754</td> \n",
       "    </tr>    <tr> \n",
       "        <th id=\"T_accc3812_bcfe_11e8_ad47_060034d9c501level0_row1\" class=\"row_heading level0 row1\" >DIC-Asset-AnnualReport-2013</th> \n",
       "        <td id=\"T_accc3812_bcfe_11e8_ad47_060034d9c501row1_col0\" class=\"data row1 col0\" >0.971081</td> \n",
       "    </tr>    <tr> \n",
       "        <th id=\"T_accc3812_bcfe_11e8_ad47_060034d9c501level0_row2\" class=\"row_heading level0 row2\" >Fraport-QuarterlyReport-2016-Q1</th> \n",
       "        <td id=\"T_accc3812_bcfe_11e8_ad47_060034d9c501row2_col0\" class=\"data row2 col0\" >0.93491</td> \n",
       "    </tr>    <tr> \n",
       "        <th id=\"T_accc3812_bcfe_11e8_ad47_060034d9c501level0_row3\" class=\"row_heading level0 row3\" >DeutscheWohnen-AnnualReport-2016</th> \n",
       "        <td id=\"T_accc3812_bcfe_11e8_ad47_060034d9c501row3_col0\" class=\"data row3 col0\" >0.910891</td> \n",
       "    </tr>    <tr> \n",
       "        <th id=\"T_accc3812_bcfe_11e8_ad47_060034d9c501level0_row4\" class=\"row_heading level0 row4\" >Eventim-AnnualReport-2014</th> \n",
       "        <td id=\"T_accc3812_bcfe_11e8_ad47_060034d9c501row4_col0\" class=\"data row4 col0\" >0.851511</td> \n",
       "    </tr>    <tr> \n",
       "        <th id=\"T_accc3812_bcfe_11e8_ad47_060034d9c501level0_row5\" class=\"row_heading level0 row5\" >DeutscheBank-QuarterlyReport-2013-Q3</th> \n",
       "        <td id=\"T_accc3812_bcfe_11e8_ad47_060034d9c501row5_col0\" class=\"data row5 col0\" >0.776819</td> \n",
       "    </tr>    <tr> \n",
       "        <th id=\"T_accc3812_bcfe_11e8_ad47_060034d9c501level0_row6\" class=\"row_heading level0 row6\" >Bayer-QuarterlyReport-2014-Q3</th> \n",
       "        <td id=\"T_accc3812_bcfe_11e8_ad47_060034d9c501row6_col0\" class=\"data row6 col0\" >0.755609</td> \n",
       "    </tr>    <tr> \n",
       "        <th id=\"T_accc3812_bcfe_11e8_ad47_060034d9c501level0_row7\" class=\"row_heading level0 row7\" >BASF-QuarterlyReport-2017-Q1</th> \n",
       "        <td id=\"T_accc3812_bcfe_11e8_ad47_060034d9c501row7_col0\" class=\"data row7 col0\" >0.752401</td> \n",
       "    </tr>    <tr> \n",
       "        <th id=\"T_accc3812_bcfe_11e8_ad47_060034d9c501level0_row8\" class=\"row_heading level0 row8\" >Daimler-QuarterlyReport-2014-Q2</th> \n",
       "        <td id=\"T_accc3812_bcfe_11e8_ad47_060034d9c501row8_col0\" class=\"data row8 col0\" >0.72748</td> \n",
       "    </tr>    <tr> \n",
       "        <th id=\"T_accc3812_bcfe_11e8_ad47_060034d9c501level0_row9\" class=\"row_heading level0 row9\" >Deutz-QuarterlyReport-2013-Q2</th> \n",
       "        <td id=\"T_accc3812_bcfe_11e8_ad47_060034d9c501row9_col0\" class=\"data row9 col0\" >0.569965</td> \n",
       "    </tr>    <tr> \n",
       "        <th id=\"T_accc3812_bcfe_11e8_ad47_060034d9c501level0_row10\" class=\"row_heading level0 row10\" >BayWa-QuarterlyReport-2015-Q2</th> \n",
       "        <td id=\"T_accc3812_bcfe_11e8_ad47_060034d9c501row10_col0\" class=\"data row10 col0\" >0.248722</td> \n",
       "    </tr>    <tr> \n",
       "        <th id=\"T_accc3812_bcfe_11e8_ad47_060034d9c501level0_row11\" class=\"row_heading level0 row11\" >Biotest-QuarterlyReport-2016-Q3</th> \n",
       "        <td id=\"T_accc3812_bcfe_11e8_ad47_060034d9c501row11_col0\" class=\"data row11 col0\" >0.115629</td> \n",
       "    </tr>    <tr> \n",
       "        <th id=\"T_accc3812_bcfe_11e8_ad47_060034d9c501level0_row12\" class=\"row_heading level0 row12\" >Deutsche_Euroshop-QuarterlyReport-2010-Q2</th> \n",
       "        <td id=\"T_accc3812_bcfe_11e8_ad47_060034d9c501row12_col0\" class=\"data row12 col0\" >0.0764778</td> \n",
       "    </tr>    <tr> \n",
       "        <th id=\"T_accc3812_bcfe_11e8_ad47_060034d9c501level0_row13\" class=\"row_heading level0 row13\" >Bechtle-QuarterlyReport-2015-Q2</th> \n",
       "        <td id=\"T_accc3812_bcfe_11e8_ad47_060034d9c501row13_col0\" class=\"data row13 col0\" >0.051194</td> \n",
       "    </tr>    <tr> \n",
       "        <th id=\"T_accc3812_bcfe_11e8_ad47_060034d9c501level0_row14\" class=\"row_heading level0 row14\" >Aixtron-QuarterlyReport-2011-Q1</th> \n",
       "        <td id=\"T_accc3812_bcfe_11e8_ad47_060034d9c501row14_col0\" class=\"data row14 col0\" >-0.0168939</td> \n",
       "    </tr>    <tr> \n",
       "        <th id=\"T_accc3812_bcfe_11e8_ad47_060034d9c501level0_row15\" class=\"row_heading level0 row15\" >Cancom-QuarterlyReport-2011-Q3</th> \n",
       "        <td id=\"T_accc3812_bcfe_11e8_ad47_060034d9c501row15_col0\" class=\"data row15 col0\" >-0.0173948</td> \n",
       "    </tr>    <tr> \n",
       "        <th id=\"T_accc3812_bcfe_11e8_ad47_060034d9c501level0_row16\" class=\"row_heading level0 row16\" >CarlZeissMeditec-QuarterlyReport-2012-Q1</th> \n",
       "        <td id=\"T_accc3812_bcfe_11e8_ad47_060034d9c501row16_col0\" class=\"data row16 col0\" >-0.0183736</td> \n",
       "    </tr>    <tr> \n",
       "        <th id=\"T_accc3812_bcfe_11e8_ad47_060034d9c501level0_row17\" class=\"row_heading level0 row17\" >Fresenius-QuarterlyReport-2017-Q1</th> \n",
       "        <td id=\"T_accc3812_bcfe_11e8_ad47_060034d9c501row17_col0\" class=\"data row17 col0\" >-0.0364422</td> \n",
       "    </tr>    <tr> \n",
       "        <th id=\"T_accc3812_bcfe_11e8_ad47_060034d9c501level0_row18\" class=\"row_heading level0 row18\" >Freenet-QuarterlyReport-2011-Q1</th> \n",
       "        <td id=\"T_accc3812_bcfe_11e8_ad47_060034d9c501row18_col0\" class=\"data row18 col0\" >-0.0507409</td> \n",
       "    </tr>    <tr> \n",
       "        <th id=\"T_accc3812_bcfe_11e8_ad47_060034d9c501level0_row19\" class=\"row_heading level0 row19\" >Adidas-QuarterlyReport-2011-Q2</th> \n",
       "        <td id=\"T_accc3812_bcfe_11e8_ad47_060034d9c501row19_col0\" class=\"data row19 col0\" >-0.0510053</td> \n",
       "    </tr></tbody> \n",
       "</table> "
      ],
      "text/plain": [
       "<pandas.io.formats.style.Styler at 0x114923e80>"
      ]
     },
     "execution_count": 11,
     "metadata": {},
     "output_type": "execute_result"
    }
   ],
   "source": [
    "getRelatedDocuments(related_doc)"
   ]
  },
  {
   "cell_type": "code",
   "execution_count": null,
   "metadata": {},
   "outputs": [],
   "source": []
  }
 ],
 "metadata": {
  "kernelspec": {
   "display_name": "Python 3",
   "language": "python",
   "name": "python3"
  },
  "language_info": {
   "codemirror_mode": {
    "name": "ipython",
    "version": 3
   },
   "file_extension": ".py",
   "mimetype": "text/x-python",
   "name": "python",
   "nbconvert_exporter": "python",
   "pygments_lexer": "ipython3",
   "version": "3.6.5"
  },
  "varInspector": {
   "cols": {
    "lenName": 16,
    "lenType": 16,
    "lenVar": 40
   },
   "kernels_config": {
    "python": {
     "delete_cmd_postfix": "",
     "delete_cmd_prefix": "del ",
     "library": "var_list.py",
     "varRefreshCmd": "print(var_dic_list())"
    },
    "r": {
     "delete_cmd_postfix": ") ",
     "delete_cmd_prefix": "rm(",
     "library": "var_list.r",
     "varRefreshCmd": "cat(var_dic_list()) "
    }
   },
   "types_to_exclude": [
    "module",
    "function",
    "builtin_function_or_method",
    "instance",
    "_Feature"
   ],
   "window_display": false
  }
 },
 "nbformat": 4,
 "nbformat_minor": 2
}
