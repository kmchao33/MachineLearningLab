{
 "cells": [
  {
   "cell_type": "markdown",
   "metadata": {},
   "source": [
    "## File Preprocessing\n",
    "\n",
    "### Text Preprocessing\n",
    "- remove digits\n",
    "- remove punctuations\n",
    "- tokenize sentences\n",
    "- remove stop words\n",
    "- stemming tokens\n",
    "- lemmatize words"
   ]
  },
  {
   "cell_type": "code",
   "execution_count": 3,
   "metadata": {},
   "outputs": [],
   "source": [
    "import nltk\n",
    "from nltk.corpus import stopwords\n",
    "from nltk.tokenize import word_tokenize\n",
    "from nltk.stem import PorterStemmer\n",
    "from nltk.stem import SnowballStemmer\n",
    "import warnings\n",
    "warnings.filterwarnings(\"ignore\", category=DeprecationWarning) "
   ]
  },
  {
   "cell_type": "markdown",
   "metadata": {},
   "source": [
    "### Preprocessing using nltk pagages"
   ]
  },
  {
   "cell_type": "code",
   "execution_count": 2,
   "metadata": {},
   "outputs": [],
   "source": [
    "import string\n",
    "import nltk\n",
    "from nltk.corpus import stopwords\n",
    "from nltk.tokenize import word_tokenize\n",
    "from nltk.stem import PorterStemmer\n",
    "from nltk.stem import SnowballStemmer\n",
    "\n",
    "def nltkPreprocessing(text):\n",
    "    \n",
    "    #remove digits\n",
    "    dig_translator = str.maketrans('', '', '0123456789-/€®–„“|')\n",
    "    text = text.translate(dig_translator)\n",
    "    \n",
    "    #remove punctuation\n",
    "    str_translator = str.maketrans('', '', string.punctuation)\n",
    "    text = text.translate(str_translator).lower()\n",
    "    text = text.strip()\n",
    "    \n",
    "    #tokenize sentences\n",
    "    word_tokens = word_tokenize(text)\n",
    "    stop_words = stopwords.words('german')\n",
    "    \n",
    "    #remove stop words\n",
    "    filtered_tokens = [w.lower() for w in word_tokens if not w.lower() in stop_words]\n",
    "    \n",
    "    #using PorterStemmer to stem the tokens (effect not good)\n",
    "#     ps = SnowballStemmer('german')\n",
    "#     stem_tokens = [ps.stem(w) for w in filtered_tokens]\n",
    "    \n",
    "    return filtered_tokens\n",
    "#     return stem_tokens\n",
    "\n"
   ]
  },
  {
   "cell_type": "markdown",
   "metadata": {},
   "source": [
    "### Preprocessing using Spacy packages"
   ]
  },
  {
   "cell_type": "code",
   "execution_count": 3,
   "metadata": {},
   "outputs": [
    {
     "name": "stderr",
     "output_type": "stream",
     "text": [
      "/opt/anaconda3/lib/python3.6/importlib/_bootstrap.py:219: RuntimeWarning: numpy.dtype size changed, may indicate binary incompatibility. Expected 96, got 88\n",
      "  return f(*args, **kwds)\n",
      "/opt/anaconda3/lib/python3.6/importlib/_bootstrap.py:219: RuntimeWarning: numpy.ufunc size changed, may indicate binary incompatibility. Expected 192, got 176\n",
      "  return f(*args, **kwds)\n",
      "/opt/anaconda3/lib/python3.6/importlib/_bootstrap.py:219: RuntimeWarning: numpy.dtype size changed, may indicate binary incompatibility. Expected 96, got 88\n",
      "  return f(*args, **kwds)\n",
      "/opt/anaconda3/lib/python3.6/importlib/_bootstrap.py:219: RuntimeWarning: numpy.ufunc size changed, may indicate binary incompatibility. Expected 192, got 176\n",
      "  return f(*args, **kwds)\n"
     ]
    }
   ],
   "source": [
    "import spacy\n",
    "nlp = spacy.load('de')\n",
    "\n",
    "def spacyPreprocessing(text): \n",
    "    #remove digits\n",
    "    dig_translator = str.maketrans('', '', '0123456789-/€®–|')\n",
    "    text = text.translate(dig_translator)\n",
    "    #tokenize texts\n",
    "    word_tokens = nlp(text.lower())\n",
    "    word_tokens = [w for w in word_tokens if not w.is_stop] #remove stop words\n",
    "    word_tokens = [w for w in word_tokens if not w.is_punct]#remove punctuation\n",
    "    word_tokens = [w for w in word_tokens if not w.is_space]#remove space\n",
    "    word_tokens = [w for w in word_tokens if not w.is_currency]#remove currency\n",
    "    word_tokens = [w.lemma_ for w in word_tokens if not w.like_num]#remove num like, lemmatize words\n",
    "    return word_tokens"
   ]
  },
  {
   "cell_type": "markdown",
   "metadata": {},
   "source": [
    "### Updated Preprocessing using Spacy packages"
   ]
  },
  {
   "cell_type": "code",
   "execution_count": 11,
   "metadata": {},
   "outputs": [],
   "source": [
    "import spacy\n",
    "from nltk.corpus import stopwords\n",
    "from sklearn.feature_extraction.text import CountVectorizer\n",
    "import numpy as np\n",
    "import re\n",
    "\n",
    "MAXLEN = 999999 # max len processed by spaCy\n",
    "pos    = ['ADJ', 'ADV', 'NOUN', 'NUM', 'PROPN', 'VERB']\n",
    "german = spacy.load('de', disable=['parser', 'ner'])\n",
    "german.vocab[\"%\"].is_punct = True\n",
    "\n",
    "def preprocessing_spacy(text): \n",
    "    dig_translator = str.maketrans('', '', '-–')\n",
    "    text = text.translate(dig_translator)\n",
    "    \n",
    "    text_len = len(text)\n",
    "    left = text_len\n",
    "    \n",
    "    document_contents = []\n",
    "    while left >= 0:\n",
    "        doc_model = None\n",
    "        if left-MAXLEN >= 0:\n",
    "            doc_model = german(text[0:MAXLEN])\n",
    "        else:\n",
    "            doc_model = german(text[0:left])\n",
    "        lemmata = [token.lemma_ for token in doc_model if token.pos_ in pos and not token.is_punct and not token.is_stop and not token.is_currency and not token.like_num]\n",
    "        document_contents.append(' '.join(lemmata))\n",
    "        left -= MAXLEN\n",
    "    \n",
    "    german_word = '[a-zA-ZäöüÄÖÜß][a-zA-ZäöüÄÖÜß0-9]{2,}' # At least for characters long\n",
    "    my_stop_words  = ['einer', 'eine', 'eines', 'einen', 'oder', 'aber', 'dass',  'teur', 'euro', 'eur', 'jahr', 'million', 'tausend', 'mio']\n",
    "    stop_words = stopwords.words('german')\n",
    "    stop_words.extend(my_stop_words)\n",
    "    \n",
    "    counter = CountVectorizer(analyzer='word', lowercase=True, \n",
    "                          token_pattern=german_word, stop_words=stop_words)\n",
    "\n",
    "    word_counts = counter.fit_transform(document_contents)\n",
    "    words       = counter.get_feature_names()\n",
    "    \n",
    "    rebuilt_doc = []\n",
    "    \n",
    "    for i in range(len(words)):\n",
    "        rebuilt_doc.extend([words[i]] * word_counts.toarray()[0][i])\n",
    "    return rebuilt_doc"
   ]
  },
  {
   "cell_type": "code",
   "execution_count": null,
   "metadata": {},
   "outputs": [],
   "source": []
  }
 ],
 "metadata": {
  "kernelspec": {
   "display_name": "Python 3",
   "language": "python",
   "name": "python3"
  },
  "language_info": {
   "codemirror_mode": {
    "name": "ipython",
    "version": 3
   },
   "file_extension": ".py",
   "mimetype": "text/x-python",
   "name": "python",
   "nbconvert_exporter": "python",
   "pygments_lexer": "ipython3",
   "version": "3.6.6"
  }
 },
 "nbformat": 4,
 "nbformat_minor": 2
}
